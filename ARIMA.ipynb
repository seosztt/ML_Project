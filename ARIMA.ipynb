{
  "nbformat": 4,
  "nbformat_minor": 0,
  "metadata": {
    "colab": {
      "name": "ARIMA.ipynb",
      "provenance": [],
      "collapsed_sections": [],
      "include_colab_link": true
    },
    "kernelspec": {
      "name": "python3",
      "display_name": "Python 3"
    },
    "language_info": {
      "name": "python"
    }
  },
  "cells": [
    {
      "cell_type": "markdown",
      "metadata": {
        "id": "view-in-github",
        "colab_type": "text"
      },
      "source": [
        "<a href=\"https://colab.research.google.com/github/seosztt/ML_Project/blob/master/ARIMA.ipynb\" target=\"_parent\"><img src=\"https://colab.research.google.com/assets/colab-badge.svg\" alt=\"Open In Colab\"/></a>"
      ]
    },
    {
      "cell_type": "code",
      "metadata": {
        "colab": {
          "base_uri": "https://localhost:8080/"
        },
        "id": "EYyFvtGhZlDV",
        "outputId": "782efab6-c8f5-4224-e11d-31ba40f080fd"
      },
      "source": [
        "import pandas as pd\n",
        "import numpy as np\n",
        "import matplotlib.pyplot as plt\n",
        "import seaborn as sns\n",
        "from google.colab import drive\n",
        "\n",
        "import warnings\n",
        "warnings.filterwarnings('ignore')\n",
        "\n",
        "drive.mount('/content/drive')"
      ],
      "execution_count": null,
      "outputs": [
        {
          "output_type": "stream",
          "name": "stdout",
          "text": [
            "Mounted at /content/drive\n"
          ]
        }
      ]
    },
    {
      "cell_type": "code",
      "metadata": {
        "id": "mJWxl-77Z4Ub"
      },
      "source": [
        "DF1 = pd.read_excel('/content/drive/MyDrive/Colab Notebooks/datasets/양파.xlsx', thousands=',')"
      ],
      "execution_count": null,
      "outputs": []
    },
    {
      "cell_type": "code",
      "metadata": {
        "id": "S3fxPvYrZ4-0",
        "colab": {
          "base_uri": "https://localhost:8080/",
          "height": 418
        },
        "outputId": "f620e442-dd1e-40c1-c0e9-983aa7742a0d"
      },
      "source": [
        "DF1['도매가격(원/kg)'] = DF1['도매가격(원/kg)'].replace('-',0)\n",
        "DF1['도매가격(원/kg)'] = DF1['도매가격(원/kg)'].astype(float)\n",
        "DF1"
      ],
      "execution_count": null,
      "outputs": [
        {
          "output_type": "execute_result",
          "data": {
            "text/html": [
              "<div>\n",
              "<style scoped>\n",
              "    .dataframe tbody tr th:only-of-type {\n",
              "        vertical-align: middle;\n",
              "    }\n",
              "\n",
              "    .dataframe tbody tr th {\n",
              "        vertical-align: top;\n",
              "    }\n",
              "\n",
              "    .dataframe thead th {\n",
              "        text-align: right;\n",
              "    }\n",
              "</style>\n",
              "<table border=\"1\" class=\"dataframe\">\n",
              "  <thead>\n",
              "    <tr style=\"text-align: right;\">\n",
              "      <th></th>\n",
              "      <th>일자</th>\n",
              "      <th>품목</th>\n",
              "      <th>품종</th>\n",
              "      <th>시장</th>\n",
              "      <th>법인</th>\n",
              "      <th>광역산지</th>\n",
              "      <th>시군산지</th>\n",
              "      <th>도매가격(원/kg)</th>\n",
              "      <th>거래량(톤)</th>\n",
              "      <th>거래금액(백만원)</th>\n",
              "    </tr>\n",
              "  </thead>\n",
              "  <tbody>\n",
              "    <tr>\n",
              "      <th>0</th>\n",
              "      <td>2021-10-07</td>\n",
              "      <td>양파</td>\n",
              "      <td>양파(일반)</td>\n",
              "      <td>대구북부도매</td>\n",
              "      <td>효성청과</td>\n",
              "      <td>경남</td>\n",
              "      <td>창녕</td>\n",
              "      <td>751.427317</td>\n",
              "      <td>22.77</td>\n",
              "      <td>17.11</td>\n",
              "    </tr>\n",
              "    <tr>\n",
              "      <th>1</th>\n",
              "      <td>2021-10-07</td>\n",
              "      <td>양파</td>\n",
              "      <td>양파(일반)</td>\n",
              "      <td>대구북부도매</td>\n",
              "      <td>효성청과</td>\n",
              "      <td>경남</td>\n",
              "      <td>합천</td>\n",
              "      <td>714.854269</td>\n",
              "      <td>18.49</td>\n",
              "      <td>13.22</td>\n",
              "    </tr>\n",
              "    <tr>\n",
              "      <th>2</th>\n",
              "      <td>2021-10-07</td>\n",
              "      <td>양파</td>\n",
              "      <td>양파(일반)</td>\n",
              "      <td>대구북부도매</td>\n",
              "      <td>효성청과</td>\n",
              "      <td>경북</td>\n",
              "      <td>고령</td>\n",
              "      <td>696.811539</td>\n",
              "      <td>10.54</td>\n",
              "      <td>7.34</td>\n",
              "    </tr>\n",
              "    <tr>\n",
              "      <th>3</th>\n",
              "      <td>2021-10-07</td>\n",
              "      <td>양파</td>\n",
              "      <td>양파(일반)</td>\n",
              "      <td>대구북부도매</td>\n",
              "      <td>효성청과</td>\n",
              "      <td>경북</td>\n",
              "      <td>영천</td>\n",
              "      <td>792.929293</td>\n",
              "      <td>7.92</td>\n",
              "      <td>6.28</td>\n",
              "    </tr>\n",
              "    <tr>\n",
              "      <th>4</th>\n",
              "      <td>2021-10-07</td>\n",
              "      <td>양파</td>\n",
              "      <td>양파(일반)</td>\n",
              "      <td>대구북부도매</td>\n",
              "      <td>대구중앙청과</td>\n",
              "      <td>대구</td>\n",
              "      <td>달성</td>\n",
              "      <td>584.558824</td>\n",
              "      <td>2.72</td>\n",
              "      <td>1.59</td>\n",
              "    </tr>\n",
              "    <tr>\n",
              "      <th>...</th>\n",
              "      <td>...</td>\n",
              "      <td>...</td>\n",
              "      <td>...</td>\n",
              "      <td>...</td>\n",
              "      <td>...</td>\n",
              "      <td>...</td>\n",
              "      <td>...</td>\n",
              "      <td>...</td>\n",
              "      <td>...</td>\n",
              "      <td>...</td>\n",
              "    </tr>\n",
              "    <tr>\n",
              "      <th>247167</th>\n",
              "      <td>2014-01-03</td>\n",
              "      <td>양파</td>\n",
              "      <td>저장양파</td>\n",
              "      <td>서울가락도매</td>\n",
              "      <td>한국청과</td>\n",
              "      <td>경북</td>\n",
              "      <td>경산</td>\n",
              "      <td>786.583333</td>\n",
              "      <td>12.00</td>\n",
              "      <td>9.44</td>\n",
              "    </tr>\n",
              "    <tr>\n",
              "      <th>247168</th>\n",
              "      <td>2014-01-03</td>\n",
              "      <td>양파</td>\n",
              "      <td>저장양파</td>\n",
              "      <td>서울가락도매</td>\n",
              "      <td>동화청과</td>\n",
              "      <td>경남</td>\n",
              "      <td>창녕</td>\n",
              "      <td>665.000000</td>\n",
              "      <td>11.80</td>\n",
              "      <td>7.85</td>\n",
              "    </tr>\n",
              "    <tr>\n",
              "      <th>247169</th>\n",
              "      <td>2014-01-03</td>\n",
              "      <td>양파</td>\n",
              "      <td>자주양파</td>\n",
              "      <td>서울가락도매</td>\n",
              "      <td>한국청과</td>\n",
              "      <td>전남</td>\n",
              "      <td>무안</td>\n",
              "      <td>1209.448819</td>\n",
              "      <td>1.52</td>\n",
              "      <td>1.84</td>\n",
              "    </tr>\n",
              "    <tr>\n",
              "      <th>247170</th>\n",
              "      <td>2014-01-03</td>\n",
              "      <td>양파</td>\n",
              "      <td>자주양파</td>\n",
              "      <td>서울가락도매</td>\n",
              "      <td>중앙청과</td>\n",
              "      <td>전남</td>\n",
              "      <td>무안</td>\n",
              "      <td>1225.000000</td>\n",
              "      <td>0.77</td>\n",
              "      <td>0.94</td>\n",
              "    </tr>\n",
              "    <tr>\n",
              "      <th>247171</th>\n",
              "      <td>2014-01-03</td>\n",
              "      <td>양파</td>\n",
              "      <td>자주양파</td>\n",
              "      <td>서울가락도매</td>\n",
              "      <td>한국청과</td>\n",
              "      <td>경북</td>\n",
              "      <td>문경</td>\n",
              "      <td>1480.000000</td>\n",
              "      <td>0.50</td>\n",
              "      <td>0.74</td>\n",
              "    </tr>\n",
              "  </tbody>\n",
              "</table>\n",
              "<p>247172 rows × 10 columns</p>\n",
              "</div>"
            ],
            "text/plain": [
              "               일자  품목      품종      시장  ... 시군산지   도매가격(원/kg) 거래량(톤)  거래금액(백만원)\n",
              "0      2021-10-07  양파  양파(일반)  대구북부도매  ...   창녕   751.427317  22.77      17.11\n",
              "1      2021-10-07  양파  양파(일반)  대구북부도매  ...   합천   714.854269  18.49      13.22\n",
              "2      2021-10-07  양파  양파(일반)  대구북부도매  ...   고령   696.811539  10.54       7.34\n",
              "3      2021-10-07  양파  양파(일반)  대구북부도매  ...   영천   792.929293   7.92       6.28\n",
              "4      2021-10-07  양파  양파(일반)  대구북부도매  ...   달성   584.558824   2.72       1.59\n",
              "...           ...  ..     ...     ...  ...  ...          ...    ...        ...\n",
              "247167 2014-01-03  양파    저장양파  서울가락도매  ...   경산   786.583333  12.00       9.44\n",
              "247168 2014-01-03  양파    저장양파  서울가락도매  ...   창녕   665.000000  11.80       7.85\n",
              "247169 2014-01-03  양파    자주양파  서울가락도매  ...   무안  1209.448819   1.52       1.84\n",
              "247170 2014-01-03  양파    자주양파  서울가락도매  ...   무안  1225.000000   0.77       0.94\n",
              "247171 2014-01-03  양파    자주양파  서울가락도매  ...   문경  1480.000000   0.50       0.74\n",
              "\n",
              "[247172 rows x 10 columns]"
            ]
          },
          "metadata": {},
          "execution_count": 4
        }
      ]
    },
    {
      "cell_type": "code",
      "metadata": {
        "colab": {
          "base_uri": "https://localhost:8080/",
          "height": 385
        },
        "id": "P8rsn-bxyd4Z",
        "outputId": "b9040234-4993-4f3a-b524-356b48b39de0"
      },
      "source": [
        "plt.figure(figsize = (9,6))\n",
        "boxplot = DF1.boxplot(column = ['도매가격(원/kg)'])\n",
        "plt.show()"
      ],
      "execution_count": null,
      "outputs": [
        {
          "output_type": "display_data",
          "data": {
            "image/png": "[encoded data removed]",
            "text/plain": [
              "<Figure size 648x432 with 1 Axes>"
            ]
          },
          "metadata": {
            "needs_background": "light"
          }
        }
      ]
    },
    {
      "cell_type": "code",
      "metadata": {
        "colab": {
          "base_uri": "https://localhost:8080/"
        },
        "id": "Fv9P4hXByusg",
        "outputId": "6f993656-0fa9-4c33-e469-90666ec0d718"
      },
      "source": [
        "#이상치 처리\n",
        "quartile_1 = DF1['도매가격(원/kg)'].quantile(0.25)\n",
        "quartile_3 = DF1['도매가격(원/kg)'].quantile(0.75)\n",
        "IQR = quartile_3 - quartile_1\n",
        "search_df = DF1[(DF1['도매가격(원/kg)'] < (quartile_1 - 5 * IQR)) | (DF1['도매가격(원/kg)'] > (quartile_3 + 5 * IQR))]\n",
        "print(search_df)"
      ],
      "execution_count": null,
      "outputs": [
        {
          "output_type": "stream",
          "name": "stdout",
          "text": [
            "               일자  품목      품종      시장  ...  시군산지    도매가격(원/kg) 거래량(톤)  거래금액(백만원)\n",
            "787    2021-10-01  양파  양파(일반)    진주도매  ...    진주  1.600000e+04  0.001       0.02\n",
            "1467   2021-09-18  양파      기타    천안도매  ...  서울중구  3.750000e+03  0.020       0.08\n",
            "3376   2021-09-03  양파      기타    포항도매  ...    영천  1.000000e+04  0.090       0.90\n",
            "4581   2021-08-24  양파    자주양파    포항도매  ...    영천  1.375000e+04  0.008       0.11\n",
            "5306   2021-08-18  양파    저장양파  서울강서도매  ...    함양  2.664769e+06  0.005      13.32\n",
            "...           ...  ..     ...     ...  ...   ...           ...    ...        ...\n",
            "210997 2017-02-01  양파      기타    구리도매  ...    구리  3.389300e+03  0.050       0.17\n",
            "222416 2016-04-02  양파     깐양파    안산도매  ...    서산  3.400000e+03  0.010       0.03\n",
            "245249 2014-04-09  양파    자주양파  서울가락도매  ...    무안  4.041667e+03  0.070       0.29\n",
            "245449 2014-04-03  양파    자주양파  서울가락도매  ...    무안  3.631579e+03  0.680       2.48\n",
            "245487 2014-04-02  양파    자주양파  서울가락도매  ...    함양  3.892535e+03  0.580       2.24\n",
            "\n",
            "[519 rows x 10 columns]\n"
          ]
        }
      ]
    },
    {
      "cell_type": "code",
      "metadata": {
        "colab": {
          "base_uri": "https://localhost:8080/"
        },
        "id": "ws6ihKZC3-nE",
        "outputId": "ea0dfbd2-8808-4ef4-8fe4-9767d455efe9"
      },
      "source": [
        "DF1 = DF1.drop(search_df.index, axis = 0)\n",
        "print(DF1)"
      ],
      "execution_count": null,
      "outputs": [
        {
          "output_type": "stream",
          "name": "stdout",
          "text": [
            "               일자  품목      품종      시장  ... 시군산지   도매가격(원/kg) 거래량(톤)  거래금액(백만원)\n",
            "0      2021-10-07  양파  양파(일반)  대구북부도매  ...   창녕   751.427317  22.77      17.11\n",
            "1      2021-10-07  양파  양파(일반)  대구북부도매  ...   합천   714.854269  18.49      13.22\n",
            "2      2021-10-07  양파  양파(일반)  대구북부도매  ...   고령   696.811539  10.54       7.34\n",
            "3      2021-10-07  양파  양파(일반)  대구북부도매  ...   영천   792.929293   7.92       6.28\n",
            "4      2021-10-07  양파  양파(일반)  대구북부도매  ...   달성   584.558824   2.72       1.59\n",
            "...           ...  ..     ...     ...  ...  ...          ...    ...        ...\n",
            "247167 2014-01-03  양파    저장양파  서울가락도매  ...   경산   786.583333  12.00       9.44\n",
            "247168 2014-01-03  양파    저장양파  서울가락도매  ...   창녕   665.000000  11.80       7.85\n",
            "247169 2014-01-03  양파    자주양파  서울가락도매  ...   무안  1209.448819   1.52       1.84\n",
            "247170 2014-01-03  양파    자주양파  서울가락도매  ...   무안  1225.000000   0.77       0.94\n",
            "247171 2014-01-03  양파    자주양파  서울가락도매  ...   문경  1480.000000   0.50       0.74\n",
            "\n",
            "[246653 rows x 10 columns]\n"
          ]
        }
      ]
    },
    {
      "cell_type": "code",
      "metadata": {
        "id": "VXxZd2HdaApW"
      },
      "source": [
        "# row마다 거래량이 다르기 때문에 단순히 일자별로 groupby해서 도매가격 평균 내면 실제 하루 평균 도매가격과 다르다.\n",
        "# DF2 = DF1.groupby('일자').mean()\n",
        "# 하루 거래금액 합계를 하루 거래량 합계로 나누면 하루 평균 도매가격이다.\n",
        "DF2 = DF1.groupby('일자').sum()\n",
        "DF2['도매가격']=(DF2['거래금액(백만원)']*1000)/DF2['거래량(톤)']\n",
        "DF2.drop(columns=['도매가격(원/kg)'], inplace=True)"
      ],
      "execution_count": null,
      "outputs": []
    },
    {
      "cell_type": "code",
      "metadata": {
        "colab": {
          "base_uri": "https://localhost:8080/",
          "height": 235
        },
        "id": "W7rtdsUwSJRd",
        "outputId": "45133e5b-cd0a-43db-c475-772af6af79c2"
      },
      "source": [
        "DF2.head()"
      ],
      "execution_count": null,
      "outputs": [
        {
          "output_type": "execute_result",
          "data": {
            "text/html": [
              "<div>\n",
              "<style scoped>\n",
              "    .dataframe tbody tr th:only-of-type {\n",
              "        vertical-align: middle;\n",
              "    }\n",
              "\n",
              "    .dataframe tbody tr th {\n",
              "        vertical-align: top;\n",
              "    }\n",
              "\n",
              "    .dataframe thead th {\n",
              "        text-align: right;\n",
              "    }\n",
              "</style>\n",
              "<table border=\"1\" class=\"dataframe\">\n",
              "  <thead>\n",
              "    <tr style=\"text-align: right;\">\n",
              "      <th></th>\n",
              "      <th>거래량(톤)</th>\n",
              "      <th>거래금액(백만원)</th>\n",
              "      <th>도매가격</th>\n",
              "    </tr>\n",
              "    <tr>\n",
              "      <th>일자</th>\n",
              "      <th></th>\n",
              "      <th></th>\n",
              "      <th></th>\n",
              "    </tr>\n",
              "  </thead>\n",
              "  <tbody>\n",
              "    <tr>\n",
              "      <th>2014-01-03</th>\n",
              "      <td>991.01</td>\n",
              "      <td>725.48</td>\n",
              "      <td>732.061230</td>\n",
              "    </tr>\n",
              "    <tr>\n",
              "      <th>2014-01-04</th>\n",
              "      <td>533.11</td>\n",
              "      <td>399.97</td>\n",
              "      <td>750.257921</td>\n",
              "    </tr>\n",
              "    <tr>\n",
              "      <th>2014-01-06</th>\n",
              "      <td>981.93</td>\n",
              "      <td>699.03</td>\n",
              "      <td>711.893923</td>\n",
              "    </tr>\n",
              "    <tr>\n",
              "      <th>2014-01-07</th>\n",
              "      <td>662.89</td>\n",
              "      <td>481.38</td>\n",
              "      <td>726.183831</td>\n",
              "    </tr>\n",
              "    <tr>\n",
              "      <th>2014-01-08</th>\n",
              "      <td>649.53</td>\n",
              "      <td>451.31</td>\n",
              "      <td>694.825489</td>\n",
              "    </tr>\n",
              "  </tbody>\n",
              "</table>\n",
              "</div>"
            ],
            "text/plain": [
              "            거래량(톤)  거래금액(백만원)        도매가격\n",
              "일자                                       \n",
              "2014-01-03  991.01     725.48  732.061230\n",
              "2014-01-04  533.11     399.97  750.257921\n",
              "2014-01-06  981.93     699.03  711.893923\n",
              "2014-01-07  662.89     481.38  726.183831\n",
              "2014-01-08  649.53     451.31  694.825489"
            ]
          },
          "metadata": {},
          "execution_count": 9
        }
      ]
    },
    {
      "cell_type": "code",
      "metadata": {
        "colab": {
          "base_uri": "https://localhost:8080/",
          "height": 374
        },
        "id": "e5q5YD8Iu86B",
        "outputId": "4ed69efe-4a08-4beb-ae81-2019e4bd70ef"
      },
      "source": [
        "#이상치 탐지 \n",
        "plt.figure(figsize = (9,6))\n",
        "boxplot = DF2.boxplot(column = ['도매가격'])\n",
        "plt.show()"
      ],
      "execution_count": null,
      "outputs": [
        {
          "output_type": "display_data",
          "data": {
            "image/png": "[encoded data removed]",
            "text/plain": [
              "<Figure size 648x432 with 1 Axes>"
            ]
          },
          "metadata": {
            "needs_background": "light"
          }
        }
      ]
    },
    {
      "cell_type": "code",
      "metadata": {
        "colab": {
          "base_uri": "https://localhost:8080/"
        },
        "id": "iGhOrWGValOF",
        "outputId": "2ff20523-68fc-4214-b1b9-9d61b744e749"
      },
      "source": [
        "DF3 = DF2['도매가격']\n",
        "DF3"
      ],
      "execution_count": null,
      "outputs": [
        {
          "output_type": "execute_result",
          "data": {
            "text/plain": [
              "일자\n",
              "2014-01-03    732.061230\n",
              "2014-01-04    750.257921\n",
              "2014-01-06    711.893923\n",
              "2014-01-07    726.183831\n",
              "2014-01-08    694.825489\n",
              "                 ...    \n",
              "2021-10-02    807.133038\n",
              "2021-10-04    833.134110\n",
              "2021-10-05    851.458806\n",
              "2021-10-06    887.809457\n",
              "2021-10-07    874.892206\n",
              "Name: 도매가격, Length: 2398, dtype: float64"
            ]
          },
          "metadata": {},
          "execution_count": 15
        }
      ]
    },
    {
      "cell_type": "code",
      "metadata": {
        "id": "W6uQ84CB3qgn"
      },
      "source": [
        "from sklearn.model_selection import train_test_split\n",
        "train_data , test_data = train_test_split(DF3, test_size = 0.4, shuffle = False)"
      ],
      "execution_count": null,
      "outputs": []
    },
    {
      "cell_type": "code",
      "metadata": {
        "colab": {
          "base_uri": "https://localhost:8080/"
        },
        "id": "VVtN9B73VaLa",
        "outputId": "f03257cc-584c-4e2b-eaeb-b8d79f2008d0"
      },
      "source": [
        "train_data"
      ],
      "execution_count": null,
      "outputs": [
        {
          "output_type": "execute_result",
          "data": {
            "text/plain": [
              "일자\n",
              "2014-01-03    732.061230\n",
              "2014-01-04    750.257921\n",
              "2014-01-06    711.893923\n",
              "2014-01-07    726.183831\n",
              "2014-01-08    694.825489\n",
              "                 ...    \n",
              "2018-08-23    601.272179\n",
              "2018-08-24    595.689911\n",
              "2018-08-25    654.400350\n",
              "2018-08-27    645.582722\n",
              "2018-08-28    630.879904\n",
              "Name: 도매가격, Length: 1438, dtype: float64"
            ]
          },
          "metadata": {},
          "execution_count": 115
        }
      ]
    },
    {
      "cell_type": "code",
      "metadata": {
        "colab": {
          "base_uri": "https://localhost:8080/",
          "height": 417
        },
        "id": "ShbR7gI-4ECD",
        "outputId": "7205ed05-7a6c-4904-8f35-bc8c46bcc361"
      },
      "source": [
        "import statsmodels.api as sm\n",
        "fig, ax = plt.subplots(1,2, figsize = (9,6))\n",
        "fig.suptitle('Raw Data')\n",
        "sm.graphics.tsa.plot_acf(train_data.values.squeeze(), lags = 30, ax = ax[0])\n",
        "sm.graphics.tsa.plot_pacf(train_data.values.squeeze(), lags = 30, ax = ax[1]);"
      ],
      "execution_count": null,
      "outputs": [
        {
          "output_type": "display_data",
          "data": {
            "image/png": "[encoded data removed]",
            "text/plain": [
              "<Figure size 648x432 with 2 Axes>"
            ]
          },
          "metadata": {
            "needs_background": "light"
          }
        }
      ]
    },
    {
      "cell_type": "code",
      "metadata": {
        "colab": {
          "base_uri": "https://localhost:8080/"
        },
        "id": "J2w-xyWe5Xhc",
        "outputId": "5d12bb2b-b357-403c-d4f0-dbf6418dc1bc"
      },
      "source": [
        "#비정상적인 데이터를 차분으로 정상적인 데이터를 만들어야 한다.\n",
        "# 차분은 현시점의 데이터에서 전 시점의 데이터를 뺀값이다.\n",
        "diff_train_data = train_data.copy()\n",
        "diff_train_data = diff_train_data.diff()\n",
        "#차분을 하게되면 맨앞과 맨뒤에 결치가 생겨 결측치를 제거하는 과정이 필요하다.\n",
        "diff_train_data = diff_train_data.dropna()\n",
        "print(train_data)\n",
        "print('*****************************')\n",
        "print(diff_train_data)"
      ],
      "execution_count": null,
      "outputs": [
        {
          "output_type": "stream",
          "name": "stdout",
          "text": [
            "일자\n",
            "2014-01-03    732.061230\n",
            "2014-01-04    750.257921\n",
            "2014-01-06    711.893923\n",
            "2014-01-07    726.183831\n",
            "2014-01-08    694.825489\n",
            "                 ...    \n",
            "2018-08-23    601.272179\n",
            "2018-08-24    595.689911\n",
            "2018-08-25    654.400350\n",
            "2018-08-27    645.582722\n",
            "2018-08-28    630.879904\n",
            "Name: 도매가격, Length: 1438, dtype: float64\n",
            "*****************************\n",
            "일자\n",
            "2014-01-04    18.196690\n",
            "2014-01-06   -38.363997\n",
            "2014-01-07    14.289908\n",
            "2014-01-08   -31.358342\n",
            "2014-01-09   -29.585100\n",
            "                ...    \n",
            "2018-08-23     3.697020\n",
            "2018-08-24    -5.582269\n",
            "2018-08-25    58.710439\n",
            "2018-08-27    -8.817628\n",
            "2018-08-28   -14.702818\n",
            "Name: 도매가격, Length: 1437, dtype: float64\n"
          ]
        }
      ]
    },
    {
      "cell_type": "code",
      "metadata": {
        "colab": {
          "base_uri": "https://localhost:8080/",
          "height": 374
        },
        "id": "K0QoaJP06hPC",
        "outputId": "7d891ecd-015b-4efc-ee9a-dbb55f3260d1"
      },
      "source": [
        "plt.figure(figsize = (9,6))\n",
        "plt.subplot(211)\n",
        "plt.plot(train_data)\n",
        "plt.legend('Raw Data')\n",
        "plt.subplot(212)\n",
        "plt.plot(diff_train_data)\n",
        "plt.legend('diff Data')\n",
        "plt.show()"
      ],
      "execution_count": null,
      "outputs": [
        {
          "output_type": "display_data",
          "data": {
            "image/png": "[encoded data removed]",
            "text/plain": [
              "<Figure size 648x432 with 2 Axes>"
            ]
          },
          "metadata": {
            "needs_background": "light"
          }
        }
      ]
    },
    {
      "cell_type": "code",
      "metadata": {
        "id": "pF1odXzQWiZ7",
        "colab": {
          "base_uri": "https://localhost:8080/",
          "height": 417
        },
        "outputId": "9d15c4d2-f1dd-4ff1-bc1c-f8d24b37c8ec"
      },
      "source": [
        "fig, ax = plt.subplots(1,2, figsize = (9,6))\n",
        "fig.suptitle('Diff Data')\n",
        "sm.graphics.tsa.plot_acf(diff_train_data.values.squeeze(), lags = 30, ax = ax[0])\n",
        "sm.graphics.tsa.plot_pacf(diff_train_data.values.squeeze(), lags = 30, ax = ax[1]);"
      ],
      "execution_count": null,
      "outputs": [
        {
          "output_type": "display_data",
          "data": {
            "image/png": "[encoded data removed]",
            "text/plain": [
              "<Figure size 648x432 with 2 Axes>"
            ]
          },
          "metadata": {
            "needs_background": "light"
          }
        }
      ]
    },
    {
      "cell_type": "code",
      "metadata": {
        "colab": {
          "base_uri": "https://localhost:8080/",
          "height": 287
        },
        "id": "41iyqZXLFSkm",
        "outputId": "b3759a65-6b91-4097-a492-92c211cd9510"
      },
      "source": [
        "model = ARIMA(diff_train_data.values, order=(1,1,0))\n",
        "model_fit = model.fit()\n",
        "model_fit.summary()"
      ],
      "execution_count": null,
      "outputs": [
        {
          "output_type": "execute_result",
          "data": {
            "text/html": [
              "<table class=\"simpletable\">\n",
              "<caption>ARIMA Model Results</caption>\n",
              "<tr>\n",
              "  <th>Dep. Variable:</th>        <td>D.y</td>       <th>  No. Observations:  </th>   <td>1436</td>   \n",
              "</tr>\n",
              "<tr>\n",
              "  <th>Model:</th>          <td>ARIMA(1, 1, 0)</td>  <th>  Log Likelihood     </th> <td>-8216.425</td>\n",
              "</tr>\n",
              "<tr>\n",
              "  <th>Method:</th>             <td>css-mle</td>     <th>  S.D. of innovations</th>  <td>73.894</td>  \n",
              "</tr>\n",
              "<tr>\n",
              "  <th>Date:</th>          <td>Tue, 12 Oct 2021</td> <th>  AIC                </th> <td>16438.849</td>\n",
              "</tr>\n",
              "<tr>\n",
              "  <th>Time:</th>              <td>07:11:46</td>     <th>  BIC                </th> <td>16454.658</td>\n",
              "</tr>\n",
              "<tr>\n",
              "  <th>Sample:</th>                <td>1</td>        <th>  HQIC               </th> <td>16444.751</td>\n",
              "</tr>\n",
              "<tr>\n",
              "  <th></th>                       <td> </td>        <th>                     </th>     <td> </td>    \n",
              "</tr>\n",
              "</table>\n",
              "<table class=\"simpletable\">\n",
              "<tr>\n",
              "      <td></td>         <th>coef</th>     <th>std err</th>      <th>z</th>      <th>P>|z|</th>  <th>[0.025</th>    <th>0.975]</th>  \n",
              "</tr>\n",
              "<tr>\n",
              "  <th>const</th>     <td>   -0.0059</td> <td>    1.196</td> <td>   -0.005</td> <td> 0.996</td> <td>   -2.350</td> <td>    2.338</td>\n",
              "</tr>\n",
              "<tr>\n",
              "  <th>ar.L1.D.y</th> <td>   -0.6307</td> <td>    0.020</td> <td>  -30.829</td> <td> 0.000</td> <td>   -0.671</td> <td>   -0.591</td>\n",
              "</tr>\n",
              "</table>\n",
              "<table class=\"simpletable\">\n",
              "<caption>Roots</caption>\n",
              "<tr>\n",
              "    <td></td>   <th>            Real</th>  <th>         Imaginary</th> <th>         Modulus</th>  <th>        Frequency</th>\n",
              "</tr>\n",
              "<tr>\n",
              "  <th>AR.1</th> <td>          -1.5856</td> <td>          +0.0000j</td> <td>           1.5856</td> <td>           0.5000</td>\n",
              "</tr>\n",
              "</table>"
            ],
            "text/plain": [
              "<class 'statsmodels.iolib.summary.Summary'>\n",
              "\"\"\"\n",
              "                             ARIMA Model Results                              \n",
              "==============================================================================\n",
              "Dep. Variable:                    D.y   No. Observations:                 1436\n",
              "Model:                 ARIMA(1, 1, 0)   Log Likelihood               -8216.425\n",
              "Method:                       css-mle   S.D. of innovations             73.894\n",
              "Date:                Tue, 12 Oct 2021   AIC                          16438.849\n",
              "Time:                        07:11:46   BIC                          16454.658\n",
              "Sample:                             1   HQIC                         16444.751\n",
              "                                                                              \n",
              "==============================================================================\n",
              "                 coef    std err          z      P>|z|      [0.025      0.975]\n",
              "------------------------------------------------------------------------------\n",
              "const         -0.0059      1.196     -0.005      0.996      -2.350       2.338\n",
              "ar.L1.D.y     -0.6307      0.020    -30.829      0.000      -0.671      -0.591\n",
              "                                    Roots                                    \n",
              "=============================================================================\n",
              "                  Real          Imaginary           Modulus         Frequency\n",
              "-----------------------------------------------------------------------------\n",
              "AR.1           -1.5856           +0.0000j            1.5856            0.5000\n",
              "-----------------------------------------------------------------------------\n",
              "\"\"\""
            ]
          },
          "metadata": {},
          "execution_count": 120
        }
      ]
    },
    {
      "cell_type": "code",
      "metadata": {
        "colab": {
          "base_uri": "https://localhost:8080/"
        },
        "id": "J-zRPXW-8oZq",
        "outputId": "e3df901b-c339-49c8-d2bc-c0b2909e1097"
      },
      "source": [
        "# 여러범위로 ARIMA 최적의 파라미터 선정해보기\n",
        "import itertools\n",
        "p = range(0,3)\n",
        "d = range(0,2)\n",
        "q = range(0,2)\n",
        "pdq = list(itertools.product(p,d,q))\n",
        "\n",
        "aic = []\n",
        "for i in pdq:\n",
        "    model = ARIMA(train_data.values, order=(i))\n",
        "    model_fit = model.fit()\n",
        "    print(f'ARIMA : {i} >> AIC : {round(model_fit.aic,2)}')\n",
        "    aic.append(round(model_fit.aic,2))"
      ],
      "execution_count": null,
      "outputs": [
        {
          "output_type": "stream",
          "name": "stdout",
          "text": [
            "ARIMA : (0, 0, 0) >> AIC : 20388.02\n",
            "ARIMA : (0, 0, 1) >> AIC : 18880.11\n",
            "ARIMA : (0, 1, 0) >> AIC : 15777.7\n",
            "ARIMA : (0, 1, 1) >> AIC : 15602.58\n",
            "ARIMA : (1, 0, 0) >> AIC : 15778.3\n",
            "ARIMA : (1, 0, 1) >> AIC : 15612.56\n",
            "ARIMA : (1, 1, 0) >> AIC : 15620.83\n",
            "ARIMA : (1, 1, 1) >> AIC : 15604.17\n",
            "ARIMA : (2, 0, 0) >> AIC : 15628.56\n",
            "ARIMA : (2, 0, 1) >> AIC : 15614.39\n",
            "ARIMA : (2, 1, 0) >> AIC : 15610.9\n",
            "ARIMA : (2, 1, 1) >> AIC : 15600.16\n"
          ]
        }
      ]
    },
    {
      "cell_type": "code",
      "metadata": {
        "colab": {
          "base_uri": "https://localhost:8080/",
          "height": 370
        },
        "id": "-IDPFjh3-vD-",
        "outputId": "6b8a474a-6d84-453e-f013-a9fb191722b8"
      },
      "source": [
        "model_opt = ARIMA(train_data.values, order=(2,1,1))\n",
        "model_opt_fit = model_opt.fit()\n",
        "model_opt_fit.summary()"
      ],
      "execution_count": null,
      "outputs": [
        {
          "output_type": "execute_result",
          "data": {
            "text/html": [
              "<table class=\"simpletable\">\n",
              "<caption>ARIMA Model Results</caption>\n",
              "<tr>\n",
              "  <th>Dep. Variable:</th>        <td>D.y</td>       <th>  No. Observations:  </th>   <td>1437</td>   \n",
              "</tr>\n",
              "<tr>\n",
              "  <th>Model:</th>          <td>ARIMA(2, 1, 1)</td>  <th>  Log Likelihood     </th> <td>-7795.082</td>\n",
              "</tr>\n",
              "<tr>\n",
              "  <th>Method:</th>             <td>css-mle</td>     <th>  S.D. of innovations</th>  <td>54.902</td>  \n",
              "</tr>\n",
              "<tr>\n",
              "  <th>Date:</th>          <td>Tue, 12 Oct 2021</td> <th>  AIC                </th> <td>15600.163</td>\n",
              "</tr>\n",
              "<tr>\n",
              "  <th>Time:</th>              <td>07:12:10</td>     <th>  BIC                </th> <td>15626.515</td>\n",
              "</tr>\n",
              "<tr>\n",
              "  <th>Sample:</th>                <td>1</td>        <th>  HQIC               </th> <td>15610.001</td>\n",
              "</tr>\n",
              "<tr>\n",
              "  <th></th>                       <td> </td>        <th>                     </th>     <td> </td>    \n",
              "</tr>\n",
              "</table>\n",
              "<table class=\"simpletable\">\n",
              "<tr>\n",
              "      <td></td>         <th>coef</th>     <th>std err</th>      <th>z</th>      <th>P>|z|</th>  <th>[0.025</th>    <th>0.975]</th>  \n",
              "</tr>\n",
              "<tr>\n",
              "  <th>const</th>     <td>   -0.0678</td> <td>    0.817</td> <td>   -0.083</td> <td> 0.934</td> <td>   -1.669</td> <td>    1.533</td>\n",
              "</tr>\n",
              "<tr>\n",
              "  <th>ar.L1.D.y</th> <td>    0.3188</td> <td>    0.092</td> <td>    3.480</td> <td> 0.001</td> <td>    0.139</td> <td>    0.498</td>\n",
              "</tr>\n",
              "<tr>\n",
              "  <th>ar.L2.D.y</th> <td>    0.1220</td> <td>    0.046</td> <td>    2.663</td> <td> 0.008</td> <td>    0.032</td> <td>    0.212</td>\n",
              "</tr>\n",
              "<tr>\n",
              "  <th>ma.L1.D.y</th> <td>   -0.6848</td> <td>    0.086</td> <td>   -7.970</td> <td> 0.000</td> <td>   -0.853</td> <td>   -0.516</td>\n",
              "</tr>\n",
              "</table>\n",
              "<table class=\"simpletable\">\n",
              "<caption>Roots</caption>\n",
              "<tr>\n",
              "    <td></td>   <th>            Real</th>  <th>         Imaginary</th> <th>         Modulus</th>  <th>        Frequency</th>\n",
              "</tr>\n",
              "<tr>\n",
              "  <th>AR.1</th> <td>           1.8408</td> <td>          +0.0000j</td> <td>           1.8408</td> <td>           0.0000</td>\n",
              "</tr>\n",
              "<tr>\n",
              "  <th>AR.2</th> <td>          -4.4546</td> <td>          +0.0000j</td> <td>           4.4546</td> <td>           0.5000</td>\n",
              "</tr>\n",
              "<tr>\n",
              "  <th>MA.1</th> <td>           1.4602</td> <td>          +0.0000j</td> <td>           1.4602</td> <td>           0.0000</td>\n",
              "</tr>\n",
              "</table>"
            ],
            "text/plain": [
              "<class 'statsmodels.iolib.summary.Summary'>\n",
              "\"\"\"\n",
              "                             ARIMA Model Results                              \n",
              "==============================================================================\n",
              "Dep. Variable:                    D.y   No. Observations:                 1437\n",
              "Model:                 ARIMA(2, 1, 1)   Log Likelihood               -7795.082\n",
              "Method:                       css-mle   S.D. of innovations             54.902\n",
              "Date:                Tue, 12 Oct 2021   AIC                          15600.163\n",
              "Time:                        07:12:10   BIC                          15626.515\n",
              "Sample:                             1   HQIC                         15610.001\n",
              "                                                                              \n",
              "==============================================================================\n",
              "                 coef    std err          z      P>|z|      [0.025      0.975]\n",
              "------------------------------------------------------------------------------\n",
              "const         -0.0678      0.817     -0.083      0.934      -1.669       1.533\n",
              "ar.L1.D.y      0.3188      0.092      3.480      0.001       0.139       0.498\n",
              "ar.L2.D.y      0.1220      0.046      2.663      0.008       0.032       0.212\n",
              "ma.L1.D.y     -0.6848      0.086     -7.970      0.000      -0.853      -0.516\n",
              "                                    Roots                                    \n",
              "=============================================================================\n",
              "                  Real          Imaginary           Modulus         Frequency\n",
              "-----------------------------------------------------------------------------\n",
              "AR.1            1.8408           +0.0000j            1.8408            0.0000\n",
              "AR.2           -4.4546           +0.0000j            4.4546            0.5000\n",
              "MA.1            1.4602           +0.0000j            1.4602            0.0000\n",
              "-----------------------------------------------------------------------------\n",
              "\"\"\""
            ]
          },
          "metadata": {},
          "execution_count": 122
        }
      ]
    },
    {
      "cell_type": "code",
      "metadata": {
        "id": "yLviVJ5x_9UO"
      },
      "source": [
        "from sklearn.metrics import r2_score\n",
        "prediction = model_opt_fit.forecast(len(test_data))\n",
        "prediction_value = prediction[0]\n",
        "predicted_ub = prediction[2][:,0]\n",
        "predicted_lb = prediction[2][:,1]\n",
        "predict_index = list(test_data.index)\n",
        "r2 = r2_score(test_data, prediction_value)"
      ],
      "execution_count": null,
      "outputs": []
    },
    {
      "cell_type": "code",
      "metadata": {
        "colab": {
          "base_uri": "https://localhost:8080/",
          "height": 410
        },
        "id": "9rm2hl2hAwzl",
        "outputId": "1be5b394-b3c3-4dad-d841-e21b752a47c3"
      },
      "source": [
        "fig, ax = plt.subplots(figsize = (12,6))\n",
        "DF3.plot(ax = ax)\n",
        "ax.vlines('2018-08-17', 0,2000,linestyle = '--', color = 'r', label = 'Start of Forecast');\n",
        "ax.plot(predict_index, prediction_value, label = 'Prediction')\n",
        "ax.fill_between(predict_index, predicted_lb, predicted_ub, color = 'k', alpha = 0.1, label = '0.95 predction interval')\n",
        "ax.legend(loc = 'upper left')\n",
        "plt.suptitle(f'ARIMA(2,1,1) Prediction Results(r2 score : {round(r2,2)})')\n",
        "plt.show()"
      ],
      "execution_count": null,
      "outputs": [
        {
          "output_type": "display_data",
          "data": {
            "image/png": "[encoded data removed]",
            "text/plain": [
              "<Figure size 864x432 with 1 Axes>"
            ]
          },
          "metadata": {
            "needs_background": "light"
          }
        }
      ]
    },
    {
      "cell_type": "code",
      "metadata": {
        "colab": {
          "base_uri": "https://localhost:8080/"
        },
        "id": "qNQ5yM5ccAY0",
        "outputId": "7aa8f3cb-d025-45d8-aa51-bc800541665a"
      },
      "source": [
        "# ADF 검정 시계열 데이터의 정상성을 확인\n",
        "\n",
        "from statsmodels.tsa.stattools import adfuller\n",
        "result = adfuller(diff_train_data)\n",
        "print('ADF Statistic : %f' %result[0])\n",
        "print('p-value : %f' %result[1])\n"
      ],
      "execution_count": null,
      "outputs": [
        {
          "output_type": "stream",
          "name": "stdout",
          "text": [
            "ADF Statistic : -22.906194\n",
            "p-value : 0.000000\n"
          ]
        }
      ]
    },
    {
      "cell_type": "code",
      "metadata": {
        "id": "4lLMV4gzqaPR"
      },
      "source": [
        "from sklearn import metrics\n",
        "\n",
        "\n",
        "def scoring(y_true, y_pred):\n",
        "    r2 = round(metrics.r2_score(y_true, y_pred) * 100, 3)\n",
        "    corr = round(np.corrcoef(y_true, y_pred)[0,1],3)\n",
        "    mape = round(metrics.mean_absolute_error(y_true, y_pred)*100,3)\n",
        "    rmse = round(metrics.mean_squared_error(y_true, y_pred, squared = False),3)\n",
        "\n",
        "    df = pd.DataFrame({\n",
        "        'R2': r2,\n",
        "        \"Corr\": corr,\n",
        "        'RMSE': rmse,\n",
        "        'MAPE': mape\n",
        "    }, index = [0])\n",
        "\n",
        "    return df"
      ],
      "execution_count": null,
      "outputs": []
    },
    {
      "cell_type": "code",
      "metadata": {
        "colab": {
          "base_uri": "https://localhost:8080/",
          "height": 80
        },
        "id": "ng17icbwCRIM",
        "outputId": "31887d54-65d1-42f9-c4a4-c2846b81320b"
      },
      "source": [
        "scoring(np.array(test_data), np.array(prediction_value))"
      ],
      "execution_count": null,
      "outputs": [
        {
          "output_type": "execute_result",
          "data": {
            "text/html": [
              "<div>\n",
              "<style scoped>\n",
              "    .dataframe tbody tr th:only-of-type {\n",
              "        vertical-align: middle;\n",
              "    }\n",
              "\n",
              "    .dataframe tbody tr th {\n",
              "        vertical-align: top;\n",
              "    }\n",
              "\n",
              "    .dataframe thead th {\n",
              "        text-align: right;\n",
              "    }\n",
              "</style>\n",
              "<table border=\"1\" class=\"dataframe\">\n",
              "  <thead>\n",
              "    <tr style=\"text-align: right;\">\n",
              "      <th></th>\n",
              "      <th>R2</th>\n",
              "      <th>Corr</th>\n",
              "      <th>RMSE</th>\n",
              "      <th>MAPE</th>\n",
              "    </tr>\n",
              "  </thead>\n",
              "  <tbody>\n",
              "    <tr>\n",
              "      <th>0</th>\n",
              "      <td>-183.874</td>\n",
              "      <td>-0.463</td>\n",
              "      <td>612.485</td>\n",
              "      <td>48925.055</td>\n",
              "    </tr>\n",
              "  </tbody>\n",
              "</table>\n",
              "</div>"
            ],
            "text/plain": [
              "        R2   Corr     RMSE       MAPE\n",
              "0 -183.874 -0.463  612.485  48925.055"
            ]
          },
          "metadata": {},
          "execution_count": 113
        }
      ]
    },
    {
      "cell_type": "code",
      "metadata": {
        "id": "ZybsI5Vq8NfM"
      },
      "source": [
        ""
      ],
      "execution_count": null,
      "outputs": []
    }
  ]
}