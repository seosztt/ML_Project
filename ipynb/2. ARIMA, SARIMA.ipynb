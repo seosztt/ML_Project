{
  "nbformat": 4,
  "nbformat_minor": 0,
  "metadata": {
    "accelerator": "GPU",
    "colab": {
      "name": "양파 ARIMA, SARIMA.ipynb",
      "provenance": [],
      "collapsed_sections": []
    },
    "kernelspec": {
      "display_name": "Python 3",
      "name": "python3"
    },
    "language_info": {
      "name": "python"
    }
  },
  "cells": [
    {
      "cell_type": "code",
      "metadata": {
        "colab": {
          "base_uri": "https://localhost:8080/"
        },
        "id": "rMh_0QqIWYBG",
        "outputId": "64b12b4a-884e-4f69-9d2a-3554bbacebc5"
      },
      "source": [
        "import pandas as pd\n",
        "import numpy as np\n",
        "import matplotlib.pyplot as plt\n",
        "import seaborn as sns\n",
        "from google.colab import drive\n",
        "\n",
        "import warnings\n",
        "warnings.filterwarnings('ignore')\n",
        "\n",
        "drive.mount('/content/drive')"
      ],
      "execution_count": 1,
      "outputs": [
        {
          "output_type": "stream",
          "name": "stdout",
          "text": [
            "Mounted at /content/drive\n"
          ]
        }
      ]
    },
    {
      "cell_type": "code",
      "metadata": {
        "id": "6yVfQnxcWgdV"
      },
      "source": [
        "DF1 = pd.read_excel('/content/drive/MyDrive/Colab Notebooks/datasets/양파.xlsx', thousands=',')"
      ],
      "execution_count": 2,
      "outputs": []
    },
    {
      "cell_type": "markdown",
      "metadata": {
        "id": "LOeNFtaUYSOA"
      },
      "source": [
        "## 데이터 전처리"
      ]
    },
    {
      "cell_type": "code",
      "metadata": {
        "colab": {
          "base_uri": "https://localhost:8080/",
          "height": 418
        },
        "id": "nXZ--8qfWoUq",
        "outputId": "1ff5f395-1731-4efd-f861-d586d354a7a3"
      },
      "source": [
        "DF1['도매가격(원/kg)'] = DF1['도매가격(원/kg)'].replace('-',0)\n",
        "DF1['도매가격(원/kg)'] = DF1['도매가격(원/kg)'].astype(float)\n",
        "DF1"
      ],
      "execution_count": 3,
      "outputs": [
        {
          "output_type": "execute_result",
          "data": {
            "text/html": [
              "<div>\n",
              "<style scoped>\n",
              "    .dataframe tbody tr th:only-of-type {\n",
              "        vertical-align: middle;\n",
              "    }\n",
              "\n",
              "    .dataframe tbody tr th {\n",
              "        vertical-align: top;\n",
              "    }\n",
              "\n",
              "    .dataframe thead th {\n",
              "        text-align: right;\n",
              "    }\n",
              "</style>\n",
              "<table border=\"1\" class=\"dataframe\">\n",
              "  <thead>\n",
              "    <tr style=\"text-align: right;\">\n",
              "      <th></th>\n",
              "      <th>일자</th>\n",
              "      <th>품목</th>\n",
              "      <th>품종</th>\n",
              "      <th>시장</th>\n",
              "      <th>법인</th>\n",
              "      <th>광역산지</th>\n",
              "      <th>시군산지</th>\n",
              "      <th>도매가격(원/kg)</th>\n",
              "      <th>거래량(톤)</th>\n",
              "      <th>거래금액(백만원)</th>\n",
              "    </tr>\n",
              "  </thead>\n",
              "  <tbody>\n",
              "    <tr>\n",
              "      <th>0</th>\n",
              "      <td>2021-10-07</td>\n",
              "      <td>양파</td>\n",
              "      <td>양파(일반)</td>\n",
              "      <td>대구북부도매</td>\n",
              "      <td>효성청과</td>\n",
              "      <td>경남</td>\n",
              "      <td>창녕</td>\n",
              "      <td>751.427317</td>\n",
              "      <td>22.77</td>\n",
              "      <td>17.11</td>\n",
              "    </tr>\n",
              "    <tr>\n",
              "      <th>1</th>\n",
              "      <td>2021-10-07</td>\n",
              "      <td>양파</td>\n",
              "      <td>양파(일반)</td>\n",
              "      <td>대구북부도매</td>\n",
              "      <td>효성청과</td>\n",
              "      <td>경남</td>\n",
              "      <td>합천</td>\n",
              "      <td>714.854269</td>\n",
              "      <td>18.49</td>\n",
              "      <td>13.22</td>\n",
              "    </tr>\n",
              "    <tr>\n",
              "      <th>2</th>\n",
              "      <td>2021-10-07</td>\n",
              "      <td>양파</td>\n",
              "      <td>양파(일반)</td>\n",
              "      <td>대구북부도매</td>\n",
              "      <td>효성청과</td>\n",
              "      <td>경북</td>\n",
              "      <td>고령</td>\n",
              "      <td>696.811539</td>\n",
              "      <td>10.54</td>\n",
              "      <td>7.34</td>\n",
              "    </tr>\n",
              "    <tr>\n",
              "      <th>3</th>\n",
              "      <td>2021-10-07</td>\n",
              "      <td>양파</td>\n",
              "      <td>양파(일반)</td>\n",
              "      <td>대구북부도매</td>\n",
              "      <td>효성청과</td>\n",
              "      <td>경북</td>\n",
              "      <td>영천</td>\n",
              "      <td>792.929293</td>\n",
              "      <td>7.92</td>\n",
              "      <td>6.28</td>\n",
              "    </tr>\n",
              "    <tr>\n",
              "      <th>4</th>\n",
              "      <td>2021-10-07</td>\n",
              "      <td>양파</td>\n",
              "      <td>양파(일반)</td>\n",
              "      <td>대구북부도매</td>\n",
              "      <td>대구중앙청과</td>\n",
              "      <td>대구</td>\n",
              "      <td>달성</td>\n",
              "      <td>584.558824</td>\n",
              "      <td>2.72</td>\n",
              "      <td>1.59</td>\n",
              "    </tr>\n",
              "    <tr>\n",
              "      <th>...</th>\n",
              "      <td>...</td>\n",
              "      <td>...</td>\n",
              "      <td>...</td>\n",
              "      <td>...</td>\n",
              "      <td>...</td>\n",
              "      <td>...</td>\n",
              "      <td>...</td>\n",
              "      <td>...</td>\n",
              "      <td>...</td>\n",
              "      <td>...</td>\n",
              "    </tr>\n",
              "    <tr>\n",
              "      <th>247167</th>\n",
              "      <td>2014-01-03</td>\n",
              "      <td>양파</td>\n",
              "      <td>저장양파</td>\n",
              "      <td>서울가락도매</td>\n",
              "      <td>한국청과</td>\n",
              "      <td>경북</td>\n",
              "      <td>경산</td>\n",
              "      <td>786.583333</td>\n",
              "      <td>12.00</td>\n",
              "      <td>9.44</td>\n",
              "    </tr>\n",
              "    <tr>\n",
              "      <th>247168</th>\n",
              "      <td>2014-01-03</td>\n",
              "      <td>양파</td>\n",
              "      <td>저장양파</td>\n",
              "      <td>서울가락도매</td>\n",
              "      <td>동화청과</td>\n",
              "      <td>경남</td>\n",
              "      <td>창녕</td>\n",
              "      <td>665.000000</td>\n",
              "      <td>11.80</td>\n",
              "      <td>7.85</td>\n",
              "    </tr>\n",
              "    <tr>\n",
              "      <th>247169</th>\n",
              "      <td>2014-01-03</td>\n",
              "      <td>양파</td>\n",
              "      <td>자주양파</td>\n",
              "      <td>서울가락도매</td>\n",
              "      <td>한국청과</td>\n",
              "      <td>전남</td>\n",
              "      <td>무안</td>\n",
              "      <td>1209.448819</td>\n",
              "      <td>1.52</td>\n",
              "      <td>1.84</td>\n",
              "    </tr>\n",
              "    <tr>\n",
              "      <th>247170</th>\n",
              "      <td>2014-01-03</td>\n",
              "      <td>양파</td>\n",
              "      <td>자주양파</td>\n",
              "      <td>서울가락도매</td>\n",
              "      <td>중앙청과</td>\n",
              "      <td>전남</td>\n",
              "      <td>무안</td>\n",
              "      <td>1225.000000</td>\n",
              "      <td>0.77</td>\n",
              "      <td>0.94</td>\n",
              "    </tr>\n",
              "    <tr>\n",
              "      <th>247171</th>\n",
              "      <td>2014-01-03</td>\n",
              "      <td>양파</td>\n",
              "      <td>자주양파</td>\n",
              "      <td>서울가락도매</td>\n",
              "      <td>한국청과</td>\n",
              "      <td>경북</td>\n",
              "      <td>문경</td>\n",
              "      <td>1480.000000</td>\n",
              "      <td>0.50</td>\n",
              "      <td>0.74</td>\n",
              "    </tr>\n",
              "  </tbody>\n",
              "</table>\n",
              "<p>247172 rows × 10 columns</p>\n",
              "</div>"
            ],
            "text/plain": [
              "               일자  품목      품종      시장  ... 시군산지   도매가격(원/kg) 거래량(톤)  거래금액(백만원)\n",
              "0      2021-10-07  양파  양파(일반)  대구북부도매  ...   창녕   751.427317  22.77      17.11\n",
              "1      2021-10-07  양파  양파(일반)  대구북부도매  ...   합천   714.854269  18.49      13.22\n",
              "2      2021-10-07  양파  양파(일반)  대구북부도매  ...   고령   696.811539  10.54       7.34\n",
              "3      2021-10-07  양파  양파(일반)  대구북부도매  ...   영천   792.929293   7.92       6.28\n",
              "4      2021-10-07  양파  양파(일반)  대구북부도매  ...   달성   584.558824   2.72       1.59\n",
              "...           ...  ..     ...     ...  ...  ...          ...    ...        ...\n",
              "247167 2014-01-03  양파    저장양파  서울가락도매  ...   경산   786.583333  12.00       9.44\n",
              "247168 2014-01-03  양파    저장양파  서울가락도매  ...   창녕   665.000000  11.80       7.85\n",
              "247169 2014-01-03  양파    자주양파  서울가락도매  ...   무안  1209.448819   1.52       1.84\n",
              "247170 2014-01-03  양파    자주양파  서울가락도매  ...   무안  1225.000000   0.77       0.94\n",
              "247171 2014-01-03  양파    자주양파  서울가락도매  ...   문경  1480.000000   0.50       0.74\n",
              "\n",
              "[247172 rows x 10 columns]"
            ]
          },
          "metadata": {},
          "execution_count": 3
        }
      ]
    },
    {
      "cell_type": "markdown",
      "metadata": {
        "id": "a0rBxC0QYXzp"
      },
      "source": [
        "## 데이터 이상치 탐색"
      ]
    },
    {
      "cell_type": "code",
      "metadata": {
        "colab": {
          "base_uri": "https://localhost:8080/",
          "height": 385
        },
        "id": "isdX5uf1Wo47",
        "outputId": "b1b2aa35-7dae-4489-e956-3de3581596f9"
      },
      "source": [
        "plt.figure(figsize = (9,6))\n",
        "boxplot = DF1.boxplot(column = ['도매가격(원/kg)'])\n",
        "plt.show()"
      ],
      "execution_count": 4,
      "outputs": [
        {
          "output_type": "display_data",
          "data": {
            "image/png": "[encoded data removed]",
            "text/plain": [
              "<Figure size 648x432 with 1 Axes>"
            ]
          },
          "metadata": {
            "needs_background": "light"
          }
        }
      ]
    },
    {
      "cell_type": "markdown",
      "metadata": {
        "id": "itEo3y-IYb6y"
      },
      "source": [
        "## 이상치 처리"
      ]
    },
    {
      "cell_type": "code",
      "metadata": {
        "colab": {
          "base_uri": "https://localhost:8080/"
        },
        "id": "y3OCOQpqWqSX",
        "outputId": "96e96667-00af-4005-ae3a-184f8384c973"
      },
      "source": [
        "\n",
        "quartile_1 = DF1['도매가격(원/kg)'].quantile(0.25)\n",
        "quartile_3 = DF1['도매가격(원/kg)'].quantile(0.75)\n",
        "IQR = quartile_3 - quartile_1\n",
        "search_df = DF1[(DF1['도매가격(원/kg)'] < (quartile_1 - 5 * IQR)) | (DF1['도매가격(원/kg)'] > (quartile_3 + 5 * IQR))]\n",
        "print(search_df)"
      ],
      "execution_count": 5,
      "outputs": [
        {
          "output_type": "stream",
          "name": "stdout",
          "text": [
            "               일자  품목      품종      시장  ...  시군산지    도매가격(원/kg) 거래량(톤)  거래금액(백만원)\n",
            "787    2021-10-01  양파  양파(일반)    진주도매  ...    진주  1.600000e+04  0.001       0.02\n",
            "1467   2021-09-18  양파      기타    천안도매  ...  서울중구  3.750000e+03  0.020       0.08\n",
            "3376   2021-09-03  양파      기타    포항도매  ...    영천  1.000000e+04  0.090       0.90\n",
            "4581   2021-08-24  양파    자주양파    포항도매  ...    영천  1.375000e+04  0.008       0.11\n",
            "5306   2021-08-18  양파    저장양파  서울강서도매  ...    함양  2.664769e+06  0.005      13.32\n",
            "...           ...  ..     ...     ...  ...   ...           ...    ...        ...\n",
            "210997 2017-02-01  양파      기타    구리도매  ...    구리  3.389300e+03  0.050       0.17\n",
            "222416 2016-04-02  양파     깐양파    안산도매  ...    서산  3.400000e+03  0.010       0.03\n",
            "245249 2014-04-09  양파    자주양파  서울가락도매  ...    무안  4.041667e+03  0.070       0.29\n",
            "245449 2014-04-03  양파    자주양파  서울가락도매  ...    무안  3.631579e+03  0.680       2.48\n",
            "245487 2014-04-02  양파    자주양파  서울가락도매  ...    함양  3.892535e+03  0.580       2.24\n",
            "\n",
            "[519 rows x 10 columns]\n"
          ]
        }
      ]
    },
    {
      "cell_type": "code",
      "metadata": {
        "colab": {
          "base_uri": "https://localhost:8080/"
        },
        "id": "m3kwyLPwWrpL",
        "outputId": "acf970a0-a4ec-4972-a211-d2bc1eb8d236"
      },
      "source": [
        "DF1 = DF1.drop(search_df.index, axis = 0)\n",
        "print(DF1)"
      ],
      "execution_count": 6,
      "outputs": [
        {
          "output_type": "stream",
          "name": "stdout",
          "text": [
            "               일자  품목      품종      시장  ... 시군산지   도매가격(원/kg) 거래량(톤)  거래금액(백만원)\n",
            "0      2021-10-07  양파  양파(일반)  대구북부도매  ...   창녕   751.427317  22.77      17.11\n",
            "1      2021-10-07  양파  양파(일반)  대구북부도매  ...   합천   714.854269  18.49      13.22\n",
            "2      2021-10-07  양파  양파(일반)  대구북부도매  ...   고령   696.811539  10.54       7.34\n",
            "3      2021-10-07  양파  양파(일반)  대구북부도매  ...   영천   792.929293   7.92       6.28\n",
            "4      2021-10-07  양파  양파(일반)  대구북부도매  ...   달성   584.558824   2.72       1.59\n",
            "...           ...  ..     ...     ...  ...  ...          ...    ...        ...\n",
            "247167 2014-01-03  양파    저장양파  서울가락도매  ...   경산   786.583333  12.00       9.44\n",
            "247168 2014-01-03  양파    저장양파  서울가락도매  ...   창녕   665.000000  11.80       7.85\n",
            "247169 2014-01-03  양파    자주양파  서울가락도매  ...   무안  1209.448819   1.52       1.84\n",
            "247170 2014-01-03  양파    자주양파  서울가락도매  ...   무안  1225.000000   0.77       0.94\n",
            "247171 2014-01-03  양파    자주양파  서울가락도매  ...   문경  1480.000000   0.50       0.74\n",
            "\n",
            "[246653 rows x 10 columns]\n"
          ]
        }
      ]
    },
    {
      "cell_type": "markdown",
      "metadata": {
        "id": "M2oT_AlnYgv4"
      },
      "source": [
        "## 도매가격으로 데이터 그룹화"
      ]
    },
    {
      "cell_type": "code",
      "metadata": {
        "id": "IhYV3uAuWvDl"
      },
      "source": [
        "# row마다 거래량이 다르기 때문에 단순히 일자별로 groupby해서 도매가격 평균 내면 실제 하루 평균 도매가격과 다르다.\n",
        "# DF2 = DF1.groupby('일자').mean()\n",
        "# 하루 거래금액 합계를 하루 거래량 합계로 나누면 하루 평균 도매가격이다.\n",
        "DF2 = DF1.groupby('일자').sum()\n",
        "DF2['도매가격']=(DF2['거래금액(백만원)']*1000)/DF2['거래량(톤)']\n",
        "\n",
        "DF2.drop(columns=['도매가격(원/kg)'], inplace=True)"
      ],
      "execution_count": 7,
      "outputs": []
    },
    {
      "cell_type": "code",
      "metadata": {
        "colab": {
          "base_uri": "https://localhost:8080/",
          "height": 235
        },
        "id": "KHSSs4L6WvWc",
        "outputId": "236c1fb9-6a01-4c3a-eccf-6390838a2542"
      },
      "source": [
        "DF2.head()"
      ],
      "execution_count": 8,
      "outputs": [
        {
          "output_type": "execute_result",
          "data": {
            "text/html": [
              "<div>\n",
              "<style scoped>\n",
              "    .dataframe tbody tr th:only-of-type {\n",
              "        vertical-align: middle;\n",
              "    }\n",
              "\n",
              "    .dataframe tbody tr th {\n",
              "        vertical-align: top;\n",
              "    }\n",
              "\n",
              "    .dataframe thead th {\n",
              "        text-align: right;\n",
              "    }\n",
              "</style>\n",
              "<table border=\"1\" class=\"dataframe\">\n",
              "  <thead>\n",
              "    <tr style=\"text-align: right;\">\n",
              "      <th></th>\n",
              "      <th>거래량(톤)</th>\n",
              "      <th>거래금액(백만원)</th>\n",
              "      <th>도매가격</th>\n",
              "    </tr>\n",
              "    <tr>\n",
              "      <th>일자</th>\n",
              "      <th></th>\n",
              "      <th></th>\n",
              "      <th></th>\n",
              "    </tr>\n",
              "  </thead>\n",
              "  <tbody>\n",
              "    <tr>\n",
              "      <th>2014-01-03</th>\n",
              "      <td>991.01</td>\n",
              "      <td>725.48</td>\n",
              "      <td>732.061230</td>\n",
              "    </tr>\n",
              "    <tr>\n",
              "      <th>2014-01-04</th>\n",
              "      <td>533.11</td>\n",
              "      <td>399.97</td>\n",
              "      <td>750.257921</td>\n",
              "    </tr>\n",
              "    <tr>\n",
              "      <th>2014-01-06</th>\n",
              "      <td>981.93</td>\n",
              "      <td>699.03</td>\n",
              "      <td>711.893923</td>\n",
              "    </tr>\n",
              "    <tr>\n",
              "      <th>2014-01-07</th>\n",
              "      <td>662.89</td>\n",
              "      <td>481.38</td>\n",
              "      <td>726.183831</td>\n",
              "    </tr>\n",
              "    <tr>\n",
              "      <th>2014-01-08</th>\n",
              "      <td>649.53</td>\n",
              "      <td>451.31</td>\n",
              "      <td>694.825489</td>\n",
              "    </tr>\n",
              "  </tbody>\n",
              "</table>\n",
              "</div>"
            ],
            "text/plain": [
              "            거래량(톤)  거래금액(백만원)        도매가격\n",
              "일자                                       \n",
              "2014-01-03  991.01     725.48  732.061230\n",
              "2014-01-04  533.11     399.97  750.257921\n",
              "2014-01-06  981.93     699.03  711.893923\n",
              "2014-01-07  662.89     481.38  726.183831\n",
              "2014-01-08  649.53     451.31  694.825489"
            ]
          },
          "metadata": {},
          "execution_count": 8
        }
      ]
    },
    {
      "cell_type": "markdown",
      "metadata": {
        "id": "esCjPWNDYlN7"
      },
      "source": [
        "## 이상치 탐지"
      ]
    },
    {
      "cell_type": "code",
      "metadata": {
        "colab": {
          "base_uri": "https://localhost:8080/",
          "height": 374
        },
        "id": "6X7HPlEkWwjL",
        "outputId": "fd307c46-2eb7-404f-e386-cfb13abfe495"
      },
      "source": [
        "\n",
        "plt.figure(figsize = (9,6))\n",
        "boxplot = DF2.boxplot(column = ['도매가격'])\n",
        "plt.show()"
      ],
      "execution_count": 9,
      "outputs": [
        {
          "output_type": "display_data",
          "data": {
            "image/png": "[encoded data removed]",
            "text/plain": [
              "<Figure size 648x432 with 1 Axes>"
            ]
          },
          "metadata": {
            "needs_background": "light"
          }
        }
      ]
    },
    {
      "cell_type": "markdown",
      "metadata": {
        "id": "Qhnae50hYpOc"
      },
      "source": [
        "## train_data, test_data 분리"
      ]
    },
    {
      "cell_type": "code",
      "metadata": {
        "id": "onV7FlTSW0Ua"
      },
      "source": [
        "from sklearn.model_selection import train_test_split\n",
        "train_data , test_data = train_test_split(DF2, test_size = 0.3, shuffle = False)"
      ],
      "execution_count": 10,
      "outputs": []
    },
    {
      "cell_type": "markdown",
      "metadata": {
        "id": "eDol1FnTYy-v"
      },
      "source": [
        "## Autocorrelation, Partial Autocorrelation 시각화\n",
        " - 전형적인 비정상적 시계 열 데이터"
      ]
    },
    {
      "cell_type": "code",
      "metadata": {
        "colab": {
          "base_uri": "https://localhost:8080/",
          "height": 417
        },
        "id": "eFx0tX1EW112",
        "outputId": "3f4a29b4-448d-46c0-f810-cdee24bec8c3"
      },
      "source": [
        "import statsmodels.api as sm\n",
        "fig, ax = plt.subplots(1,2, figsize = (9,6))\n",
        "fig.suptitle('Raw Data')\n",
        "sm.graphics.tsa.plot_acf(train_data['도매가격'].values.squeeze(), lags = 30, ax = ax[0])\n",
        "sm.graphics.tsa.plot_pacf(train_data['도매가격'].values.squeeze(), lags = 30, ax = ax[1]);"
      ],
      "execution_count": 11,
      "outputs": [
        {
          "output_type": "display_data",
          "data": {
            "image/png": "[encoded data removed]",
            "text/plain": [
              "<Figure size 648x432 with 2 Axes>"
            ]
          },
          "metadata": {
            "needs_background": "light"
          }
        }
      ]
    },
    {
      "cell_type": "markdown",
      "metadata": {
        "id": "csGFTSc8Y-aP"
      },
      "source": [
        "## 정상적 데이터를 위한 차분"
      ]
    },
    {
      "cell_type": "code",
      "metadata": {
        "colab": {
          "base_uri": "https://localhost:8080/"
        },
        "id": "R5134ZQ3W3ko",
        "outputId": "b9d0f842-de5f-464c-ee47-d5132b1c8b06"
      },
      "source": [
        "#비정상적인 데이터를 차분으로 정상적인 데이터를 만들어야 한다.\n",
        "# 차분은 현시점의 데이터에서 전 시점의 데이터를 뺀값이다.\n",
        "diff_train_data = train_data.copy()\n",
        "diff_train_data = diff_train_data.diff()\n",
        "#차분을 하게되면 맨앞과 맨뒤에 결치가 생겨 결측치를 제거하는 과정이 필요하다.\n",
        "diff_train_data = diff_train_data.dropna()\n",
        "print(train_data)\n",
        "print('*****************************')\n",
        "print(diff_train_data)"
      ],
      "execution_count": 12,
      "outputs": [
        {
          "output_type": "stream",
          "name": "stdout",
          "text": [
            "              거래량(톤)  거래금액(백만원)        도매가격\n",
            "일자                                         \n",
            "2014-01-03   991.010    725.480  732.061230\n",
            "2014-01-04   533.110    399.970  750.257921\n",
            "2014-01-06   981.930    699.030  711.893923\n",
            "2014-01-07   662.890    481.380  726.183831\n",
            "2014-01-08   649.530    451.310  694.825489\n",
            "...              ...        ...         ...\n",
            "2019-06-03  4425.083   2058.548  465.199862\n",
            "2019-06-04  3701.170   1697.446  458.624165\n",
            "2019-06-05  4049.950   1760.751  434.758701\n",
            "2019-06-06  4098.770   1662.650  405.646084\n",
            "2019-06-07  2983.208   1194.599  400.441069\n",
            "\n",
            "[1678 rows x 3 columns]\n",
            "*****************************\n",
            "              거래량(톤)  거래금액(백만원)       도매가격\n",
            "일자                                        \n",
            "2014-01-04  -457.900   -325.510  18.196690\n",
            "2014-01-06   448.820    299.060 -38.363997\n",
            "2014-01-07  -319.040   -217.650  14.289908\n",
            "2014-01-08   -13.360    -30.070 -31.358342\n",
            "2014-01-09   -55.910    -56.410 -29.585100\n",
            "...              ...        ...        ...\n",
            "2019-06-03  1965.373    835.478 -32.041683\n",
            "2019-06-04  -723.913   -361.102  -6.575697\n",
            "2019-06-05   348.780     63.305 -23.865464\n",
            "2019-06-06    48.820    -98.101 -29.112617\n",
            "2019-06-07 -1115.562   -468.051  -5.205015\n",
            "\n",
            "[1677 rows x 3 columns]\n"
          ]
        }
      ]
    },
    {
      "cell_type": "markdown",
      "metadata": {
        "id": "K5Y27cayZE8q"
      },
      "source": [
        "## 차분 전 RAW 데이터와 차분 후 Diff 데이터"
      ]
    },
    {
      "cell_type": "code",
      "metadata": {
        "colab": {
          "base_uri": "https://localhost:8080/",
          "height": 374
        },
        "id": "2NeBG7OvW5TK",
        "outputId": "6d37cd86-952e-4d12-e8f6-9f1d5d5b6268"
      },
      "source": [
        "plt.figure(figsize = (9,6))\n",
        "plt.subplot(211)\n",
        "plt.plot(train_data)\n",
        "plt.legend('Raw Data')\n",
        "plt.subplot(212)\n",
        "plt.plot(diff_train_data)\n",
        "plt.legend('diff Data')\n",
        "plt.show()"
      ],
      "execution_count": 13,
      "outputs": [
        {
          "output_type": "display_data",
          "data": {
            "image/png": "[encoded data removed]",
            "text/plain": [
              "<Figure size 648x432 with 2 Axes>"
            ]
          },
          "metadata": {
            "needs_background": "light"
          }
        }
      ]
    },
    {
      "cell_type": "markdown",
      "metadata": {
        "id": "4CigfSj1ZMm7"
      },
      "source": [
        "## 차분후 P값"
      ]
    },
    {
      "cell_type": "code",
      "metadata": {
        "colab": {
          "base_uri": "https://localhost:8080/"
        },
        "id": "WdUz03VBXSnW",
        "outputId": "d54f1169-12bb-440d-ec5f-09ff764696b5"
      },
      "source": [
        "# ADF 검정 시계열 데이터의 정상성을 확인\n",
        "\n",
        "from statsmodels.tsa.stattools import adfuller\n",
        "result = adfuller(diff_train_data['도매가격'])\n",
        "print('ADF Statistic : %f' %result[0])\n",
        "print('p-value : %f' %result[1])"
      ],
      "execution_count": 14,
      "outputs": [
        {
          "output_type": "stream",
          "name": "stdout",
          "text": [
            "ADF Statistic : -22.906194\n",
            "p-value : 0.000000\n"
          ]
        }
      ]
    },
    {
      "cell_type": "code",
      "metadata": {
        "colab": {
          "base_uri": "https://localhost:8080/",
          "height": 417
        },
        "id": "axWkT6-tW7mI",
        "outputId": "dd25014a-8ae9-4645-f65c-90ec56406e72"
      },
      "source": [
        "fig, ax = plt.subplots(1,2, figsize = (9,6))\n",
        "fig.suptitle('Diff Data')\n",
        "sm.graphics.tsa.plot_acf(diff_train_data['도매가격'].values.squeeze(), lags = 30, ax = ax[0])\n",
        "sm.graphics.tsa.plot_pacf(diff_train_data['도매가격'].values.squeeze(), lags = 30, ax = ax[1]);"
      ],
      "execution_count": 15,
      "outputs": [
        {
          "output_type": "display_data",
          "data": {
            "image/png": "[encoded data removed]",
            "text/plain": [
              "<Figure size 648x432 with 2 Axes>"
            ]
          },
          "metadata": {
            "needs_background": "light"
          }
        }
      ]
    },
    {
      "cell_type": "markdown",
      "metadata": {
        "id": "5UaQH8P-ZR3q"
      },
      "source": [
        "## 임의로 ARIMA 모델의 하이퍼 파라미터 설정"
      ]
    },
    {
      "cell_type": "code",
      "metadata": {
        "colab": {
          "base_uri": "https://localhost:8080/",
          "height": 287
        },
        "id": "5Fo6o4b_W9iW",
        "outputId": "fc92d959-2df4-424e-b7a1-90cb8a346e8e"
      },
      "source": [
        "from statsmodels.tsa.arima_model import ARIMA\n",
        "from statsmodels.tsa.statespace.sarimax import SARIMAX\n",
        "model = ARIMA(train_data['도매가격'].values, order=(1,1,0))\n",
        "model_fit = model.fit()\n",
        "model_fit.summary()"
      ],
      "execution_count": 16,
      "outputs": [
        {
          "output_type": "execute_result",
          "data": {
            "text/html": [
              "<table class=\"simpletable\">\n",
              "<caption>ARIMA Model Results</caption>\n",
              "<tr>\n",
              "  <th>Dep. Variable:</th>        <td>D.y</td>       <th>  No. Observations:  </th>   <td>1677</td>   \n",
              "</tr>\n",
              "<tr>\n",
              "  <th>Model:</th>          <td>ARIMA(1, 1, 0)</td>  <th>  Log Likelihood     </th> <td>-9035.675</td>\n",
              "</tr>\n",
              "<tr>\n",
              "  <th>Method:</th>             <td>css-mle</td>     <th>  S.D. of innovations</th>  <td>52.933</td>  \n",
              "</tr>\n",
              "<tr>\n",
              "  <th>Date:</th>          <td>Thu, 14 Oct 2021</td> <th>  AIC                </th> <td>18077.350</td>\n",
              "</tr>\n",
              "<tr>\n",
              "  <th>Time:</th>              <td>00:31:34</td>     <th>  BIC                </th> <td>18093.624</td>\n",
              "</tr>\n",
              "<tr>\n",
              "  <th>Sample:</th>                <td>1</td>        <th>  HQIC               </th> <td>18083.379</td>\n",
              "</tr>\n",
              "<tr>\n",
              "  <th></th>                       <td> </td>        <th>                     </th>     <td> </td>    \n",
              "</tr>\n",
              "</table>\n",
              "<table class=\"simpletable\">\n",
              "<tr>\n",
              "      <td></td>         <th>coef</th>     <th>std err</th>      <th>z</th>      <th>P>|z|</th>  <th>[0.025</th>    <th>0.975]</th>  \n",
              "</tr>\n",
              "<tr>\n",
              "  <th>const</th>     <td>   -0.1997</td> <td>    0.983</td> <td>   -0.203</td> <td> 0.839</td> <td>   -2.127</td> <td>    1.727</td>\n",
              "</tr>\n",
              "<tr>\n",
              "  <th>ar.L1.D.y</th> <td>   -0.3148</td> <td>    0.023</td> <td>  -13.589</td> <td> 0.000</td> <td>   -0.360</td> <td>   -0.269</td>\n",
              "</tr>\n",
              "</table>\n",
              "<table class=\"simpletable\">\n",
              "<caption>Roots</caption>\n",
              "<tr>\n",
              "    <td></td>   <th>            Real</th>  <th>         Imaginary</th> <th>         Modulus</th>  <th>        Frequency</th>\n",
              "</tr>\n",
              "<tr>\n",
              "  <th>AR.1</th> <td>          -3.1762</td> <td>          +0.0000j</td> <td>           3.1762</td> <td>           0.5000</td>\n",
              "</tr>\n",
              "</table>"
            ],
            "text/plain": [
              "<class 'statsmodels.iolib.summary.Summary'>\n",
              "\"\"\"\n",
              "                             ARIMA Model Results                              \n",
              "==============================================================================\n",
              "Dep. Variable:                    D.y   No. Observations:                 1677\n",
              "Model:                 ARIMA(1, 1, 0)   Log Likelihood               -9035.675\n",
              "Method:                       css-mle   S.D. of innovations             52.933\n",
              "Date:                Thu, 14 Oct 2021   AIC                          18077.350\n",
              "Time:                        00:31:34   BIC                          18093.624\n",
              "Sample:                             1   HQIC                         18083.379\n",
              "                                                                              \n",
              "==============================================================================\n",
              "                 coef    std err          z      P>|z|      [0.025      0.975]\n",
              "------------------------------------------------------------------------------\n",
              "const         -0.1997      0.983     -0.203      0.839      -2.127       1.727\n",
              "ar.L1.D.y     -0.3148      0.023    -13.589      0.000      -0.360      -0.269\n",
              "                                    Roots                                    \n",
              "=============================================================================\n",
              "                  Real          Imaginary           Modulus         Frequency\n",
              "-----------------------------------------------------------------------------\n",
              "AR.1           -3.1762           +0.0000j            3.1762            0.5000\n",
              "-----------------------------------------------------------------------------\n",
              "\"\"\""
            ]
          },
          "metadata": {},
          "execution_count": 16
        }
      ]
    },
    {
      "cell_type": "markdown",
      "metadata": {
        "id": "Yp9RZnBwPm1p"
      },
      "source": [
        "## ARIMA 모델 설계\n",
        " - 최적의 파라미터 찾기"
      ]
    },
    {
      "cell_type": "code",
      "metadata": {
        "colab": {
          "base_uri": "https://localhost:8080/"
        },
        "id": "aDbgYobdW_bX",
        "outputId": "c5d320e2-d814-4058-adbb-b6dc7f4cf284"
      },
      "source": [
        "import itertools\n",
        "p = range(0,3)\n",
        "d = range(1,2)\n",
        "q = range(0,2)\n",
        "pdq = list(itertools.product(p,d,q))\n",
        "\n",
        "aic = []\n",
        "params = []\n",
        "for i in pdq:\n",
        "    try:\n",
        "        model = ARIMA(train_data['도매가격'].values, order=(i))\n",
        "        model_fit = model.fit()\n",
        "        print(f'ARIMA : {i} >> AIC : {round(model_fit.aic,2)}')\n",
        "        aic.append(round(model_fit.aic,2))\n",
        "        params.append((i))\n",
        "    except:\n",
        "        continue\n",
        " \n"
      ],
      "execution_count": 17,
      "outputs": [
        {
          "output_type": "stream",
          "name": "stdout",
          "text": [
            "ARIMA : (0, 1, 0) >> AIC : 18250.51\n",
            "ARIMA : (0, 1, 1) >> AIC : 18059.21\n",
            "ARIMA : (1, 1, 0) >> AIC : 18077.35\n",
            "ARIMA : (1, 1, 1) >> AIC : 18060.82\n",
            "ARIMA : (2, 1, 0) >> AIC : 18067.76\n",
            "ARIMA : (2, 1, 1) >> AIC : 18056.15\n"
          ]
        }
      ]
    },
    {
      "cell_type": "markdown",
      "metadata": {
        "id": "fJdoEba9ZbMJ"
      },
      "source": [
        "### 최적의 파라미터로 ARIMA 모델 설계"
      ]
    },
    {
      "cell_type": "code",
      "metadata": {
        "colab": {
          "base_uri": "https://localhost:8080/",
          "height": 370
        },
        "id": "m0yGDKyrXIoT",
        "outputId": "085a12c9-af28-4e8f-9671-f8af2cab1afe"
      },
      "source": [
        "model_opt = ARIMA(train_data['도매가격'].values, order=(2,1,1))\n",
        "model_opt_fit = model_opt.fit()\n",
        "model_opt_fit.summary()"
      ],
      "execution_count": 18,
      "outputs": [
        {
          "output_type": "execute_result",
          "data": {
            "text/html": [
              "<table class=\"simpletable\">\n",
              "<caption>ARIMA Model Results</caption>\n",
              "<tr>\n",
              "  <th>Dep. Variable:</th>        <td>D.y</td>       <th>  No. Observations:  </th>   <td>1677</td>   \n",
              "</tr>\n",
              "<tr>\n",
              "  <th>Model:</th>          <td>ARIMA(2, 1, 1)</td>  <th>  Log Likelihood     </th> <td>-9023.076</td>\n",
              "</tr>\n",
              "<tr>\n",
              "  <th>Method:</th>             <td>css-mle</td>     <th>  S.D. of innovations</th>  <td>52.536</td>  \n",
              "</tr>\n",
              "<tr>\n",
              "  <th>Date:</th>          <td>Thu, 14 Oct 2021</td> <th>  AIC                </th> <td>18056.152</td>\n",
              "</tr>\n",
              "<tr>\n",
              "  <th>Time:</th>              <td>00:31:48</td>     <th>  BIC                </th> <td>18083.276</td>\n",
              "</tr>\n",
              "<tr>\n",
              "  <th>Sample:</th>                <td>1</td>        <th>  HQIC               </th> <td>18066.200</td>\n",
              "</tr>\n",
              "<tr>\n",
              "  <th></th>                       <td> </td>        <th>                     </th>     <td> </td>    \n",
              "</tr>\n",
              "</table>\n",
              "<table class=\"simpletable\">\n",
              "<tr>\n",
              "      <td></td>         <th>coef</th>     <th>std err</th>      <th>z</th>      <th>P>|z|</th>  <th>[0.025</th>    <th>0.975]</th>  \n",
              "</tr>\n",
              "<tr>\n",
              "  <th>const</th>     <td>   -0.1881</td> <td>    0.743</td> <td>   -0.253</td> <td> 0.800</td> <td>   -1.644</td> <td>    1.268</td>\n",
              "</tr>\n",
              "<tr>\n",
              "  <th>ar.L1.D.y</th> <td>    0.3283</td> <td>    0.091</td> <td>    3.611</td> <td> 0.000</td> <td>    0.150</td> <td>    0.506</td>\n",
              "</tr>\n",
              "<tr>\n",
              "  <th>ar.L2.D.y</th> <td>    0.1215</td> <td>    0.044</td> <td>    2.788</td> <td> 0.005</td> <td>    0.036</td> <td>    0.207</td>\n",
              "</tr>\n",
              "<tr>\n",
              "  <th>ma.L1.D.y</th> <td>   -0.6816</td> <td>    0.086</td> <td>   -7.935</td> <td> 0.000</td> <td>   -0.850</td> <td>   -0.513</td>\n",
              "</tr>\n",
              "</table>\n",
              "<table class=\"simpletable\">\n",
              "<caption>Roots</caption>\n",
              "<tr>\n",
              "    <td></td>   <th>            Real</th>  <th>         Imaginary</th> <th>         Modulus</th>  <th>        Frequency</th>\n",
              "</tr>\n",
              "<tr>\n",
              "  <th>AR.1</th> <td>           1.8203</td> <td>          +0.0000j</td> <td>           1.8203</td> <td>           0.0000</td>\n",
              "</tr>\n",
              "<tr>\n",
              "  <th>AR.2</th> <td>          -4.5230</td> <td>          +0.0000j</td> <td>           4.5230</td> <td>           0.5000</td>\n",
              "</tr>\n",
              "<tr>\n",
              "  <th>MA.1</th> <td>           1.4671</td> <td>          +0.0000j</td> <td>           1.4671</td> <td>           0.0000</td>\n",
              "</tr>\n",
              "</table>"
            ],
            "text/plain": [
              "<class 'statsmodels.iolib.summary.Summary'>\n",
              "\"\"\"\n",
              "                             ARIMA Model Results                              \n",
              "==============================================================================\n",
              "Dep. Variable:                    D.y   No. Observations:                 1677\n",
              "Model:                 ARIMA(2, 1, 1)   Log Likelihood               -9023.076\n",
              "Method:                       css-mle   S.D. of innovations             52.536\n",
              "Date:                Thu, 14 Oct 2021   AIC                          18056.152\n",
              "Time:                        00:31:48   BIC                          18083.276\n",
              "Sample:                             1   HQIC                         18066.200\n",
              "                                                                              \n",
              "==============================================================================\n",
              "                 coef    std err          z      P>|z|      [0.025      0.975]\n",
              "------------------------------------------------------------------------------\n",
              "const         -0.1881      0.743     -0.253      0.800      -1.644       1.268\n",
              "ar.L1.D.y      0.3283      0.091      3.611      0.000       0.150       0.506\n",
              "ar.L2.D.y      0.1215      0.044      2.788      0.005       0.036       0.207\n",
              "ma.L1.D.y     -0.6816      0.086     -7.935      0.000      -0.850      -0.513\n",
              "                                    Roots                                    \n",
              "=============================================================================\n",
              "                  Real          Imaginary           Modulus         Frequency\n",
              "-----------------------------------------------------------------------------\n",
              "AR.1            1.8203           +0.0000j            1.8203            0.0000\n",
              "AR.2           -4.5230           +0.0000j            4.5230            0.5000\n",
              "MA.1            1.4671           +0.0000j            1.4671            0.0000\n",
              "-----------------------------------------------------------------------------\n",
              "\"\"\""
            ]
          },
          "metadata": {},
          "execution_count": 18
        }
      ]
    },
    {
      "cell_type": "code",
      "metadata": {
        "id": "aC6qK1iUXI8T"
      },
      "source": [
        "from sklearn.metrics import r2_score\n",
        "prediction = model_opt_fit.forecast(len(test_data['도매가격']))\n",
        "prediction_value = prediction[0]\n",
        "predicted_ub = prediction[2][:,0]\n",
        "predicted_lb = prediction[2][:,1]\n",
        "predict_index = list(test_data['도매가격'].index)\n",
        "r2 = r2_score(test_data['도매가격'], prediction_value)"
      ],
      "execution_count": 19,
      "outputs": []
    },
    {
      "cell_type": "markdown",
      "metadata": {
        "id": "86QHDjtRPA62"
      },
      "source": [
        "## ARIMA 모형 예측 결과"
      ]
    },
    {
      "cell_type": "code",
      "metadata": {
        "colab": {
          "base_uri": "https://localhost:8080/",
          "height": 410
        },
        "id": "t4juqUvfXMOq",
        "outputId": "95ce4b30-b7ce-4028-a5af-3215930f1253"
      },
      "source": [
        "fig, ax = plt.subplots(figsize = (12,6))\n",
        "DF2['도매가격'].plot(ax = ax)\n",
        "ax.vlines('2020-2-17', 0,2000,linestyle = '--', color = 'r', label = 'Start of Forecast');\n",
        "ax.plot(predict_index, prediction_value, label = 'Prediction')\n",
        "ax.fill_between(predict_index, predicted_lb, predicted_ub, color = 'k', alpha = 0.1, label = '0.95 predction interval')\n",
        "ax.legend(loc = 'upper left')\n",
        "plt.suptitle(f'ARIMA(2,1,1) Prediction Results(r2 score : {round(r2,2)})')\n",
        "plt.show()"
      ],
      "execution_count": 20,
      "outputs": [
        {
          "output_type": "display_data",
          "data": {
            "image/png": "[encoded data removed]",
            "text/plain": [
              "<Figure size 864x432 with 1 Axes>"
            ]
          },
          "metadata": {
            "needs_background": "light"
          }
        }
      ]
    },
    {
      "cell_type": "markdown",
      "metadata": {
        "id": "a5SfPfsXPH2I"
      },
      "source": [
        "## 모형 예측 함수 설정"
      ]
    },
    {
      "cell_type": "code",
      "metadata": {
        "id": "1Hnxz7B2XO7Z"
      },
      "source": [
        "from sklearn import metrics\n",
        "\n",
        "\n",
        "def scoring(y_true, y_pred):\n",
        "    r2 = round(metrics.r2_score(y_true, y_pred) * 100, 3)\n",
        "    corr = round(np.corrcoef(y_true, y_pred)[0,1],3)\n",
        "    mape = round(metrics.mean_absolute_error(y_true, y_pred)*100,3)\n",
        "    rmse = round(metrics.mean_squared_error(y_true, y_pred, squared = False),3)\n",
        "\n",
        "    df = pd.DataFrame({\n",
        "        'R2': r2,\n",
        "        \"Corr\": corr,\n",
        "        'RMSE': rmse,\n",
        "        'MAPE': mape\n",
        "    }, index = [0])\n",
        "\n",
        "    return df"
      ],
      "execution_count": 21,
      "outputs": []
    },
    {
      "cell_type": "code",
      "metadata": {
        "colab": {
          "base_uri": "https://localhost:8080/",
          "height": 80
        },
        "id": "LoiGLqkqXWSI",
        "outputId": "93732f41-f956-4e19-a8c7-4b3a38551a37"
      },
      "source": [
        "scoring(np.array(test_data['도매가격']), np.array(prediction_value))"
      ],
      "execution_count": 22,
      "outputs": [
        {
          "output_type": "execute_result",
          "data": {
            "text/html": [
              "<div>\n",
              "<style scoped>\n",
              "    .dataframe tbody tr th:only-of-type {\n",
              "        vertical-align: middle;\n",
              "    }\n",
              "\n",
              "    .dataframe tbody tr th {\n",
              "        vertical-align: top;\n",
              "    }\n",
              "\n",
              "    .dataframe thead th {\n",
              "        text-align: right;\n",
              "    }\n",
              "</style>\n",
              "<table border=\"1\" class=\"dataframe\">\n",
              "  <thead>\n",
              "    <tr style=\"text-align: right;\">\n",
              "      <th></th>\n",
              "      <th>R2</th>\n",
              "      <th>Corr</th>\n",
              "      <th>RMSE</th>\n",
              "      <th>MAPE</th>\n",
              "    </tr>\n",
              "  </thead>\n",
              "  <tbody>\n",
              "    <tr>\n",
              "      <th>0</th>\n",
              "      <td>-183.874</td>\n",
              "      <td>-0.463</td>\n",
              "      <td>612.485</td>\n",
              "      <td>48925.055</td>\n",
              "    </tr>\n",
              "  </tbody>\n",
              "</table>\n",
              "</div>"
            ],
            "text/plain": [
              "        R2   Corr     RMSE       MAPE\n",
              "0 -183.874 -0.463  612.485  48925.055"
            ]
          },
          "metadata": {},
          "execution_count": 22
        }
      ]
    },
    {
      "cell_type": "markdown",
      "metadata": {
        "id": "w3PcOX-dO8S-"
      },
      "source": [
        "## SARIMA 모형\n",
        " - SARIMA 모형의 최적화 된 하이퍼 파라미터 설정"
      ]
    },
    {
      "cell_type": "code",
      "metadata": {
        "colab": {
          "base_uri": "https://localhost:8080/"
        },
        "id": "moMdBh6-XYdz",
        "outputId": "93fcbc41-3cb3-4e02-deb9-c694acb3014a"
      },
      "source": [
        "%%time\n",
        "\n",
        "import itertools\n",
        "p = range(0,3)\n",
        "d = range(1,2)\n",
        "q = range(0,2)\n",
        "pdq = list(itertools.product(p,d,q))\n",
        "seasonal_pdq = [(x[0],x[1],x[2],12) for x in list(itertools.product(p,d,q))]\n",
        "\n",
        "aic = []\n",
        "params = []\n",
        "for i in pdq:\n",
        "    for j in seasonal_pdq:\n",
        "        try:\n",
        "            model = SARIMAX(train_data['도매가격'].values, exog =train_data['거래량(톤)'].values ,order = (i), seasonal_order=(j))\n",
        "            model_fit = model.fit()\n",
        "            print(f'SARIMA : {i}{j} >> AIC : {round(model_fit.aic,2)}')\n",
        "            aic.append(round(model_fit.aic,2))\n",
        "            params.append((i,j))\n",
        "        except:\n",
        "            continue\n"
      ],
      "execution_count": 23,
      "outputs": [
        {
          "output_type": "stream",
          "name": "stdout",
          "text": [
            "SARIMA : (0, 1, 0)(0, 1, 0, 12) >> AIC : 19307.06\n",
            "SARIMA : (0, 1, 0)(0, 1, 1, 12) >> AIC : 18183.61\n",
            "SARIMA : (0, 1, 0)(1, 1, 0, 12) >> AIC : 18842.01\n",
            "SARIMA : (0, 1, 0)(1, 1, 1, 12) >> AIC : 18185.35\n",
            "SARIMA : (0, 1, 0)(2, 1, 0, 12) >> AIC : 18664.12\n",
            "SARIMA : (0, 1, 0)(2, 1, 1, 12) >> AIC : 18186.51\n",
            "SARIMA : (0, 1, 1)(0, 1, 0, 12) >> AIC : 19108.97\n",
            "SARIMA : (0, 1, 1)(0, 1, 1, 12) >> AIC : 17993.0\n",
            "SARIMA : (0, 1, 1)(1, 1, 0, 12) >> AIC : 18607.05\n",
            "SARIMA : (0, 1, 1)(1, 1, 1, 12) >> AIC : 17994.88\n",
            "SARIMA : (0, 1, 1)(2, 1, 0, 12) >> AIC : 18447.72\n",
            "SARIMA : (0, 1, 1)(2, 1, 1, 12) >> AIC : 17996.57\n",
            "SARIMA : (1, 1, 0)(0, 1, 0, 12) >> AIC : 19124.44\n",
            "SARIMA : (1, 1, 0)(0, 1, 1, 12) >> AIC : 18010.78\n",
            "SARIMA : (1, 1, 0)(1, 1, 0, 12) >> AIC : 18627.19\n",
            "SARIMA : (1, 1, 0)(1, 1, 1, 12) >> AIC : 18012.7\n",
            "SARIMA : (1, 1, 0)(2, 1, 0, 12) >> AIC : 18465.66\n",
            "SARIMA : (1, 1, 0)(2, 1, 1, 12) >> AIC : 18014.5\n",
            "SARIMA : (1, 1, 1)(0, 1, 0, 12) >> AIC : 19110.84\n",
            "SARIMA : (1, 1, 1)(0, 1, 1, 12) >> AIC : 17994.71\n",
            "SARIMA : (1, 1, 1)(1, 1, 0, 12) >> AIC : 18608.6\n",
            "SARIMA : (1, 1, 1)(1, 1, 1, 12) >> AIC : 17996.59\n",
            "SARIMA : (1, 1, 1)(2, 1, 0, 12) >> AIC : 18449.56\n"
          ]
        },
        {
          "output_type": "stream",
          "name": "stderr",
          "text": [
            "/usr/local/lib/python3.7/dist-packages/statsmodels/base/model.py:512: ConvergenceWarning: Maximum Likelihood optimization failed to converge. Check mle_retvals\n",
            "  \"Check mle_retvals\", ConvergenceWarning)\n"
          ]
        },
        {
          "output_type": "stream",
          "name": "stdout",
          "text": [
            "SARIMA : (1, 1, 1)(2, 1, 1, 12) >> AIC : 17998.33\n",
            "SARIMA : (2, 1, 0)(0, 1, 0, 12) >> AIC : 19117.53\n",
            "SARIMA : (2, 1, 0)(0, 1, 1, 12) >> AIC : 18001.26\n",
            "SARIMA : (2, 1, 0)(1, 1, 0, 12) >> AIC : 18612.01\n",
            "SARIMA : (2, 1, 0)(1, 1, 1, 12) >> AIC : 18003.13\n",
            "SARIMA : (2, 1, 0)(2, 1, 0, 12) >> AIC : 18453.31\n",
            "SARIMA : (2, 1, 0)(2, 1, 1, 12) >> AIC : 18004.71\n",
            "SARIMA : (2, 1, 1)(0, 1, 0, 12) >> AIC : 19025.14\n",
            "SARIMA : (2, 1, 1)(0, 1, 1, 12) >> AIC : 17990.22\n"
          ]
        },
        {
          "output_type": "stream",
          "name": "stderr",
          "text": [
            "/usr/local/lib/python3.7/dist-packages/statsmodels/base/model.py:512: ConvergenceWarning: Maximum Likelihood optimization failed to converge. Check mle_retvals\n",
            "  \"Check mle_retvals\", ConvergenceWarning)\n"
          ]
        },
        {
          "output_type": "stream",
          "name": "stdout",
          "text": [
            "SARIMA : (2, 1, 1)(1, 1, 0, 12) >> AIC : 18572.21\n",
            "SARIMA : (2, 1, 1)(1, 1, 1, 12) >> AIC : 18015.28\n",
            "SARIMA : (2, 1, 1)(2, 1, 0, 12) >> AIC : 18446.61\n"
          ]
        },
        {
          "output_type": "stream",
          "name": "stderr",
          "text": [
            "/usr/local/lib/python3.7/dist-packages/statsmodels/base/model.py:512: ConvergenceWarning: Maximum Likelihood optimization failed to converge. Check mle_retvals\n",
            "  \"Check mle_retvals\", ConvergenceWarning)\n"
          ]
        },
        {
          "output_type": "stream",
          "name": "stdout",
          "text": [
            "SARIMA : (2, 1, 1)(2, 1, 1, 12) >> AIC : 18012.44\n",
            "CPU times: user 12min 38s, sys: 9min, total: 21min 38s\n",
            "Wall time: 11min 23s\n"
          ]
        }
      ]
    },
    {
      "cell_type": "code",
      "metadata": {
        "colab": {
          "base_uri": "https://localhost:8080/"
        },
        "id": "CUjyvBEjcvKI",
        "outputId": "ed5d57e7-e747-42d3-a943-bfe4f5fd9958"
      },
      "source": [
        "optimal = [(params[i], j) for i, j in enumerate(aic) if j == min(aic)]\n",
        "optimal"
      ],
      "execution_count": 24,
      "outputs": [
        {
          "output_type": "execute_result",
          "data": {
            "text/plain": [
              "[(((2, 1, 1), (0, 1, 1, 12)), 17990.22)]"
            ]
          },
          "metadata": {},
          "execution_count": 24
        }
      ]
    },
    {
      "cell_type": "code",
      "metadata": {
        "colab": {
          "base_uri": "https://localhost:8080/",
          "height": 458
        },
        "id": "ri3YlK_sKHWa",
        "outputId": "63f0f421-dcaa-4763-c3b3-886b8b975482"
      },
      "source": [
        "model_opt = SARIMAX(train_data['도매가격'].values, order = optimal[0][0][0], seasonal_order = optimal[0][0][1])\n",
        "model_opt_fit = model_opt.fit()\n",
        "\n",
        "model_opt_fit.summary()"
      ],
      "execution_count": 25,
      "outputs": [
        {
          "output_type": "execute_result",
          "data": {
            "text/html": [
              "<table class=\"simpletable\">\n",
              "<caption>Statespace Model Results</caption>\n",
              "<tr>\n",
              "  <th>Dep. Variable:</th>                  <td>y</td>               <th>  No. Observations:  </th>   <td>1678</td>   \n",
              "</tr>\n",
              "<tr>\n",
              "  <th>Model:</th>           <td>SARIMAX(2, 1, 1)x(0, 1, 1, 12)</td> <th>  Log Likelihood     </th> <td>-8989.474</td>\n",
              "</tr>\n",
              "<tr>\n",
              "  <th>Date:</th>                   <td>Thu, 14 Oct 2021</td>        <th>  AIC                </th> <td>17988.948</td>\n",
              "</tr>\n",
              "<tr>\n",
              "  <th>Time:</th>                       <td>00:44:25</td>            <th>  BIC                </th> <td>18016.036</td>\n",
              "</tr>\n",
              "<tr>\n",
              "  <th>Sample:</th>                         <td>0</td>               <th>  HQIC               </th> <td>17998.987</td>\n",
              "</tr>\n",
              "<tr>\n",
              "  <th></th>                             <td> - 1678</td>            <th>                     </th>     <td> </td>    \n",
              "</tr>\n",
              "<tr>\n",
              "  <th>Covariance Type:</th>               <td>opg</td>              <th>                     </th>     <td> </td>    \n",
              "</tr>\n",
              "</table>\n",
              "<table class=\"simpletable\">\n",
              "<tr>\n",
              "      <td></td>        <th>coef</th>     <th>std err</th>      <th>z</th>      <th>P>|z|</th>  <th>[0.025</th>    <th>0.975]</th>  \n",
              "</tr>\n",
              "<tr>\n",
              "  <th>ar.L1</th>    <td>    0.3260</td> <td>    0.082</td> <td>    3.998</td> <td> 0.000</td> <td>    0.166</td> <td>    0.486</td>\n",
              "</tr>\n",
              "<tr>\n",
              "  <th>ar.L2</th>    <td>    0.1220</td> <td>    0.036</td> <td>    3.404</td> <td> 0.001</td> <td>    0.052</td> <td>    0.192</td>\n",
              "</tr>\n",
              "<tr>\n",
              "  <th>ma.L1</th>    <td>   -0.6794</td> <td>    0.081</td> <td>   -8.346</td> <td> 0.000</td> <td>   -0.839</td> <td>   -0.520</td>\n",
              "</tr>\n",
              "<tr>\n",
              "  <th>ma.S.L12</th> <td>   -0.9996</td> <td>    0.488</td> <td>   -2.046</td> <td> 0.041</td> <td>   -1.957</td> <td>   -0.042</td>\n",
              "</tr>\n",
              "<tr>\n",
              "  <th>sigma2</th>   <td> 2765.6136</td> <td> 1340.544</td> <td>    2.063</td> <td> 0.039</td> <td>  138.195</td> <td> 5393.032</td>\n",
              "</tr>\n",
              "</table>\n",
              "<table class=\"simpletable\">\n",
              "<tr>\n",
              "  <th>Ljung-Box (Q):</th>          <td>62.45</td> <th>  Jarque-Bera (JB):  </th> <td>31168.93</td>\n",
              "</tr>\n",
              "<tr>\n",
              "  <th>Prob(Q):</th>                <td>0.01</td>  <th>  Prob(JB):          </th>   <td>0.00</td>  \n",
              "</tr>\n",
              "<tr>\n",
              "  <th>Heteroskedasticity (H):</th> <td>0.73</td>  <th>  Skew:              </th>   <td>-1.27</td> \n",
              "</tr>\n",
              "<tr>\n",
              "  <th>Prob(H) (two-sided):</th>    <td>0.00</td>  <th>  Kurtosis:          </th>   <td>24.04</td> \n",
              "</tr>\n",
              "</table><br/><br/>Warnings:<br/>[1] Covariance matrix calculated using the outer product of gradients (complex-step)."
            ],
            "text/plain": [
              "<class 'statsmodels.iolib.summary.Summary'>\n",
              "\"\"\"\n",
              "                                 Statespace Model Results                                 \n",
              "==========================================================================================\n",
              "Dep. Variable:                                  y   No. Observations:                 1678\n",
              "Model:             SARIMAX(2, 1, 1)x(0, 1, 1, 12)   Log Likelihood               -8989.474\n",
              "Date:                            Thu, 14 Oct 2021   AIC                          17988.948\n",
              "Time:                                    00:44:25   BIC                          18016.036\n",
              "Sample:                                         0   HQIC                         17998.987\n",
              "                                           - 1678                                         \n",
              "Covariance Type:                              opg                                         \n",
              "==============================================================================\n",
              "                 coef    std err          z      P>|z|      [0.025      0.975]\n",
              "------------------------------------------------------------------------------\n",
              "ar.L1          0.3260      0.082      3.998      0.000       0.166       0.486\n",
              "ar.L2          0.1220      0.036      3.404      0.001       0.052       0.192\n",
              "ma.L1         -0.6794      0.081     -8.346      0.000      -0.839      -0.520\n",
              "ma.S.L12      -0.9996      0.488     -2.046      0.041      -1.957      -0.042\n",
              "sigma2      2765.6136   1340.544      2.063      0.039     138.195    5393.032\n",
              "===================================================================================\n",
              "Ljung-Box (Q):                       62.45   Jarque-Bera (JB):             31168.93\n",
              "Prob(Q):                              0.01   Prob(JB):                         0.00\n",
              "Heteroskedasticity (H):               0.73   Skew:                            -1.27\n",
              "Prob(H) (two-sided):                  0.00   Kurtosis:                        24.04\n",
              "===================================================================================\n",
              "\n",
              "Warnings:\n",
              "[1] Covariance matrix calculated using the outer product of gradients (complex-step).\n",
              "\"\"\""
            ]
          },
          "metadata": {},
          "execution_count": 25
        }
      ]
    },
    {
      "cell_type": "code",
      "metadata": {
        "id": "gVBYL_dJTaR4"
      },
      "source": [
        "prediction = model_opt_fit.get_forecast(len(test_data['도매가격']))\n",
        "predicted_value = prediction.predicted_mean\n",
        "predicted_ub = prediction.conf_int()[:,0]\n",
        "predicted_lb = prediction.conf_int()[:,1]\n",
        "predict_index = list(test_data.index)\n",
        "r2 = r2_score(test_data['도매가격'], predicted_value)"
      ],
      "execution_count": 33,
      "outputs": []
    },
    {
      "cell_type": "markdown",
      "metadata": {
        "id": "J66iLSFrZnxi"
      },
      "source": [
        "## SARIMA 모형 예측 결과"
      ]
    },
    {
      "cell_type": "code",
      "metadata": {
        "colab": {
          "base_uri": "https://localhost:8080/",
          "height": 410
        },
        "id": "WlDdGq68UuIo",
        "outputId": "f79e4ac9-0bf9-4ba5-e6d5-8d48007cee48"
      },
      "source": [
        "fig, ax = plt.subplots(figsize = (12,6))\n",
        "DF2['도매가격'].plot(ax = ax)\n",
        "ax.vlines('2019-6-17', 0,2000,linestyle = '--', color = 'r', label = 'Start of Forecast');\n",
        "ax.plot(predict_index, predicted_value, label = 'Prediction')\n",
        "ax.fill_between(predict_index, predicted_lb, predicted_ub, color = 'k', alpha = 0.1, label = '0.95 predction interval')\n",
        "ax.legend(loc = 'upper left')\n",
        "plt.suptitle(f'SARIMA{optimal[0][0][0]},{optimal[0][0][1]} Prediction Results(r2 score : {round(r2,2)})')\n",
        "plt.show()"
      ],
      "execution_count": 37,
      "outputs": [
        {
          "output_type": "display_data",
          "data": {
            "image/png": "[encoded data removed]",
            "text/plain": [
              "<Figure size 864x432 with 1 Axes>"
            ]
          },
          "metadata": {
            "needs_background": "light"
          }
        }
      ]
    },
    {
      "cell_type": "code",
      "metadata": {
        "colab": {
          "base_uri": "https://localhost:8080/",
          "height": 80
        },
        "id": "v9v5eAX7QoDT",
        "outputId": "8ea19f3f-4806-4449-8a7c-984ff7911557"
      },
      "source": [
        "scoring(np.array(test_data['도매가격']), np.array(predicted_value))"
      ],
      "execution_count": 36,
      "outputs": [
        {
          "output_type": "execute_result",
          "data": {
            "text/html": [
              "<div>\n",
              "<style scoped>\n",
              "    .dataframe tbody tr th:only-of-type {\n",
              "        vertical-align: middle;\n",
              "    }\n",
              "\n",
              "    .dataframe tbody tr th {\n",
              "        vertical-align: top;\n",
              "    }\n",
              "\n",
              "    .dataframe thead th {\n",
              "        text-align: right;\n",
              "    }\n",
              "</style>\n",
              "<table border=\"1\" class=\"dataframe\">\n",
              "  <thead>\n",
              "    <tr style=\"text-align: right;\">\n",
              "      <th></th>\n",
              "      <th>R2</th>\n",
              "      <th>Corr</th>\n",
              "      <th>RMSE</th>\n",
              "      <th>MAPE</th>\n",
              "    </tr>\n",
              "  </thead>\n",
              "  <tbody>\n",
              "    <tr>\n",
              "      <th>0</th>\n",
              "      <td>-184.19</td>\n",
              "      <td>-0.462</td>\n",
              "      <td>612.827</td>\n",
              "      <td>48962.413</td>\n",
              "    </tr>\n",
              "  </tbody>\n",
              "</table>\n",
              "</div>"
            ],
            "text/plain": [
              "       R2   Corr     RMSE       MAPE\n",
              "0 -184.19 -0.462  612.827  48962.413"
            ]
          },
          "metadata": {},
          "execution_count": 36
        }
      ]
    }
  ]
}