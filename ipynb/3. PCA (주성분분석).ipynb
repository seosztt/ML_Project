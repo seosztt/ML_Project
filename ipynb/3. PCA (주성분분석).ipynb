{
  "nbformat": 4,
  "nbformat_minor": 0,
  "metadata": {
    "colab": {
      "name": "PCA 양파 .ipynb",
      "provenance": []
    },
    "kernelspec": {
      "name": "python3",
      "display_name": "Python 3"
    },
    "language_info": {
      "name": "python"
    }
  },
  "cells": [
    {
      "cell_type": "code",
      "metadata": {
        "colab": {
          "base_uri": "https://localhost:8080/"
        },
        "id": "1SUN3YKiV8py",
        "outputId": "33174c2a-70f2-4336-f063-79eb251f40fd"
      },
      "source": [
        "import pandas as pd\n",
        "import numpy as np\n",
        "import matplotlib.pyplot as plt\n",
        "import seaborn as sns\n",
        "from google.colab import drive\n",
        "\n",
        "import warnings\n",
        "warnings.filterwarnings('ignore')\n",
        "\n",
        "drive.mount('/content/drive')"
      ],
      "execution_count": 104,
      "outputs": [
        {
          "output_type": "stream",
          "name": "stdout",
          "text": [
            "Drive already mounted at /content/drive; to attempt to forcibly remount, call drive.mount(\"/content/drive\", force_remount=True).\n"
          ]
        }
      ]
    },
    {
      "cell_type": "code",
      "metadata": {
        "id": "tRUF0BRAWC9v"
      },
      "source": [
        "DF1 = pd.read_csv('/content/drive/MyDrive/Colab Notebooks/datasets/PATIW.csv')"
      ],
      "execution_count": 105,
      "outputs": []
    },
    {
      "cell_type": "code",
      "metadata": {
        "colab": {
          "base_uri": "https://localhost:8080/",
          "height": 224
        },
        "id": "qmUQN4lCWaJa",
        "outputId": "3aa618eb-f3b2-4e01-9b1e-342a085ea892"
      },
      "source": [
        "DF1.head()"
      ],
      "execution_count": 106,
      "outputs": [
        {
          "output_type": "execute_result",
          "data": {
            "text/html": [
              "<div>\n",
              "<style scoped>\n",
              "    .dataframe tbody tr th:only-of-type {\n",
              "        vertical-align: middle;\n",
              "    }\n",
              "\n",
              "    .dataframe tbody tr th {\n",
              "        vertical-align: top;\n",
              "    }\n",
              "\n",
              "    .dataframe thead th {\n",
              "        text-align: right;\n",
              "    }\n",
              "</style>\n",
              "<table border=\"1\" class=\"dataframe\">\n",
              "  <thead>\n",
              "    <tr style=\"text-align: right;\">\n",
              "      <th></th>\n",
              "      <th>price</th>\n",
              "      <th>weather</th>\n",
              "      <th>kind</th>\n",
              "      <th>market</th>\n",
              "      <th>corp</th>\n",
              "      <th>wide</th>\n",
              "      <th>city</th>\n",
              "      <th>year</th>\n",
              "      <th>month</th>\n",
              "      <th>area</th>\n",
              "      <th>ratio</th>\n",
              "      <th>amount</th>\n",
              "      <th>inn</th>\n",
              "      <th>out</th>\n",
              "      <th>AT_1</th>\n",
              "      <th>AT_2</th>\n",
              "      <th>AT_3</th>\n",
              "      <th>AT_4</th>\n",
              "      <th>AT_5</th>\n",
              "      <th>AT_6</th>\n",
              "      <th>AT_7</th>\n",
              "      <th>AT_8</th>\n",
              "      <th>AT_9</th>\n",
              "      <th>AT_10</th>\n",
              "      <th>AT_11</th>\n",
              "      <th>AT_12</th>\n",
              "      <th>HT_1</th>\n",
              "      <th>HT_2</th>\n",
              "      <th>HT_3</th>\n",
              "      <th>HT_4</th>\n",
              "      <th>HT_5</th>\n",
              "      <th>HT_6</th>\n",
              "      <th>HT_7</th>\n",
              "      <th>HT_8</th>\n",
              "      <th>HT_9</th>\n",
              "      <th>HT_10</th>\n",
              "      <th>HT_11</th>\n",
              "      <th>HT_12</th>\n",
              "      <th>LT_1</th>\n",
              "      <th>LT_2</th>\n",
              "      <th>LT_3</th>\n",
              "      <th>LT_4</th>\n",
              "      <th>LT_5</th>\n",
              "      <th>LT_6</th>\n",
              "      <th>LT_7</th>\n",
              "      <th>LT_8</th>\n",
              "      <th>LT_9</th>\n",
              "      <th>LT_10</th>\n",
              "      <th>LT_11</th>\n",
              "      <th>LT_12</th>\n",
              "      <th>RAIN_1</th>\n",
              "      <th>RAIN_2</th>\n",
              "      <th>RAIN_3</th>\n",
              "      <th>RAIN_4</th>\n",
              "      <th>RAIN_5</th>\n",
              "      <th>RAIN_6</th>\n",
              "      <th>RAIN_7</th>\n",
              "      <th>RAIN_8</th>\n",
              "      <th>RAIN_9</th>\n",
              "      <th>RAIN_10</th>\n",
              "      <th>RAIN_11</th>\n",
              "      <th>RAIN_12</th>\n",
              "      <th>SUN_1</th>\n",
              "      <th>SUN_2</th>\n",
              "      <th>SUN_3</th>\n",
              "      <th>SUN_4</th>\n",
              "      <th>SUN_5</th>\n",
              "      <th>SUN_6</th>\n",
              "      <th>SUN_7</th>\n",
              "      <th>SUN_8</th>\n",
              "      <th>SUN_9</th>\n",
              "      <th>SUN_10</th>\n",
              "      <th>SUN_11</th>\n",
              "      <th>SUN_12</th>\n",
              "    </tr>\n",
              "  </thead>\n",
              "  <tbody>\n",
              "    <tr>\n",
              "      <th>0</th>\n",
              "      <td>793.00</td>\n",
              "      <td>영천</td>\n",
              "      <td>4</td>\n",
              "      <td>5</td>\n",
              "      <td>23</td>\n",
              "      <td>2</td>\n",
              "      <td>26</td>\n",
              "      <td>21</td>\n",
              "      <td>10</td>\n",
              "      <td>2365</td>\n",
              "      <td>8098</td>\n",
              "      <td>191509</td>\n",
              "      <td>5213.902</td>\n",
              "      <td>7.88</td>\n",
              "      <td>3.3</td>\n",
              "      <td>4.2</td>\n",
              "      <td>8.2</td>\n",
              "      <td>11.3</td>\n",
              "      <td>18.0</td>\n",
              "      <td>23.0</td>\n",
              "      <td>22.0</td>\n",
              "      <td>27.0</td>\n",
              "      <td>19.8</td>\n",
              "      <td>13.8</td>\n",
              "      <td>8.3</td>\n",
              "      <td>0.6</td>\n",
              "      <td>8.7</td>\n",
              "      <td>10.4</td>\n",
              "      <td>15.0</td>\n",
              "      <td>18.5</td>\n",
              "      <td>24.4</td>\n",
              "      <td>29.1</td>\n",
              "      <td>25.8</td>\n",
              "      <td>31.9</td>\n",
              "      <td>25.0</td>\n",
              "      <td>20.6</td>\n",
              "      <td>14.9</td>\n",
              "      <td>7.1</td>\n",
              "      <td>-1.1</td>\n",
              "      <td>-1.5</td>\n",
              "      <td>1.2</td>\n",
              "      <td>3.9</td>\n",
              "      <td>12.0</td>\n",
              "      <td>17.3</td>\n",
              "      <td>18.9</td>\n",
              "      <td>23.3</td>\n",
              "      <td>15.5</td>\n",
              "      <td>8.1</td>\n",
              "      <td>2.2</td>\n",
              "      <td>-5.1</td>\n",
              "      <td>101.3</td>\n",
              "      <td>55.4</td>\n",
              "      <td>21.1</td>\n",
              "      <td>36.5</td>\n",
              "      <td>46.4</td>\n",
              "      <td>142.0</td>\n",
              "      <td>338.5</td>\n",
              "      <td>246.9</td>\n",
              "      <td>201.6</td>\n",
              "      <td>11.1</td>\n",
              "      <td>32.8</td>\n",
              "      <td>0.9</td>\n",
              "      <td>130.5</td>\n",
              "      <td>179.9</td>\n",
              "      <td>224.0</td>\n",
              "      <td>258.5</td>\n",
              "      <td>228.3</td>\n",
              "      <td>217.1</td>\n",
              "      <td>93.8</td>\n",
              "      <td>190.0</td>\n",
              "      <td>140.2</td>\n",
              "      <td>198.3</td>\n",
              "      <td>160.8</td>\n",
              "      <td>172.4</td>\n",
              "    </tr>\n",
              "    <tr>\n",
              "      <th>1</th>\n",
              "      <td>843.43</td>\n",
              "      <td>영천</td>\n",
              "      <td>4</td>\n",
              "      <td>5</td>\n",
              "      <td>79</td>\n",
              "      <td>2</td>\n",
              "      <td>26</td>\n",
              "      <td>21</td>\n",
              "      <td>10</td>\n",
              "      <td>2365</td>\n",
              "      <td>8098</td>\n",
              "      <td>191509</td>\n",
              "      <td>5213.902</td>\n",
              "      <td>7.88</td>\n",
              "      <td>3.3</td>\n",
              "      <td>4.2</td>\n",
              "      <td>8.2</td>\n",
              "      <td>11.3</td>\n",
              "      <td>18.0</td>\n",
              "      <td>23.0</td>\n",
              "      <td>22.0</td>\n",
              "      <td>27.0</td>\n",
              "      <td>19.8</td>\n",
              "      <td>13.8</td>\n",
              "      <td>8.3</td>\n",
              "      <td>0.6</td>\n",
              "      <td>8.7</td>\n",
              "      <td>10.4</td>\n",
              "      <td>15.0</td>\n",
              "      <td>18.5</td>\n",
              "      <td>24.4</td>\n",
              "      <td>29.1</td>\n",
              "      <td>25.8</td>\n",
              "      <td>31.9</td>\n",
              "      <td>25.0</td>\n",
              "      <td>20.6</td>\n",
              "      <td>14.9</td>\n",
              "      <td>7.1</td>\n",
              "      <td>-1.1</td>\n",
              "      <td>-1.5</td>\n",
              "      <td>1.2</td>\n",
              "      <td>3.9</td>\n",
              "      <td>12.0</td>\n",
              "      <td>17.3</td>\n",
              "      <td>18.9</td>\n",
              "      <td>23.3</td>\n",
              "      <td>15.5</td>\n",
              "      <td>8.1</td>\n",
              "      <td>2.2</td>\n",
              "      <td>-5.1</td>\n",
              "      <td>101.3</td>\n",
              "      <td>55.4</td>\n",
              "      <td>21.1</td>\n",
              "      <td>36.5</td>\n",
              "      <td>46.4</td>\n",
              "      <td>142.0</td>\n",
              "      <td>338.5</td>\n",
              "      <td>246.9</td>\n",
              "      <td>201.6</td>\n",
              "      <td>11.1</td>\n",
              "      <td>32.8</td>\n",
              "      <td>0.9</td>\n",
              "      <td>130.5</td>\n",
              "      <td>179.9</td>\n",
              "      <td>224.0</td>\n",
              "      <td>258.5</td>\n",
              "      <td>228.3</td>\n",
              "      <td>217.1</td>\n",
              "      <td>93.8</td>\n",
              "      <td>190.0</td>\n",
              "      <td>140.2</td>\n",
              "      <td>198.3</td>\n",
              "      <td>160.8</td>\n",
              "      <td>172.4</td>\n",
              "    </tr>\n",
              "    <tr>\n",
              "      <th>2</th>\n",
              "      <td>725.00</td>\n",
              "      <td>영천</td>\n",
              "      <td>0</td>\n",
              "      <td>31</td>\n",
              "      <td>20</td>\n",
              "      <td>2</td>\n",
              "      <td>26</td>\n",
              "      <td>21</td>\n",
              "      <td>10</td>\n",
              "      <td>2365</td>\n",
              "      <td>8098</td>\n",
              "      <td>191509</td>\n",
              "      <td>5213.902</td>\n",
              "      <td>7.88</td>\n",
              "      <td>3.3</td>\n",
              "      <td>4.2</td>\n",
              "      <td>8.2</td>\n",
              "      <td>11.3</td>\n",
              "      <td>18.0</td>\n",
              "      <td>23.0</td>\n",
              "      <td>22.0</td>\n",
              "      <td>27.0</td>\n",
              "      <td>19.8</td>\n",
              "      <td>13.8</td>\n",
              "      <td>8.3</td>\n",
              "      <td>0.6</td>\n",
              "      <td>8.7</td>\n",
              "      <td>10.4</td>\n",
              "      <td>15.0</td>\n",
              "      <td>18.5</td>\n",
              "      <td>24.4</td>\n",
              "      <td>29.1</td>\n",
              "      <td>25.8</td>\n",
              "      <td>31.9</td>\n",
              "      <td>25.0</td>\n",
              "      <td>20.6</td>\n",
              "      <td>14.9</td>\n",
              "      <td>7.1</td>\n",
              "      <td>-1.1</td>\n",
              "      <td>-1.5</td>\n",
              "      <td>1.2</td>\n",
              "      <td>3.9</td>\n",
              "      <td>12.0</td>\n",
              "      <td>17.3</td>\n",
              "      <td>18.9</td>\n",
              "      <td>23.3</td>\n",
              "      <td>15.5</td>\n",
              "      <td>8.1</td>\n",
              "      <td>2.2</td>\n",
              "      <td>-5.1</td>\n",
              "      <td>101.3</td>\n",
              "      <td>55.4</td>\n",
              "      <td>21.1</td>\n",
              "      <td>36.5</td>\n",
              "      <td>46.4</td>\n",
              "      <td>142.0</td>\n",
              "      <td>338.5</td>\n",
              "      <td>246.9</td>\n",
              "      <td>201.6</td>\n",
              "      <td>11.1</td>\n",
              "      <td>32.8</td>\n",
              "      <td>0.9</td>\n",
              "      <td>130.5</td>\n",
              "      <td>179.9</td>\n",
              "      <td>224.0</td>\n",
              "      <td>258.5</td>\n",
              "      <td>228.3</td>\n",
              "      <td>217.1</td>\n",
              "      <td>93.8</td>\n",
              "      <td>190.0</td>\n",
              "      <td>140.2</td>\n",
              "      <td>198.3</td>\n",
              "      <td>160.8</td>\n",
              "      <td>172.4</td>\n",
              "    </tr>\n",
              "    <tr>\n",
              "      <th>3</th>\n",
              "      <td>804.59</td>\n",
              "      <td>영천</td>\n",
              "      <td>4</td>\n",
              "      <td>5</td>\n",
              "      <td>23</td>\n",
              "      <td>2</td>\n",
              "      <td>26</td>\n",
              "      <td>21</td>\n",
              "      <td>9</td>\n",
              "      <td>2365</td>\n",
              "      <td>8098</td>\n",
              "      <td>191509</td>\n",
              "      <td>3378.003</td>\n",
              "      <td>2.20</td>\n",
              "      <td>3.3</td>\n",
              "      <td>4.2</td>\n",
              "      <td>8.2</td>\n",
              "      <td>11.3</td>\n",
              "      <td>18.0</td>\n",
              "      <td>23.0</td>\n",
              "      <td>22.0</td>\n",
              "      <td>27.0</td>\n",
              "      <td>19.8</td>\n",
              "      <td>13.8</td>\n",
              "      <td>8.3</td>\n",
              "      <td>0.6</td>\n",
              "      <td>8.7</td>\n",
              "      <td>10.4</td>\n",
              "      <td>15.0</td>\n",
              "      <td>18.5</td>\n",
              "      <td>24.4</td>\n",
              "      <td>29.1</td>\n",
              "      <td>25.8</td>\n",
              "      <td>31.9</td>\n",
              "      <td>25.0</td>\n",
              "      <td>20.6</td>\n",
              "      <td>14.9</td>\n",
              "      <td>7.1</td>\n",
              "      <td>-1.1</td>\n",
              "      <td>-1.5</td>\n",
              "      <td>1.2</td>\n",
              "      <td>3.9</td>\n",
              "      <td>12.0</td>\n",
              "      <td>17.3</td>\n",
              "      <td>18.9</td>\n",
              "      <td>23.3</td>\n",
              "      <td>15.5</td>\n",
              "      <td>8.1</td>\n",
              "      <td>2.2</td>\n",
              "      <td>-5.1</td>\n",
              "      <td>101.3</td>\n",
              "      <td>55.4</td>\n",
              "      <td>21.1</td>\n",
              "      <td>36.5</td>\n",
              "      <td>46.4</td>\n",
              "      <td>142.0</td>\n",
              "      <td>338.5</td>\n",
              "      <td>246.9</td>\n",
              "      <td>201.6</td>\n",
              "      <td>11.1</td>\n",
              "      <td>32.8</td>\n",
              "      <td>0.9</td>\n",
              "      <td>130.5</td>\n",
              "      <td>179.9</td>\n",
              "      <td>224.0</td>\n",
              "      <td>258.5</td>\n",
              "      <td>228.3</td>\n",
              "      <td>217.1</td>\n",
              "      <td>93.8</td>\n",
              "      <td>190.0</td>\n",
              "      <td>140.2</td>\n",
              "      <td>198.3</td>\n",
              "      <td>160.8</td>\n",
              "      <td>172.4</td>\n",
              "    </tr>\n",
              "    <tr>\n",
              "      <th>4</th>\n",
              "      <td>890.58</td>\n",
              "      <td>영천</td>\n",
              "      <td>4</td>\n",
              "      <td>5</td>\n",
              "      <td>79</td>\n",
              "      <td>2</td>\n",
              "      <td>26</td>\n",
              "      <td>21</td>\n",
              "      <td>9</td>\n",
              "      <td>2365</td>\n",
              "      <td>8098</td>\n",
              "      <td>191509</td>\n",
              "      <td>3378.003</td>\n",
              "      <td>2.20</td>\n",
              "      <td>3.3</td>\n",
              "      <td>4.2</td>\n",
              "      <td>8.2</td>\n",
              "      <td>11.3</td>\n",
              "      <td>18.0</td>\n",
              "      <td>23.0</td>\n",
              "      <td>22.0</td>\n",
              "      <td>27.0</td>\n",
              "      <td>19.8</td>\n",
              "      <td>13.8</td>\n",
              "      <td>8.3</td>\n",
              "      <td>0.6</td>\n",
              "      <td>8.7</td>\n",
              "      <td>10.4</td>\n",
              "      <td>15.0</td>\n",
              "      <td>18.5</td>\n",
              "      <td>24.4</td>\n",
              "      <td>29.1</td>\n",
              "      <td>25.8</td>\n",
              "      <td>31.9</td>\n",
              "      <td>25.0</td>\n",
              "      <td>20.6</td>\n",
              "      <td>14.9</td>\n",
              "      <td>7.1</td>\n",
              "      <td>-1.1</td>\n",
              "      <td>-1.5</td>\n",
              "      <td>1.2</td>\n",
              "      <td>3.9</td>\n",
              "      <td>12.0</td>\n",
              "      <td>17.3</td>\n",
              "      <td>18.9</td>\n",
              "      <td>23.3</td>\n",
              "      <td>15.5</td>\n",
              "      <td>8.1</td>\n",
              "      <td>2.2</td>\n",
              "      <td>-5.1</td>\n",
              "      <td>101.3</td>\n",
              "      <td>55.4</td>\n",
              "      <td>21.1</td>\n",
              "      <td>36.5</td>\n",
              "      <td>46.4</td>\n",
              "      <td>142.0</td>\n",
              "      <td>338.5</td>\n",
              "      <td>246.9</td>\n",
              "      <td>201.6</td>\n",
              "      <td>11.1</td>\n",
              "      <td>32.8</td>\n",
              "      <td>0.9</td>\n",
              "      <td>130.5</td>\n",
              "      <td>179.9</td>\n",
              "      <td>224.0</td>\n",
              "      <td>258.5</td>\n",
              "      <td>228.3</td>\n",
              "      <td>217.1</td>\n",
              "      <td>93.8</td>\n",
              "      <td>190.0</td>\n",
              "      <td>140.2</td>\n",
              "      <td>198.3</td>\n",
              "      <td>160.8</td>\n",
              "      <td>172.4</td>\n",
              "    </tr>\n",
              "  </tbody>\n",
              "</table>\n",
              "</div>"
            ],
            "text/plain": [
              "    price weather  kind  market  corp  ...  SUN_8  SUN_9  SUN_10  SUN_11  SUN_12\n",
              "0  793.00      영천     4       5    23  ...  190.0  140.2   198.3   160.8   172.4\n",
              "1  843.43      영천     4       5    79  ...  190.0  140.2   198.3   160.8   172.4\n",
              "2  725.00      영천     0      31    20  ...  190.0  140.2   198.3   160.8   172.4\n",
              "3  804.59      영천     4       5    23  ...  190.0  140.2   198.3   160.8   172.4\n",
              "4  890.58      영천     4       5    79  ...  190.0  140.2   198.3   160.8   172.4\n",
              "\n",
              "[5 rows x 74 columns]"
            ]
          },
          "metadata": {},
          "execution_count": 106
        }
      ]
    },
    {
      "cell_type": "code",
      "metadata": {
        "colab": {
          "base_uri": "https://localhost:8080/"
        },
        "id": "-J3RRgg4YOBy",
        "outputId": "e4bebcef-d14d-4682-cdab-f4540b256072"
      },
      "source": [
        "DF1.shape"
      ],
      "execution_count": 107,
      "outputs": [
        {
          "output_type": "execute_result",
          "data": {
            "text/plain": [
              "(23791, 74)"
            ]
          },
          "metadata": {},
          "execution_count": 107
        }
      ]
    },
    {
      "cell_type": "code",
      "metadata": {
        "id": "SWTDdPDQWbjL"
      },
      "source": [
        "from sklearn.preprocessing import StandardScaler\n",
        "DF2  = DF1.drop(['weather'], axis = 1)\n",
        "scaler = StandardScaler()\n",
        "scaler.fit(DF2)\n",
        "X_scaled = scaler.transform(DF2)"
      ],
      "execution_count": 108,
      "outputs": []
    },
    {
      "cell_type": "code",
      "metadata": {
        "colab": {
          "base_uri": "https://localhost:8080/"
        },
        "id": "uv9cD1wSYSuk",
        "outputId": "75f513a9-3342-4874-df4c-ddc04e4306d1"
      },
      "source": [
        "DF2.shape"
      ],
      "execution_count": 109,
      "outputs": [
        {
          "output_type": "execute_result",
          "data": {
            "text/plain": [
              "(23791, 73)"
            ]
          },
          "metadata": {},
          "execution_count": 109
        }
      ]
    },
    {
      "cell_type": "code",
      "metadata": {
        "colab": {
          "base_uri": "https://localhost:8080/"
        },
        "id": "N4U3JaeaW27h",
        "outputId": "06ef156e-7f88-4461-f565-a8cc9decc9ef"
      },
      "source": [
        "from sklearn.decomposition import PCA\n",
        "\n",
        "pca = PCA(n_components = 25)\n",
        "pca.fit(X_scaled)\n",
        "\n",
        "X_pca = pca.transform(X_scaled)\n",
        "print('원본 데이터 형태:', str(X_scaled.shape))\n",
        "print('축소된 데이터 형태:', str(X_pca.shape))\n",
        "\n"
      ],
      "execution_count": 110,
      "outputs": [
        {
          "output_type": "stream",
          "name": "stdout",
          "text": [
            "원본 데이터 형태: (23791, 73)\n",
            "축소된 데이터 형태: (23791, 25)\n"
          ]
        }
      ]
    },
    {
      "cell_type": "code",
      "metadata": {
        "colab": {
          "base_uri": "https://localhost:8080/",
          "height": 365
        },
        "id": "yKvPOVUdYLt0",
        "outputId": "922066d2-5a3b-4716-848f-5ac0fe293fd0"
      },
      "source": [
        "plt.figure(figsize = (9,6))\n",
        "plt.scatter(X_pca[:,0], X_pca[:,1], DF2.price)\n",
        "plt.legend(['bad', 'good'], loc = 'best')\n",
        "plt.gca().set_aspect(\"equal\")\n",
        "\n",
        "plt.xlabel('1st PCA')\n",
        "plt.ylabel('2st PCA')\n",
        "plt.show()\n"
      ],
      "execution_count": 111,
      "outputs": [
        {
          "output_type": "display_data",
          "data": {
            "image/png": "[encoded data removed]",
            "text/plain": [
              "<Figure size 648x432 with 1 Axes>"
            ]
          },
          "metadata": {
            "needs_background": "light"
          }
        }
      ]
    },
    {
      "cell_type": "code",
      "metadata": {
        "colab": {
          "base_uri": "https://localhost:8080/"
        },
        "id": "kgCRfIwAYuTF",
        "outputId": "f7260d19-65ae-4ce9-c0bf-07de91681810"
      },
      "source": [
        "print(\"PCA 주성분 형태 : \" , pca.components_.shape)"
      ],
      "execution_count": 112,
      "outputs": [
        {
          "output_type": "stream",
          "name": "stdout",
          "text": [
            "PCA 주성분 형태 :  (25, 73)\n"
          ]
        }
      ]
    },
    {
      "cell_type": "code",
      "metadata": {
        "colab": {
          "base_uri": "https://localhost:8080/"
        },
        "id": "Ck5zTVyVcNKn",
        "outputId": "8a56ea08-d62a-447a-893f-93f3e1331eb4"
      },
      "source": [
        "print(\"PCA 주성분 형태 : \" , pca.components_)"
      ],
      "execution_count": 113,
      "outputs": [
        {
          "output_type": "stream",
          "name": "stdout",
          "text": [
            "PCA 주성분 형태 :  [[ 0.05565913  0.00709842 -0.01118015 ...  0.04570187 -0.0397008\n",
            "  -0.09476873]\n",
            " [ 0.11278583  0.00332988  0.00788558 ...  0.0388685  -0.0360487\n",
            "   0.09164425]\n",
            " [-0.05981303 -0.00560458 -0.00170913 ...  0.20151244  0.02422797\n",
            "   0.02199533]\n",
            " ...\n",
            " [ 0.01337706  0.07326072 -0.02931979 ...  0.06291781 -0.11926112\n",
            "   0.1637579 ]\n",
            " [-0.08716215 -0.01761175 -0.09360077 ... -0.11925709 -0.16092288\n",
            "   0.04855144]\n",
            " [-0.0927928  -0.00073521  0.08411242 ... -0.17186214  0.09506517\n",
            "   0.06253007]]\n"
          ]
        }
      ]
    },
    {
      "cell_type": "code",
      "metadata": {
        "colab": {
          "base_uri": "https://localhost:8080/",
          "height": 297
        },
        "id": "-9MahzDCco_Z",
        "outputId": "fcdf0792-21ce-4ffe-ed64-39f74b2b123f"
      },
      "source": [
        "plt.matshow(pca.components_, cmap = 'viridis')\n",
        "plt.yticks([0,1],['1st PCA', '2st PCA'])\n",
        "plt.colorbar()\n",
        "plt.xticks(range(len(DF2.columns)),\n",
        "           DF2.columns, rotation = 60, ha = 'left')\n",
        "plt.xlabel('feature')\n",
        "plt.ylabel('PCA')"
      ],
      "execution_count": 114,
      "outputs": [
        {
          "output_type": "execute_result",
          "data": {
            "text/plain": [
              "Text(0, 0.5, 'PCA')"
            ]
          },
          "metadata": {},
          "execution_count": 114
        },
        {
          "output_type": "display_data",
          "data": {
            "image/png": "[encoded data removed]",
            "text/plain": [
              "<Figure size 840.96x288 with 2 Axes>"
            ]
          },
          "metadata": {
            "needs_background": "light"
          }
        }
      ]
    },
    {
      "cell_type": "code",
      "metadata": {
        "colab": {
          "base_uri": "https://localhost:8080/"
        },
        "id": "a2oO_9UA09RI",
        "outputId": "87c856f1-9719-4c63-a46c-d92aea143a37"
      },
      "source": [
        "\n",
        "\n",
        "pd.Series(np.cumsum(pca.explained_variance_ratio_))"
      ],
      "execution_count": 115,
      "outputs": [
        {
          "output_type": "execute_result",
          "data": {
            "text/plain": [
              "0     0.244334\n",
              "1     0.410797\n",
              "2     0.526555\n",
              "3     0.620585\n",
              "4     0.695007\n",
              "5     0.727006\n",
              "6     0.757679\n",
              "7     0.782369\n",
              "8     0.802557\n",
              "9     0.820273\n",
              "10    0.836635\n",
              "11    0.851525\n",
              "12    0.865425\n",
              "13    0.878061\n",
              "14    0.889650\n",
              "15    0.899884\n",
              "16    0.909582\n",
              "17    0.918073\n",
              "18    0.926086\n",
              "19    0.933562\n",
              "20    0.940032\n",
              "21    0.946412\n",
              "22    0.952190\n",
              "23    0.957406\n",
              "24    0.961933\n",
              "dtype: float64"
            ]
          },
          "metadata": {},
          "execution_count": 115
        }
      ]
    },
    {
      "cell_type": "code",
      "metadata": {
        "colab": {
          "base_uri": "https://localhost:8080/"
        },
        "id": "Ic9ho55sdKYY",
        "outputId": "52d8cc35-30e1-4c80-d0e9-18c2ab71caeb"
      },
      "source": [
        "pca.explained_variance_ratio_"
      ],
      "execution_count": 116,
      "outputs": [
        {
          "output_type": "execute_result",
          "data": {
            "text/plain": [
              "array([0.24433357, 0.16646315, 0.11575858, 0.09403003, 0.07442188,\n",
              "       0.03199898, 0.03067275, 0.02468963, 0.02018799, 0.01771684,\n",
              "       0.01636187, 0.01488962, 0.01389994, 0.01263612, 0.01158944,\n",
              "       0.01023373, 0.00969767, 0.00849143, 0.00801236, 0.00747665,\n",
              "       0.00646975, 0.00637981, 0.00577803, 0.00521577, 0.00452763])"
            ]
          },
          "metadata": {},
          "execution_count": 116
        }
      ]
    },
    {
      "cell_type": "code",
      "metadata": {
        "colab": {
          "base_uri": "https://localhost:8080/",
          "height": 404
        },
        "id": "GSvSiM5Qtlsi",
        "outputId": "4f297766-3c4a-4d58-a776-c9ae311d896b"
      },
      "source": [
        "percent_variance = np.round(pca.explained_variance_ratio_* 100, decimals =2)\n",
        "columns = []\n",
        "for i in range(len(percent_variance)):\n",
        "    columns.append(f'PC{i+1}')\n",
        "    \n",
        "plt.figure(figsize = (20,6))\n",
        "ax = plt.bar(x = range(len(percent_variance)), height=percent_variance, tick_label=columns)\n",
        "plt.ylabel('Percentate of Variance Explained')\n",
        "plt.xlabel('Principal Component')\n",
        "plt.title('PCA Scree Plot')\n",
        "plt.show()"
      ],
      "execution_count": 117,
      "outputs": [
        {
          "output_type": "display_data",
          "data": {
            "image/png": "[encoded data removed]",
            "text/plain": [
              "<Figure size 1440x432 with 1 Axes>"
            ]
          },
          "metadata": {
            "needs_background": "light"
          }
        }
      ]
    },
    {
      "cell_type": "code",
      "metadata": {
        "colab": {
          "base_uri": "https://localhost:8080/",
          "height": 279
        },
        "id": "lkW8iVZGt3Ku",
        "outputId": "62d9c568-28d2-49e5-c751-acc6975ba97f"
      },
      "source": [
        "plt.plot(pca.explained_variance_ratio_)\n",
        "plt.xlabel('number of components')\n",
        "plt.ylabel('cumulative explained variance')\n",
        "plt.show()\n",
        "\n",
        "#PCA1 is at 0 in xscale"
      ],
      "execution_count": 118,
      "outputs": [
        {
          "output_type": "display_data",
          "data": {
            "image/png": "[encoded data removed]",
            "text/plain": [
              "<Figure size 432x288 with 1 Axes>"
            ]
          },
          "metadata": {
            "needs_background": "light"
          }
        }
      ]
    },
    {
      "cell_type": "code",
      "metadata": {
        "colab": {
          "base_uri": "https://localhost:8080/",
          "height": 282
        },
        "id": "o8nLyKTXuAGA",
        "outputId": "9f190c76-e6e5-4a66-99fc-046ea42ab4a5"
      },
      "source": [
        "plt.scatter(X_pca[:,0],X_pca[:,1],X_pca[:,2],X_pca[:,3])"
      ],
      "execution_count": 119,
      "outputs": [
        {
          "output_type": "execute_result",
          "data": {
            "text/plain": [
              "<matplotlib.collections.PathCollection at 0x7f577e6b5650>"
            ]
          },
          "metadata": {},
          "execution_count": 119
        },
        {
          "output_type": "display_data",
          "data": {
            "image/png": "[encoded data removed]",
            "text/plain": [
              "<Figure size 432x288 with 1 Axes>"
            ]
          },
          "metadata": {
            "needs_background": "light"
          }
        }
      ]
    },
    {
      "cell_type": "code",
      "metadata": {
        "colab": {
          "base_uri": "https://localhost:8080/",
          "height": 469
        },
        "id": "bThTEwCgvolu",
        "outputId": "0b4ed17c-6dec-4599-88d6-abf35c9b6921"
      },
      "source": [
        "X_pp = pd.DataFrame(X_pca[:,:23], columns = ['PC1','PC2','PC3','PC4','PC5','PC6','PC7','PC8','PC9','PC10','PC11','PC12','PC13','PC14','PC15','PC16','PC17','PC18','PC19','PC20','PC21','PC22','PC23'], index = DF2.price)\n",
        "X_pp"
      ],
      "execution_count": 138,
      "outputs": [
        {
          "output_type": "execute_result",
          "data": {
            "text/html": [
              "<div>\n",
              "<style scoped>\n",
              "    .dataframe tbody tr th:only-of-type {\n",
              "        vertical-align: middle;\n",
              "    }\n",
              "\n",
              "    .dataframe tbody tr th {\n",
              "        vertical-align: top;\n",
              "    }\n",
              "\n",
              "    .dataframe thead th {\n",
              "        text-align: right;\n",
              "    }\n",
              "</style>\n",
              "<table border=\"1\" class=\"dataframe\">\n",
              "  <thead>\n",
              "    <tr style=\"text-align: right;\">\n",
              "      <th></th>\n",
              "      <th>PC1</th>\n",
              "      <th>PC2</th>\n",
              "      <th>PC3</th>\n",
              "      <th>PC4</th>\n",
              "      <th>PC5</th>\n",
              "      <th>PC6</th>\n",
              "      <th>PC7</th>\n",
              "      <th>PC8</th>\n",
              "      <th>PC9</th>\n",
              "      <th>PC10</th>\n",
              "      <th>PC11</th>\n",
              "      <th>PC12</th>\n",
              "      <th>PC13</th>\n",
              "      <th>PC14</th>\n",
              "      <th>PC15</th>\n",
              "      <th>PC16</th>\n",
              "      <th>PC17</th>\n",
              "      <th>PC18</th>\n",
              "      <th>PC19</th>\n",
              "      <th>PC20</th>\n",
              "      <th>PC21</th>\n",
              "      <th>PC22</th>\n",
              "      <th>PC23</th>\n",
              "    </tr>\n",
              "    <tr>\n",
              "      <th>price</th>\n",
              "      <th></th>\n",
              "      <th></th>\n",
              "      <th></th>\n",
              "      <th></th>\n",
              "      <th></th>\n",
              "      <th></th>\n",
              "      <th></th>\n",
              "      <th></th>\n",
              "      <th></th>\n",
              "      <th></th>\n",
              "      <th></th>\n",
              "      <th></th>\n",
              "      <th></th>\n",
              "      <th></th>\n",
              "      <th></th>\n",
              "      <th></th>\n",
              "      <th></th>\n",
              "      <th></th>\n",
              "      <th></th>\n",
              "      <th></th>\n",
              "      <th></th>\n",
              "      <th></th>\n",
              "      <th></th>\n",
              "    </tr>\n",
              "  </thead>\n",
              "  <tbody>\n",
              "    <tr>\n",
              "      <th>793.00</th>\n",
              "      <td>-0.058765</td>\n",
              "      <td>6.440906</td>\n",
              "      <td>1.606468</td>\n",
              "      <td>-1.304871</td>\n",
              "      <td>-0.006603</td>\n",
              "      <td>1.191666</td>\n",
              "      <td>-0.964371</td>\n",
              "      <td>-0.625951</td>\n",
              "      <td>0.976095</td>\n",
              "      <td>0.333784</td>\n",
              "      <td>-0.042166</td>\n",
              "      <td>-1.248697</td>\n",
              "      <td>0.090627</td>\n",
              "      <td>-0.308727</td>\n",
              "      <td>-0.722902</td>\n",
              "      <td>-0.142903</td>\n",
              "      <td>-2.235613</td>\n",
              "      <td>-0.337264</td>\n",
              "      <td>-0.017640</td>\n",
              "      <td>0.486777</td>\n",
              "      <td>0.395241</td>\n",
              "      <td>-0.293833</td>\n",
              "      <td>0.705859</td>\n",
              "    </tr>\n",
              "    <tr>\n",
              "      <th>843.43</th>\n",
              "      <td>-0.095211</td>\n",
              "      <td>6.435122</td>\n",
              "      <td>1.578136</td>\n",
              "      <td>-1.279301</td>\n",
              "      <td>0.027811</td>\n",
              "      <td>1.396717</td>\n",
              "      <td>-0.855079</td>\n",
              "      <td>-0.623903</td>\n",
              "      <td>-0.143423</td>\n",
              "      <td>-0.702463</td>\n",
              "      <td>-0.454991</td>\n",
              "      <td>-1.070347</td>\n",
              "      <td>0.639655</td>\n",
              "      <td>0.206306</td>\n",
              "      <td>-0.777683</td>\n",
              "      <td>-0.034929</td>\n",
              "      <td>-2.200384</td>\n",
              "      <td>-1.076277</td>\n",
              "      <td>1.335975</td>\n",
              "      <td>0.721490</td>\n",
              "      <td>0.424243</td>\n",
              "      <td>-0.366979</td>\n",
              "      <td>0.734041</td>\n",
              "    </tr>\n",
              "    <tr>\n",
              "      <th>725.00</th>\n",
              "      <td>-0.115957</td>\n",
              "      <td>6.440808</td>\n",
              "      <td>1.622434</td>\n",
              "      <td>-1.436442</td>\n",
              "      <td>-0.039096</td>\n",
              "      <td>1.366285</td>\n",
              "      <td>-0.347590</td>\n",
              "      <td>-0.700423</td>\n",
              "      <td>-0.771330</td>\n",
              "      <td>-0.451985</td>\n",
              "      <td>-0.742704</td>\n",
              "      <td>-1.376026</td>\n",
              "      <td>-1.484732</td>\n",
              "      <td>1.049784</td>\n",
              "      <td>-0.630506</td>\n",
              "      <td>-0.628571</td>\n",
              "      <td>-2.226498</td>\n",
              "      <td>0.397685</td>\n",
              "      <td>-1.868649</td>\n",
              "      <td>0.102171</td>\n",
              "      <td>0.237385</td>\n",
              "      <td>-0.442951</td>\n",
              "      <td>0.490038</td>\n",
              "    </tr>\n",
              "    <tr>\n",
              "      <th>804.59</th>\n",
              "      <td>-0.018727</td>\n",
              "      <td>6.479671</td>\n",
              "      <td>1.620105</td>\n",
              "      <td>-1.337923</td>\n",
              "      <td>-0.083487</td>\n",
              "      <td>1.193291</td>\n",
              "      <td>-0.913606</td>\n",
              "      <td>-0.648587</td>\n",
              "      <td>1.006837</td>\n",
              "      <td>0.294321</td>\n",
              "      <td>0.008242</td>\n",
              "      <td>-1.030970</td>\n",
              "      <td>0.114057</td>\n",
              "      <td>-0.336002</td>\n",
              "      <td>-0.780956</td>\n",
              "      <td>-0.255930</td>\n",
              "      <td>-2.134553</td>\n",
              "      <td>-0.291868</td>\n",
              "      <td>0.008924</td>\n",
              "      <td>0.371656</td>\n",
              "      <td>0.526105</td>\n",
              "      <td>-0.373042</td>\n",
              "      <td>0.392306</td>\n",
              "    </tr>\n",
              "    <tr>\n",
              "      <th>890.58</th>\n",
              "      <td>-0.049350</td>\n",
              "      <td>6.485685</td>\n",
              "      <td>1.585516</td>\n",
              "      <td>-1.309429</td>\n",
              "      <td>-0.052083</td>\n",
              "      <td>1.415603</td>\n",
              "      <td>-0.798615</td>\n",
              "      <td>-0.643232</td>\n",
              "      <td>-0.099095</td>\n",
              "      <td>-0.768250</td>\n",
              "      <td>-0.396790</td>\n",
              "      <td>-0.816622</td>\n",
              "      <td>0.641295</td>\n",
              "      <td>0.180741</td>\n",
              "      <td>-0.849932</td>\n",
              "      <td>-0.099488</td>\n",
              "      <td>-2.106392</td>\n",
              "      <td>-1.016745</td>\n",
              "      <td>1.372953</td>\n",
              "      <td>0.607078</td>\n",
              "      <td>0.574052</td>\n",
              "      <td>-0.383097</td>\n",
              "      <td>0.421886</td>\n",
              "    </tr>\n",
              "    <tr>\n",
              "      <th>...</th>\n",
              "      <td>...</td>\n",
              "      <td>...</td>\n",
              "      <td>...</td>\n",
              "      <td>...</td>\n",
              "      <td>...</td>\n",
              "      <td>...</td>\n",
              "      <td>...</td>\n",
              "      <td>...</td>\n",
              "      <td>...</td>\n",
              "      <td>...</td>\n",
              "      <td>...</td>\n",
              "      <td>...</td>\n",
              "      <td>...</td>\n",
              "      <td>...</td>\n",
              "      <td>...</td>\n",
              "      <td>...</td>\n",
              "      <td>...</td>\n",
              "      <td>...</td>\n",
              "      <td>...</td>\n",
              "      <td>...</td>\n",
              "      <td>...</td>\n",
              "      <td>...</td>\n",
              "      <td>...</td>\n",
              "    </tr>\n",
              "    <tr>\n",
              "      <th>819.59</th>\n",
              "      <td>7.552413</td>\n",
              "      <td>-5.407479</td>\n",
              "      <td>-0.109981</td>\n",
              "      <td>1.722109</td>\n",
              "      <td>-0.601941</td>\n",
              "      <td>1.977777</td>\n",
              "      <td>0.166593</td>\n",
              "      <td>3.347605</td>\n",
              "      <td>2.881541</td>\n",
              "      <td>-3.806488</td>\n",
              "      <td>3.609126</td>\n",
              "      <td>-2.072378</td>\n",
              "      <td>0.170715</td>\n",
              "      <td>-0.827278</td>\n",
              "      <td>-2.047831</td>\n",
              "      <td>-1.181313</td>\n",
              "      <td>0.815869</td>\n",
              "      <td>0.527697</td>\n",
              "      <td>0.276607</td>\n",
              "      <td>-1.074305</td>\n",
              "      <td>-0.635039</td>\n",
              "      <td>-0.548468</td>\n",
              "      <td>0.052983</td>\n",
              "    </tr>\n",
              "    <tr>\n",
              "      <th>872.83</th>\n",
              "      <td>13.240063</td>\n",
              "      <td>-4.472002</td>\n",
              "      <td>-1.844010</td>\n",
              "      <td>-1.529728</td>\n",
              "      <td>0.032331</td>\n",
              "      <td>4.612730</td>\n",
              "      <td>0.171182</td>\n",
              "      <td>5.120610</td>\n",
              "      <td>0.031744</td>\n",
              "      <td>0.910186</td>\n",
              "      <td>4.971214</td>\n",
              "      <td>-2.862984</td>\n",
              "      <td>-1.992381</td>\n",
              "      <td>1.405582</td>\n",
              "      <td>-1.832339</td>\n",
              "      <td>-1.221707</td>\n",
              "      <td>1.458062</td>\n",
              "      <td>-2.146298</td>\n",
              "      <td>-0.961599</td>\n",
              "      <td>-2.384245</td>\n",
              "      <td>3.877987</td>\n",
              "      <td>0.034813</td>\n",
              "      <td>0.806537</td>\n",
              "    </tr>\n",
              "    <tr>\n",
              "      <th>731.67</th>\n",
              "      <td>13.214490</td>\n",
              "      <td>-4.522484</td>\n",
              "      <td>-1.844226</td>\n",
              "      <td>-1.421701</td>\n",
              "      <td>0.126602</td>\n",
              "      <td>4.758617</td>\n",
              "      <td>-0.089628</td>\n",
              "      <td>5.321414</td>\n",
              "      <td>-0.575532</td>\n",
              "      <td>0.195450</td>\n",
              "      <td>5.009282</td>\n",
              "      <td>-2.887668</td>\n",
              "      <td>0.622778</td>\n",
              "      <td>0.463184</td>\n",
              "      <td>-2.078119</td>\n",
              "      <td>-0.989808</td>\n",
              "      <td>1.543328</td>\n",
              "      <td>-2.229672</td>\n",
              "      <td>-0.699038</td>\n",
              "      <td>-2.313698</td>\n",
              "      <td>3.774981</td>\n",
              "      <td>-0.103468</td>\n",
              "      <td>1.016984</td>\n",
              "    </tr>\n",
              "    <tr>\n",
              "      <th>774.76</th>\n",
              "      <td>13.188373</td>\n",
              "      <td>-4.524991</td>\n",
              "      <td>-1.869616</td>\n",
              "      <td>-1.385790</td>\n",
              "      <td>0.162934</td>\n",
              "      <td>4.943515</td>\n",
              "      <td>-0.040283</td>\n",
              "      <td>5.354363</td>\n",
              "      <td>-1.478863</td>\n",
              "      <td>-0.688249</td>\n",
              "      <td>4.716273</td>\n",
              "      <td>-2.734406</td>\n",
              "      <td>1.378967</td>\n",
              "      <td>0.709541</td>\n",
              "      <td>-2.164317</td>\n",
              "      <td>-0.842734</td>\n",
              "      <td>1.576050</td>\n",
              "      <td>-2.765015</td>\n",
              "      <td>0.322673</td>\n",
              "      <td>-2.134083</td>\n",
              "      <td>3.794748</td>\n",
              "      <td>-0.129218</td>\n",
              "      <td>1.068110</td>\n",
              "    </tr>\n",
              "    <tr>\n",
              "      <th>793.19</th>\n",
              "      <td>13.240103</td>\n",
              "      <td>-4.503048</td>\n",
              "      <td>-1.853689</td>\n",
              "      <td>-1.391818</td>\n",
              "      <td>0.125567</td>\n",
              "      <td>4.728474</td>\n",
              "      <td>-0.223145</td>\n",
              "      <td>5.347767</td>\n",
              "      <td>-0.067986</td>\n",
              "      <td>0.434523</td>\n",
              "      <td>5.220774</td>\n",
              "      <td>-2.829670</td>\n",
              "      <td>0.890638</td>\n",
              "      <td>0.096220</td>\n",
              "      <td>-2.120033</td>\n",
              "      <td>-0.822580</td>\n",
              "      <td>1.526961</td>\n",
              "      <td>-2.235784</td>\n",
              "      <td>-0.525445</td>\n",
              "      <td>-2.272479</td>\n",
              "      <td>3.829726</td>\n",
              "      <td>0.039731</td>\n",
              "      <td>1.063399</td>\n",
              "    </tr>\n",
              "  </tbody>\n",
              "</table>\n",
              "<p>23791 rows × 23 columns</p>\n",
              "</div>"
            ],
            "text/plain": [
              "              PC1       PC2       PC3  ...      PC21      PC22      PC23\n",
              "price                                  ...                              \n",
              "793.00  -0.058765  6.440906  1.606468  ...  0.395241 -0.293833  0.705859\n",
              "843.43  -0.095211  6.435122  1.578136  ...  0.424243 -0.366979  0.734041\n",
              "725.00  -0.115957  6.440808  1.622434  ...  0.237385 -0.442951  0.490038\n",
              "804.59  -0.018727  6.479671  1.620105  ...  0.526105 -0.373042  0.392306\n",
              "890.58  -0.049350  6.485685  1.585516  ...  0.574052 -0.383097  0.421886\n",
              "...           ...       ...       ...  ...       ...       ...       ...\n",
              "819.59   7.552413 -5.407479 -0.109981  ... -0.635039 -0.548468  0.052983\n",
              "872.83  13.240063 -4.472002 -1.844010  ...  3.877987  0.034813  0.806537\n",
              "731.67  13.214490 -4.522484 -1.844226  ...  3.774981 -0.103468  1.016984\n",
              "774.76  13.188373 -4.524991 -1.869616  ...  3.794748 -0.129218  1.068110\n",
              "793.19  13.240103 -4.503048 -1.853689  ...  3.829726  0.039731  1.063399\n",
              "\n",
              "[23791 rows x 23 columns]"
            ]
          },
          "metadata": {},
          "execution_count": 138
        }
      ]
    },
    {
      "cell_type": "code",
      "metadata": {
        "id": "EDYMjS1u2ONl"
      },
      "source": [
        "from sklearn.model_selection import train_test_split\n",
        "\n",
        "X = X_pp\n",
        "y = X_pp.index\n",
        "\n"
      ],
      "execution_count": 139,
      "outputs": []
    },
    {
      "cell_type": "code",
      "metadata": {
        "colab": {
          "base_uri": "https://localhost:8080/"
        },
        "id": "Qelj7Lf-R-Wb",
        "outputId": "c530c70e-9821-4b5c-ce69-e1dff8cc20d2"
      },
      "source": [
        "X_train , X_test, y_train, y_test = train_test_split(X, y,\n",
        "                                                    test_size = 0.3,\n",
        "                                                    random_state = 2045)\n",
        "print('Train Data : ', X_train.shape, y_train.shape)\n",
        "print('Test Data', X_test.shape, y_test.shape)"
      ],
      "execution_count": 140,
      "outputs": [
        {
          "output_type": "stream",
          "name": "stdout",
          "text": [
            "Train Data :  (16653, 23) (16653,)\n",
            "Test Data (7138, 23) (7138,)\n"
          ]
        }
      ]
    },
    {
      "cell_type": "code",
      "metadata": {
        "colab": {
          "base_uri": "https://localhost:8080/"
        },
        "id": "jUUKdlOaSnK2",
        "outputId": "d4664e26-558f-484d-dea4-b553f0f12a49"
      },
      "source": [
        "from sklearn.linear_model import LinearRegression\n",
        "\n",
        "MR = LinearRegression(normalize = True, n_jobs = -1)\n",
        "MR.fit(X_train, y_train)"
      ],
      "execution_count": 141,
      "outputs": [
        {
          "output_type": "execute_result",
          "data": {
            "text/plain": [
              "LinearRegression(copy_X=True, fit_intercept=True, n_jobs=-1, normalize=True)"
            ]
          },
          "metadata": {},
          "execution_count": 141
        }
      ]
    },
    {
      "cell_type": "code",
      "metadata": {
        "colab": {
          "base_uri": "https://localhost:8080/"
        },
        "id": "UBF1UDizSyGu",
        "outputId": "bd80ae30-9911-4411-8bc8-0c9526094b7c"
      },
      "source": [
        "from sklearn.metrics import mean_squared_error\n",
        "import numpy as np\n",
        "\n",
        "mse = mean_squared_error(y_test, MR.predict(X_test))\n",
        "np.sqrt(mse)"
      ],
      "execution_count": 142,
      "outputs": [
        {
          "output_type": "execute_result",
          "data": {
            "text/plain": [
              "35.10220064485842"
            ]
          },
          "metadata": {},
          "execution_count": 142
        }
      ]
    }
  ]
}