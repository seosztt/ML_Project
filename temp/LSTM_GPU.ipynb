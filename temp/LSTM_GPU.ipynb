{
 "cells": [
  {
   "cell_type": "code",
   "execution_count": 1,
   "metadata": {
    "executionInfo": {
     "elapsed": 404,
     "status": "ok",
     "timestamp": 1633935108870,
     "user": {
      "displayName": "임성국",
      "photoUrl": "https://lh3.googleusercontent.com/a/default-user=s64",
      "userId": "16836461090630312519"
     },
     "user_tz": -540
    },
    "id": "_0PRQgy4CnKo"
   },
   "outputs": [],
   "source": [
    "import warnings\n",
    "warnings.filterwarnings('ignore')"
   ]
  },
  {
   "cell_type": "code",
   "execution_count": 2,
   "metadata": {
    "executionInfo": {
     "elapsed": 2460,
     "status": "ok",
     "timestamp": 1633935111328,
     "user": {
      "displayName": "임성국",
      "photoUrl": "https://lh3.googleusercontent.com/a/default-user=s64",
      "userId": "16836461090630312519"
     },
     "user_tz": -540
    },
    "id": "Fe0e85ElD8ZZ"
   },
   "outputs": [],
   "source": [
    "import numpy as np\n",
    "import pandas as pd\n",
    "from matplotlib import pyplot as plt\n",
    "\n",
    "from sklearn.preprocessing import MinMaxScaler\n",
    "\n",
    "from tensorflow.keras.models import Sequential\n",
    "from tensorflow.keras.layers import Dense, LSTM"
   ]
  },
  {
   "cell_type": "code",
   "execution_count": 3,
   "metadata": {
    "colab": {
     "base_uri": "https://localhost:8080/",
     "height": 35
    },
    "executionInfo": {
     "elapsed": 5,
     "status": "ok",
     "timestamp": 1633935111328,
     "user": {
      "displayName": "임성국",
      "photoUrl": "https://lh3.googleusercontent.com/a/default-user=s64",
      "userId": "16836461090630312519"
     },
     "user_tz": -540
    },
    "id": "wci9hgxXCy-6",
    "outputId": "78378bcb-09ce-48f4-e641-3b154198b5fb"
   },
   "outputs": [
    {
     "data": {
      "application/vnd.google.colaboratory.intrinsic+json": {
       "type": "string"
      },
      "text/plain": [
       "'2.6.0'"
      ]
     },
     "execution_count": 3,
     "metadata": {},
     "output_type": "execute_result"
    }
   ],
   "source": [
    "import tensorflow as tf\n",
    "\n",
    "tf.__version__"
   ]
  },
  {
   "cell_type": "code",
   "execution_count": 4,
   "metadata": {
    "colab": {
     "base_uri": "https://localhost:8080/"
    },
    "executionInfo": {
     "elapsed": 252,
     "status": "ok",
     "timestamp": 1633935112017,
     "user": {
      "displayName": "임성국",
      "photoUrl": "https://lh3.googleusercontent.com/a/default-user=s64",
      "userId": "16836461090630312519"
     },
     "user_tz": -540
    },
    "id": "fcge_p5qDAWy",
    "outputId": "d5ec2318-93d3-474c-b68b-edfa9c80cef3"
   },
   "outputs": [
    {
     "name": "stdout",
     "output_type": "stream",
     "text": [
      "GPU Information - /device:GPU:0 \n",
      "\n",
      "Mon Oct 11 06:51:52 2021       \n",
      "+-----------------------------------------------------------------------------+\n",
      "| NVIDIA-SMI 470.74       Driver Version: 460.32.03    CUDA Version: 11.2     |\n",
      "|-------------------------------+----------------------+----------------------+\n",
      "| GPU  Name        Persistence-M| Bus-Id        Disp.A | Volatile Uncorr. ECC |\n",
      "| Fan  Temp  Perf  Pwr:Usage/Cap|         Memory-Usage | GPU-Util  Compute M. |\n",
      "|                               |                      |               MIG M. |\n",
      "|===============================+======================+======================|\n",
      "|   0  Tesla K80           Off  | 00000000:00:04.0 Off |                    0 |\n",
      "| N/A   72C    P0    70W / 149W |    121MiB / 11441MiB |      4%      Default |\n",
      "|                               |                      |                  N/A |\n",
      "+-------------------------------+----------------------+----------------------+\n",
      "                                                                               \n",
      "+-----------------------------------------------------------------------------+\n",
      "| Processes:                                                                  |\n",
      "|  GPU   GI   CI        PID   Type   Process name                  GPU Memory |\n",
      "|        ID   ID                                                   Usage      |\n",
      "|=============================================================================|\n",
      "|  No running processes found                                                 |\n",
      "+-----------------------------------------------------------------------------+\n"
     ]
    }
   ],
   "source": [
    "print('GPU Information -', tf.test.gpu_device_name(), '\\n')\n",
    "\n",
    "!nvidia-smi"
   ]
  },
  {
   "cell_type": "code",
   "execution_count": 5,
   "metadata": {
    "colab": {
     "base_uri": "https://localhost:8080/"
    },
    "executionInfo": {
     "elapsed": 236,
     "status": "ok",
     "timestamp": 1633935114630,
     "user": {
      "displayName": "임성국",
      "photoUrl": "https://lh3.googleusercontent.com/a/default-user=s64",
      "userId": "16836461090630312519"
     },
     "user_tz": -540
    },
    "id": "nYG01829DBKd",
    "outputId": "a4b606fa-b1e7-4dab-f628-f324eca860a8"
   },
   "outputs": [
    {
     "name": "stdout",
     "output_type": "stream",
     "text": [
      "Drive already mounted at /content/drive; to attempt to forcibly remount, call drive.mount(\"/content/drive\", force_remount=True).\n"
     ]
    }
   ],
   "source": [
    "from google.colab import drive\n",
    "\n",
    "drive.mount('/content/drive')"
   ]
  },
  {
   "cell_type": "code",
   "execution_count": 6,
   "metadata": {
    "colab": {
     "base_uri": "https://localhost:8080/"
    },
    "executionInfo": {
     "elapsed": 259,
     "status": "ok",
     "timestamp": 1633935119982,
     "user": {
      "displayName": "임성국",
      "photoUrl": "https://lh3.googleusercontent.com/a/default-user=s64",
      "userId": "16836461090630312519"
     },
     "user_tz": -540
    },
    "id": "f_w6QPbBDCyX",
    "outputId": "5fee3b98-dfd4-4b28-eaf1-db0cbc61273b"
   },
   "outputs": [
    {
     "name": "stdout",
     "output_type": "stream",
     "text": [
      "total 2216991\n",
      "-rw------- 1 root root   69155672 Sep 15 01:08 creditCardFraud.zip\n",
      "-rw------- 1 root root     158636 Oct 11 05:24 daily_cost_quantity.csv\n",
      "-rw------- 1 root root   16460562 Oct 11 00:31 daily_onion_wholesale.csv\n",
      "-rw------- 1 root root   90618980 Sep 15 01:08 dogs_and_cats_small.zip\n",
      "-rw------- 1 root root  862182613 Sep 15 01:08 GloVe.zip\n",
      "-rw------- 1 root root   80596565 Sep 15 01:08 ko_w2v.zip\n",
      "-rw------- 1 root root    7903524 Sep 15 01:08 naverRatings.zip\n",
      "-rw------- 1 root root      33399 Sep  8 09:33 sample_submission.csv\n",
      "-rw------- 1 root root     798145 Sep 26 15:28 test_0926.csv\n",
      "-rw------- 1 root root     826548 Sep 26 15:28 train_0926.csv\n",
      "-rw------- 1 root root 1141460846 Sep 15 01:08 waferImages.zip\n"
     ]
    }
   ],
   "source": [
    "!ls -l '/content/drive/MyDrive/Colab Notebooks/datasets'"
   ]
  },
  {
   "cell_type": "markdown",
   "metadata": {
    "heading_collapsed": true,
    "id": "s-to7WGaLoPi"
   },
   "source": [
    "# len(train)=2000, len(test)=398, lookback=90"
   ]
  },
  {
   "cell_type": "code",
   "execution_count": 7,
   "metadata": {
    "executionInfo": {
     "elapsed": 232,
     "status": "ok",
     "timestamp": 1633935122327,
     "user": {
      "displayName": "임성국",
      "photoUrl": "https://lh3.googleusercontent.com/a/default-user=s64",
      "userId": "16836461090630312519"
     },
     "user_tz": -540
    },
    "hidden": true,
    "id": "jkVe5zQWD4VM"
   },
   "outputs": [],
   "source": [
    "df=pd.read_csv('/content/drive/MyDrive/Colab Notebooks/datasets/daily_cost_quantity.csv',encoding = 'cp949')"
   ]
  },
  {
   "cell_type": "code",
   "execution_count": 8,
   "metadata": {
    "colab": {
     "base_uri": "https://localhost:8080/",
     "height": 419
    },
    "executionInfo": {
     "elapsed": 3,
     "status": "ok",
     "timestamp": 1633935123243,
     "user": {
      "displayName": "임성국",
      "photoUrl": "https://lh3.googleusercontent.com/a/default-user=s64",
      "userId": "16836461090630312519"
     },
     "user_tz": -540
    },
    "hidden": true,
    "id": "sBzETlnkEkgK",
    "outputId": "75ab8371-af2f-4566-bafc-4a2acfe2d818"
   },
   "outputs": [
    {
     "data": {
      "text/html": [
       "<div>\n",
       "<style scoped>\n",
       "    .dataframe tbody tr th:only-of-type {\n",
       "        vertical-align: middle;\n",
       "    }\n",
       "\n",
       "    .dataframe tbody tr th {\n",
       "        vertical-align: top;\n",
       "    }\n",
       "\n",
       "    .dataframe thead th {\n",
       "        text-align: right;\n",
       "    }\n",
       "</style>\n",
       "<table border=\"1\" class=\"dataframe\">\n",
       "  <thead>\n",
       "    <tr style=\"text-align: right;\">\n",
       "      <th></th>\n",
       "      <th>Unnamed: 0</th>\n",
       "      <th>date</th>\n",
       "      <th>qty</th>\n",
       "      <th>total</th>\n",
       "      <th>cost</th>\n",
       "    </tr>\n",
       "  </thead>\n",
       "  <tbody>\n",
       "    <tr>\n",
       "      <th>0</th>\n",
       "      <td>17</td>\n",
       "      <td>2014-01-03</td>\n",
       "      <td>991.010</td>\n",
       "      <td>725.48</td>\n",
       "      <td>732.061230</td>\n",
       "    </tr>\n",
       "    <tr>\n",
       "      <th>1</th>\n",
       "      <td>19</td>\n",
       "      <td>2014-01-04</td>\n",
       "      <td>533.110</td>\n",
       "      <td>399.97</td>\n",
       "      <td>750.257921</td>\n",
       "    </tr>\n",
       "    <tr>\n",
       "      <th>2</th>\n",
       "      <td>20</td>\n",
       "      <td>2014-01-06</td>\n",
       "      <td>981.930</td>\n",
       "      <td>699.03</td>\n",
       "      <td>711.893923</td>\n",
       "    </tr>\n",
       "    <tr>\n",
       "      <th>3</th>\n",
       "      <td>21</td>\n",
       "      <td>2014-01-07</td>\n",
       "      <td>662.890</td>\n",
       "      <td>481.38</td>\n",
       "      <td>726.183831</td>\n",
       "    </tr>\n",
       "    <tr>\n",
       "      <th>4</th>\n",
       "      <td>22</td>\n",
       "      <td>2014-01-08</td>\n",
       "      <td>649.530</td>\n",
       "      <td>451.31</td>\n",
       "      <td>694.825489</td>\n",
       "    </tr>\n",
       "    <tr>\n",
       "      <th>...</th>\n",
       "      <td>...</td>\n",
       "      <td>...</td>\n",
       "      <td>...</td>\n",
       "      <td>...</td>\n",
       "      <td>...</td>\n",
       "    </tr>\n",
       "    <tr>\n",
       "      <th>2393</th>\n",
       "      <td>2193</td>\n",
       "      <td>2021-10-02</td>\n",
       "      <td>1171.170</td>\n",
       "      <td>945.29</td>\n",
       "      <td>807.133038</td>\n",
       "    </tr>\n",
       "    <tr>\n",
       "      <th>2394</th>\n",
       "      <td>2194</td>\n",
       "      <td>2021-10-04</td>\n",
       "      <td>1681.530</td>\n",
       "      <td>1400.94</td>\n",
       "      <td>833.134110</td>\n",
       "    </tr>\n",
       "    <tr>\n",
       "      <th>2395</th>\n",
       "      <td>2195</td>\n",
       "      <td>2021-10-05</td>\n",
       "      <td>1499.685</td>\n",
       "      <td>1276.92</td>\n",
       "      <td>851.458806</td>\n",
       "    </tr>\n",
       "    <tr>\n",
       "      <th>2396</th>\n",
       "      <td>2196</td>\n",
       "      <td>2021-10-06</td>\n",
       "      <td>1555.345</td>\n",
       "      <td>1380.85</td>\n",
       "      <td>887.809457</td>\n",
       "    </tr>\n",
       "    <tr>\n",
       "      <th>2397</th>\n",
       "      <td>2197</td>\n",
       "      <td>2021-10-07</td>\n",
       "      <td>1501.705</td>\n",
       "      <td>1313.83</td>\n",
       "      <td>874.892206</td>\n",
       "    </tr>\n",
       "  </tbody>\n",
       "</table>\n",
       "<p>2398 rows × 5 columns</p>\n",
       "</div>"
      ],
      "text/plain": [
       "      Unnamed: 0        date       qty    total        cost\n",
       "0             17  2014-01-03   991.010   725.48  732.061230\n",
       "1             19  2014-01-04   533.110   399.97  750.257921\n",
       "2             20  2014-01-06   981.930   699.03  711.893923\n",
       "3             21  2014-01-07   662.890   481.38  726.183831\n",
       "4             22  2014-01-08   649.530   451.31  694.825489\n",
       "...          ...         ...       ...      ...         ...\n",
       "2393        2193  2021-10-02  1171.170   945.29  807.133038\n",
       "2394        2194  2021-10-04  1681.530  1400.94  833.134110\n",
       "2395        2195  2021-10-05  1499.685  1276.92  851.458806\n",
       "2396        2196  2021-10-06  1555.345  1380.85  887.809457\n",
       "2397        2197  2021-10-07  1501.705  1313.83  874.892206\n",
       "\n",
       "[2398 rows x 5 columns]"
      ]
     },
     "execution_count": 8,
     "metadata": {},
     "output_type": "execute_result"
    }
   ],
   "source": [
    "df"
   ]
  },
  {
   "cell_type": "code",
   "execution_count": 9,
   "metadata": {
    "colab": {
     "base_uri": "https://localhost:8080/",
     "height": 320
    },
    "executionInfo": {
     "elapsed": 603,
     "status": "ok",
     "timestamp": 1633935143183,
     "user": {
      "displayName": "임성국",
      "photoUrl": "https://lh3.googleusercontent.com/a/default-user=s64",
      "userId": "16836461090630312519"
     },
     "user_tz": -540
    },
    "hidden": true,
    "id": "SEEyEuXNEzql",
    "outputId": "d06d1e3e-29a9-42bd-9d97-aad6a2bbd527"
   },
   "outputs": [
    {
     "data": {
      "image/png": "[encoded data removed]",
      "text/plain": [
       "<Figure size 864x360 with 1 Axes>"
      ]
     },
     "metadata": {
      "needs_background": "light"
     },
     "output_type": "display_data"
    }
   ],
   "source": [
    "temp=df[['cost']]\n",
    "\n",
    "plt.figure(figsize = (12, 5))\n",
    "plt.plot(temp)\n",
    "plt.show()"
   ]
  },
  {
   "cell_type": "code",
   "execution_count": 10,
   "metadata": {
    "executionInfo": {
     "elapsed": 412,
     "status": "ok",
     "timestamp": 1633935161179,
     "user": {
      "displayName": "임성국",
      "photoUrl": "https://lh3.googleusercontent.com/a/default-user=s64",
      "userId": "16836461090630312519"
     },
     "user_tz": -540
    },
    "hidden": true,
    "id": "g5-2HcKQFDi6"
   },
   "outputs": [],
   "source": [
    "scaler = MinMaxScaler(feature_range=(0,1))\n",
    "\n",
    "temp = scaler.fit_transform(temp)"
   ]
  },
  {
   "cell_type": "code",
   "execution_count": 12,
   "metadata": {
    "colab": {
     "base_uri": "https://localhost:8080/"
    },
    "executionInfo": {
     "elapsed": 253,
     "status": "ok",
     "timestamp": 1633934499992,
     "user": {
      "displayName": "임성국",
      "photoUrl": "https://lh3.googleusercontent.com/a/default-user=s64",
      "userId": "16836461090630312519"
     },
     "user_tz": -540
    },
    "hidden": true,
    "id": "5AIcqLJOFYzN",
    "outputId": "6dc3d141-0240-4671-89cb-304c6be20aed"
   },
   "outputs": [
    {
     "data": {
      "text/plain": [
       "2398"
      ]
     },
     "execution_count": 12,
     "metadata": {},
     "output_type": "execute_result"
    }
   ],
   "source": [
    "len(temp)"
   ]
  },
  {
   "cell_type": "code",
   "execution_count": 11,
   "metadata": {
    "executionInfo": {
     "elapsed": 361,
     "status": "ok",
     "timestamp": 1633935185299,
     "user": {
      "displayName": "임성국",
      "photoUrl": "https://lh3.googleusercontent.com/a/default-user=s64",
      "userId": "16836461090630312519"
     },
     "user_tz": -540
    },
    "hidden": true,
    "id": "AxvjpB11FbXw"
   },
   "outputs": [],
   "source": [
    "train=temp[:2000]\n",
    "test=temp[2000:]"
   ]
  },
  {
   "cell_type": "code",
   "execution_count": 12,
   "metadata": {
    "colab": {
     "base_uri": "https://localhost:8080/"
    },
    "executionInfo": {
     "elapsed": 2,
     "status": "ok",
     "timestamp": 1633935185757,
     "user": {
      "displayName": "임성국",
      "photoUrl": "https://lh3.googleusercontent.com/a/default-user=s64",
      "userId": "16836461090630312519"
     },
     "user_tz": -540
    },
    "hidden": true,
    "id": "DJuz2U-NHe4I",
    "outputId": "f9597537-5411-459e-cb04-6f9372a73957"
   },
   "outputs": [
    {
     "data": {
      "text/plain": [
       "array([[0.28066444],\n",
       "       [0.2921443 ],\n",
       "       [0.26794135],\n",
       "       ...,\n",
       "       [0.17501806],\n",
       "       [0.17956418],\n",
       "       [0.18575749]])"
      ]
     },
     "execution_count": 12,
     "metadata": {},
     "output_type": "execute_result"
    }
   ],
   "source": [
    "train"
   ]
  },
  {
   "cell_type": "code",
   "execution_count": 13,
   "metadata": {
    "executionInfo": {
     "elapsed": 240,
     "status": "ok",
     "timestamp": 1633935226136,
     "user": {
      "displayName": "임성국",
      "photoUrl": "https://lh3.googleusercontent.com/a/default-user=s64",
      "userId": "16836461090630312519"
     },
     "user_tz": -540
    },
    "hidden": true,
    "id": "AQlSAmctFkOw"
   },
   "outputs": [],
   "source": [
    "def create_dataset(time_data, look_back = 1):\n",
    "    data_X, data_y = [],[]\n",
    "\n",
    "    for i in range(len(time_data) - look_back):\n",
    "        data_X.append(time_data[i:(i + look_back),0])\n",
    "        data_y.append(time_data[i + look_back, 0])\n",
    "\n",
    "    return np.array(data_X), np.array(data_y)"
   ]
  },
  {
   "cell_type": "code",
   "execution_count": 14,
   "metadata": {
    "executionInfo": {
     "elapsed": 2,
     "status": "ok",
     "timestamp": 1633935227256,
     "user": {
      "displayName": "임성국",
      "photoUrl": "https://lh3.googleusercontent.com/a/default-user=s64",
      "userId": "16836461090630312519"
     },
     "user_tz": -540
    },
    "hidden": true,
    "id": "sIQ5FKaqGFqA"
   },
   "outputs": [],
   "source": [
    "look_back = 90\n",
    "\n",
    "train_X, train_y = create_dataset(train, look_back)\n",
    "test_X, test_y = create_dataset(test, look_back)"
   ]
  },
  {
   "cell_type": "code",
   "execution_count": 15,
   "metadata": {
    "colab": {
     "base_uri": "https://localhost:8080/"
    },
    "executionInfo": {
     "elapsed": 263,
     "status": "ok",
     "timestamp": 1633935245356,
     "user": {
      "displayName": "임성국",
      "photoUrl": "https://lh3.googleusercontent.com/a/default-user=s64",
      "userId": "16836461090630312519"
     },
     "user_tz": -540
    },
    "hidden": true,
    "id": "VL5aOzC-GJlT",
    "outputId": "4eea810e-394b-430a-d372-86d5b29d0bcd"
   },
   "outputs": [
    {
     "data": {
      "text/plain": [
       "((1910, 90, 1), (1910,), (308, 90, 1), (308,))"
      ]
     },
     "execution_count": 15,
     "metadata": {},
     "output_type": "execute_result"
    }
   ],
   "source": [
    "train_X = np.reshape(train_X, (train_X.shape[0], train_X.shape[1],1))\n",
    "test_X = np.reshape(test_X, (test_X.shape[0], test_X.shape[1], 1))\n",
    "\n",
    "train_X.shape, train_y.shape, test_X.shape, test_y.shape"
   ]
  },
  {
   "cell_type": "code",
   "execution_count": 16,
   "metadata": {
    "executionInfo": {
     "elapsed": 615,
     "status": "ok",
     "timestamp": 1633935266651,
     "user": {
      "displayName": "임성국",
      "photoUrl": "https://lh3.googleusercontent.com/a/default-user=s64",
      "userId": "16836461090630312519"
     },
     "user_tz": -540
    },
    "hidden": true,
    "id": "fWXaD6HVIT2c"
   },
   "outputs": [],
   "source": [
    "model = Sequential(name = 'LSTM')\n",
    "model.add(LSTM(64,\n",
    "               input_shape = (None, 1)))\n",
    "model.add(Dense(1, activation = 'tanh'))"
   ]
  },
  {
   "cell_type": "code",
   "execution_count": 17,
   "metadata": {
    "colab": {
     "base_uri": "https://localhost:8080/"
    },
    "executionInfo": {
     "elapsed": 615,
     "status": "ok",
     "timestamp": 1633935270546,
     "user": {
      "displayName": "임성국",
      "photoUrl": "https://lh3.googleusercontent.com/a/default-user=s64",
      "userId": "16836461090630312519"
     },
     "user_tz": -540
    },
    "hidden": true,
    "id": "ixgCBvd7IY9-",
    "outputId": "65a3a5de-d456-4954-8b9b-0c2faac8adb8"
   },
   "outputs": [
    {
     "name": "stdout",
     "output_type": "stream",
     "text": [
      "Model: \"LSTM\"\n",
      "_________________________________________________________________\n",
      "Layer (type)                 Output Shape              Param #   \n",
      "=================================================================\n",
      "lstm (LSTM)                  (None, 64)                16896     \n",
      "_________________________________________________________________\n",
      "dense (Dense)                (None, 1)                 65        \n",
      "=================================================================\n",
      "Total params: 16,961\n",
      "Trainable params: 16,961\n",
      "Non-trainable params: 0\n",
      "_________________________________________________________________\n"
     ]
    }
   ],
   "source": [
    "model.summary()"
   ]
  },
  {
   "cell_type": "code",
   "execution_count": 18,
   "metadata": {
    "executionInfo": {
     "elapsed": 413,
     "status": "ok",
     "timestamp": 1633935281603,
     "user": {
      "displayName": "임성국",
      "photoUrl": "https://lh3.googleusercontent.com/a/default-user=s64",
      "userId": "16836461090630312519"
     },
     "user_tz": -540
    },
    "hidden": true,
    "id": "BsqwITQOIZ5W"
   },
   "outputs": [],
   "source": [
    "model.compile(loss='mean_squared_error',\n",
    "              optimizer = 'adam')"
   ]
  },
  {
   "cell_type": "code",
   "execution_count": 19,
   "metadata": {
    "colab": {
     "base_uri": "https://localhost:8080/"
    },
    "executionInfo": {
     "elapsed": 491557,
     "status": "ok",
     "timestamp": 1633935783295,
     "user": {
      "displayName": "임성국",
      "photoUrl": "https://lh3.googleusercontent.com/a/default-user=s64",
      "userId": "16836461090630312519"
     },
     "user_tz": -540
    },
    "hidden": true,
    "id": "701SDus9Ickf",
    "outputId": "d609211c-8d3f-4a6c-e1c3-59401241a23f"
   },
   "outputs": [
    {
     "name": "stdout",
     "output_type": "stream",
     "text": [
      "Epoch 1/200\n",
      "120/120 [==============================] - 10s 25ms/step - loss: 0.0094 - val_loss: 0.0072\n",
      "Epoch 2/200\n",
      "120/120 [==============================] - 2s 20ms/step - loss: 0.0024 - val_loss: 0.0062\n",
      "Epoch 3/200\n",
      "120/120 [==============================] - 2s 20ms/step - loss: 0.0022 - val_loss: 0.0063\n",
      "Epoch 4/200\n",
      "120/120 [==============================] - 2s 20ms/step - loss: 0.0019 - val_loss: 0.0054\n",
      "Epoch 5/200\n",
      "120/120 [==============================] - 2s 20ms/step - loss: 0.0018 - val_loss: 0.0064\n",
      "Epoch 6/200\n",
      "120/120 [==============================] - 2s 20ms/step - loss: 0.0017 - val_loss: 0.0050\n",
      "Epoch 7/200\n",
      "120/120 [==============================] - 2s 20ms/step - loss: 0.0017 - val_loss: 0.0075\n",
      "Epoch 8/200\n",
      "120/120 [==============================] - 2s 20ms/step - loss: 0.0016 - val_loss: 0.0047\n",
      "Epoch 9/200\n",
      "120/120 [==============================] - 2s 21ms/step - loss: 0.0015 - val_loss: 0.0048\n",
      "Epoch 10/200\n",
      "120/120 [==============================] - 2s 20ms/step - loss: 0.0015 - val_loss: 0.0048\n",
      "Epoch 11/200\n",
      "120/120 [==============================] - 2s 20ms/step - loss: 0.0015 - val_loss: 0.0051\n",
      "Epoch 12/200\n",
      "120/120 [==============================] - 2s 20ms/step - loss: 0.0014 - val_loss: 0.0049\n",
      "Epoch 13/200\n",
      "120/120 [==============================] - 2s 20ms/step - loss: 0.0013 - val_loss: 0.0045\n",
      "Epoch 14/200\n",
      "120/120 [==============================] - 2s 20ms/step - loss: 0.0013 - val_loss: 0.0048\n",
      "Epoch 15/200\n",
      "120/120 [==============================] - 2s 20ms/step - loss: 0.0013 - val_loss: 0.0046\n",
      "Epoch 16/200\n",
      "120/120 [==============================] - 2s 20ms/step - loss: 0.0013 - val_loss: 0.0044\n",
      "Epoch 17/200\n",
      "120/120 [==============================] - 2s 20ms/step - loss: 0.0012 - val_loss: 0.0044\n",
      "Epoch 18/200\n",
      "120/120 [==============================] - 2s 20ms/step - loss: 0.0013 - val_loss: 0.0048\n",
      "Epoch 19/200\n",
      "120/120 [==============================] - 2s 20ms/step - loss: 0.0012 - val_loss: 0.0046\n",
      "Epoch 20/200\n",
      "120/120 [==============================] - 2s 20ms/step - loss: 0.0012 - val_loss: 0.0042\n",
      "Epoch 21/200\n",
      "120/120 [==============================] - 2s 20ms/step - loss: 0.0012 - val_loss: 0.0049\n",
      "Epoch 22/200\n",
      "120/120 [==============================] - 2s 20ms/step - loss: 0.0013 - val_loss: 0.0040\n",
      "Epoch 23/200\n",
      "120/120 [==============================] - 2s 20ms/step - loss: 0.0012 - val_loss: 0.0041\n",
      "Epoch 24/200\n",
      "120/120 [==============================] - 2s 20ms/step - loss: 0.0012 - val_loss: 0.0046\n",
      "Epoch 25/200\n",
      "120/120 [==============================] - 2s 20ms/step - loss: 0.0012 - val_loss: 0.0047\n",
      "Epoch 26/200\n",
      "120/120 [==============================] - 2s 20ms/step - loss: 0.0012 - val_loss: 0.0039\n",
      "Epoch 27/200\n",
      "120/120 [==============================] - 2s 20ms/step - loss: 0.0012 - val_loss: 0.0044\n",
      "Epoch 28/200\n",
      "120/120 [==============================] - 2s 20ms/step - loss: 0.0013 - val_loss: 0.0044\n",
      "Epoch 29/200\n",
      "120/120 [==============================] - 2s 20ms/step - loss: 0.0012 - val_loss: 0.0049\n",
      "Epoch 30/200\n",
      "120/120 [==============================] - 2s 20ms/step - loss: 0.0012 - val_loss: 0.0043\n",
      "Epoch 31/200\n",
      "120/120 [==============================] - 2s 20ms/step - loss: 0.0012 - val_loss: 0.0052\n",
      "Epoch 32/200\n",
      "120/120 [==============================] - 2s 20ms/step - loss: 0.0012 - val_loss: 0.0045\n",
      "Epoch 33/200\n",
      "120/120 [==============================] - 2s 20ms/step - loss: 0.0012 - val_loss: 0.0041\n",
      "Epoch 34/200\n",
      "120/120 [==============================] - 2s 20ms/step - loss: 0.0012 - val_loss: 0.0045\n",
      "Epoch 35/200\n",
      "120/120 [==============================] - 2s 20ms/step - loss: 0.0012 - val_loss: 0.0044\n",
      "Epoch 36/200\n",
      "120/120 [==============================] - 2s 20ms/step - loss: 0.0012 - val_loss: 0.0044\n",
      "Epoch 37/200\n",
      "120/120 [==============================] - 2s 20ms/step - loss: 0.0012 - val_loss: 0.0044\n",
      "Epoch 38/200\n",
      "120/120 [==============================] - 2s 20ms/step - loss: 0.0012 - val_loss: 0.0047\n",
      "Epoch 39/200\n",
      "120/120 [==============================] - 2s 20ms/step - loss: 0.0012 - val_loss: 0.0044\n",
      "Epoch 40/200\n",
      "120/120 [==============================] - 2s 20ms/step - loss: 0.0012 - val_loss: 0.0045\n",
      "Epoch 41/200\n",
      "120/120 [==============================] - 2s 20ms/step - loss: 0.0012 - val_loss: 0.0046\n",
      "Epoch 42/200\n",
      "120/120 [==============================] - 2s 20ms/step - loss: 0.0012 - val_loss: 0.0058\n",
      "Epoch 43/200\n",
      "120/120 [==============================] - 2s 20ms/step - loss: 0.0012 - val_loss: 0.0047\n",
      "Epoch 44/200\n",
      "120/120 [==============================] - 2s 20ms/step - loss: 0.0012 - val_loss: 0.0045\n",
      "Epoch 45/200\n",
      "120/120 [==============================] - 2s 20ms/step - loss: 0.0012 - val_loss: 0.0044\n",
      "Epoch 46/200\n",
      "120/120 [==============================] - 2s 20ms/step - loss: 0.0012 - val_loss: 0.0048\n",
      "Epoch 47/200\n",
      "120/120 [==============================] - 2s 20ms/step - loss: 0.0012 - val_loss: 0.0057\n",
      "Epoch 48/200\n",
      "120/120 [==============================] - 2s 20ms/step - loss: 0.0012 - val_loss: 0.0049\n",
      "Epoch 49/200\n",
      "120/120 [==============================] - 2s 20ms/step - loss: 0.0012 - val_loss: 0.0045\n",
      "Epoch 50/200\n",
      "120/120 [==============================] - 2s 20ms/step - loss: 0.0012 - val_loss: 0.0050\n",
      "Epoch 51/200\n",
      "120/120 [==============================] - 2s 20ms/step - loss: 0.0012 - val_loss: 0.0046\n",
      "Epoch 52/200\n",
      "120/120 [==============================] - 2s 20ms/step - loss: 0.0012 - val_loss: 0.0048\n",
      "Epoch 53/200\n",
      "120/120 [==============================] - 2s 20ms/step - loss: 0.0012 - val_loss: 0.0057\n",
      "Epoch 54/200\n",
      "120/120 [==============================] - 2s 20ms/step - loss: 0.0012 - val_loss: 0.0042\n",
      "Epoch 55/200\n",
      "120/120 [==============================] - 2s 20ms/step - loss: 0.0012 - val_loss: 0.0062\n",
      "Epoch 56/200\n",
      "120/120 [==============================] - 2s 20ms/step - loss: 0.0012 - val_loss: 0.0047\n",
      "Epoch 57/200\n",
      "120/120 [==============================] - 2s 21ms/step - loss: 0.0012 - val_loss: 0.0049\n",
      "Epoch 58/200\n",
      "120/120 [==============================] - 2s 20ms/step - loss: 0.0011 - val_loss: 0.0059\n",
      "Epoch 59/200\n",
      "120/120 [==============================] - 2s 20ms/step - loss: 0.0011 - val_loss: 0.0059\n",
      "Epoch 60/200\n",
      "120/120 [==============================] - 2s 20ms/step - loss: 0.0012 - val_loss: 0.0044\n",
      "Epoch 61/200\n",
      "120/120 [==============================] - 2s 21ms/step - loss: 0.0012 - val_loss: 0.0045\n",
      "Epoch 62/200\n",
      "120/120 [==============================] - 2s 20ms/step - loss: 0.0012 - val_loss: 0.0044\n",
      "Epoch 63/200\n",
      "120/120 [==============================] - 2s 20ms/step - loss: 0.0012 - val_loss: 0.0047\n",
      "Epoch 64/200\n",
      "120/120 [==============================] - 2s 20ms/step - loss: 0.0012 - val_loss: 0.0041\n",
      "Epoch 65/200\n",
      "120/120 [==============================] - 2s 20ms/step - loss: 0.0012 - val_loss: 0.0050\n",
      "Epoch 66/200\n",
      "120/120 [==============================] - 2s 20ms/step - loss: 0.0012 - val_loss: 0.0088\n",
      "Epoch 67/200\n",
      "120/120 [==============================] - 2s 20ms/step - loss: 0.0012 - val_loss: 0.0069\n",
      "Epoch 68/200\n",
      "120/120 [==============================] - 2s 20ms/step - loss: 0.0012 - val_loss: 0.0039\n",
      "Epoch 69/200\n",
      "120/120 [==============================] - 2s 20ms/step - loss: 0.0012 - val_loss: 0.0044\n",
      "Epoch 70/200\n",
      "120/120 [==============================] - 2s 20ms/step - loss: 0.0012 - val_loss: 0.0046\n",
      "Epoch 71/200\n",
      "120/120 [==============================] - 2s 20ms/step - loss: 0.0012 - val_loss: 0.0045\n",
      "Epoch 72/200\n",
      "120/120 [==============================] - 2s 20ms/step - loss: 0.0011 - val_loss: 0.0048\n",
      "Epoch 73/200\n",
      "120/120 [==============================] - 2s 20ms/step - loss: 0.0012 - val_loss: 0.0045\n",
      "Epoch 74/200\n",
      "120/120 [==============================] - 2s 20ms/step - loss: 0.0011 - val_loss: 0.0052\n",
      "Epoch 75/200\n",
      "120/120 [==============================] - 2s 20ms/step - loss: 0.0012 - val_loss: 0.0055\n",
      "Epoch 76/200\n",
      "120/120 [==============================] - 2s 20ms/step - loss: 0.0012 - val_loss: 0.0063\n",
      "Epoch 77/200\n",
      "120/120 [==============================] - 2s 21ms/step - loss: 0.0011 - val_loss: 0.0069\n",
      "Epoch 78/200\n",
      "120/120 [==============================] - 2s 21ms/step - loss: 0.0011 - val_loss: 0.0046\n",
      "Epoch 79/200\n",
      "120/120 [==============================] - 2s 20ms/step - loss: 0.0011 - val_loss: 0.0049\n",
      "Epoch 80/200\n",
      "120/120 [==============================] - 2s 20ms/step - loss: 0.0012 - val_loss: 0.0078\n",
      "Epoch 81/200\n",
      "120/120 [==============================] - 2s 20ms/step - loss: 0.0011 - val_loss: 0.0069\n",
      "Epoch 82/200\n",
      "120/120 [==============================] - 2s 20ms/step - loss: 0.0011 - val_loss: 0.0055\n",
      "Epoch 83/200\n",
      "120/120 [==============================] - 2s 20ms/step - loss: 0.0011 - val_loss: 0.0054\n",
      "Epoch 84/200\n",
      "120/120 [==============================] - 2s 20ms/step - loss: 0.0012 - val_loss: 0.0046\n",
      "Epoch 85/200\n",
      "120/120 [==============================] - 2s 20ms/step - loss: 0.0012 - val_loss: 0.0048\n",
      "Epoch 86/200\n",
      "120/120 [==============================] - 2s 20ms/step - loss: 0.0011 - val_loss: 0.0048\n",
      "Epoch 87/200\n",
      "120/120 [==============================] - 2s 20ms/step - loss: 0.0012 - val_loss: 0.0053\n",
      "Epoch 88/200\n",
      "120/120 [==============================] - 2s 20ms/step - loss: 0.0011 - val_loss: 0.0062\n",
      "Epoch 89/200\n",
      "120/120 [==============================] - 2s 20ms/step - loss: 0.0012 - val_loss: 0.0063\n",
      "Epoch 90/200\n",
      "120/120 [==============================] - 2s 20ms/step - loss: 0.0012 - val_loss: 0.0057\n",
      "Epoch 91/200\n",
      "120/120 [==============================] - 2s 21ms/step - loss: 0.0012 - val_loss: 0.0048\n",
      "Epoch 92/200\n",
      "120/120 [==============================] - 2s 20ms/step - loss: 0.0012 - val_loss: 0.0046\n",
      "Epoch 93/200\n",
      "120/120 [==============================] - 2s 20ms/step - loss: 0.0012 - val_loss: 0.0043\n",
      "Epoch 94/200\n",
      "120/120 [==============================] - 2s 20ms/step - loss: 0.0012 - val_loss: 0.0055\n",
      "Epoch 95/200\n",
      "120/120 [==============================] - 2s 20ms/step - loss: 0.0011 - val_loss: 0.0071\n",
      "Epoch 96/200\n",
      "120/120 [==============================] - 2s 20ms/step - loss: 0.0011 - val_loss: 0.0058\n",
      "Epoch 97/200\n",
      "120/120 [==============================] - 2s 20ms/step - loss: 0.0011 - val_loss: 0.0049\n",
      "Epoch 98/200\n",
      "120/120 [==============================] - 2s 20ms/step - loss: 0.0011 - val_loss: 0.0054\n",
      "Epoch 99/200\n",
      "120/120 [==============================] - 2s 20ms/step - loss: 0.0011 - val_loss: 0.0055\n",
      "Epoch 100/200\n",
      "120/120 [==============================] - 2s 20ms/step - loss: 0.0011 - val_loss: 0.0059\n",
      "Epoch 101/200\n",
      "120/120 [==============================] - 2s 20ms/step - loss: 0.0011 - val_loss: 0.0054\n",
      "Epoch 102/200\n",
      "120/120 [==============================] - 2s 20ms/step - loss: 0.0011 - val_loss: 0.0064\n",
      "Epoch 103/200\n",
      "120/120 [==============================] - 2s 20ms/step - loss: 0.0012 - val_loss: 0.0053\n",
      "Epoch 104/200\n",
      "120/120 [==============================] - 2s 20ms/step - loss: 0.0011 - val_loss: 0.0059\n",
      "Epoch 105/200\n",
      "120/120 [==============================] - 2s 20ms/step - loss: 0.0011 - val_loss: 0.0060\n",
      "Epoch 106/200\n",
      "120/120 [==============================] - 2s 20ms/step - loss: 0.0011 - val_loss: 0.0059\n",
      "Epoch 107/200\n",
      "120/120 [==============================] - 2s 20ms/step - loss: 0.0011 - val_loss: 0.0061\n",
      "Epoch 108/200\n",
      "120/120 [==============================] - 2s 20ms/step - loss: 0.0011 - val_loss: 0.0069\n",
      "Epoch 109/200\n",
      "120/120 [==============================] - 2s 20ms/step - loss: 0.0012 - val_loss: 0.0053\n",
      "Epoch 110/200\n",
      "120/120 [==============================] - 2s 20ms/step - loss: 0.0011 - val_loss: 0.0048\n",
      "Epoch 111/200\n",
      "120/120 [==============================] - 2s 20ms/step - loss: 0.0012 - val_loss: 0.0043\n",
      "Epoch 112/200\n",
      "120/120 [==============================] - 2s 20ms/step - loss: 0.0011 - val_loss: 0.0044\n",
      "Epoch 113/200\n",
      "120/120 [==============================] - 2s 20ms/step - loss: 0.0011 - val_loss: 0.0056\n",
      "Epoch 114/200\n",
      "120/120 [==============================] - 2s 20ms/step - loss: 0.0011 - val_loss: 0.0054\n",
      "Epoch 115/200\n",
      "120/120 [==============================] - 2s 20ms/step - loss: 0.0011 - val_loss: 0.0058\n",
      "Epoch 116/200\n",
      "120/120 [==============================] - 2s 20ms/step - loss: 0.0011 - val_loss: 0.0059\n",
      "Epoch 117/200\n",
      "120/120 [==============================] - 2s 20ms/step - loss: 0.0011 - val_loss: 0.0057\n",
      "Epoch 118/200\n",
      "120/120 [==============================] - 2s 20ms/step - loss: 0.0011 - val_loss: 0.0068\n",
      "Epoch 119/200\n",
      "120/120 [==============================] - 2s 20ms/step - loss: 0.0012 - val_loss: 0.0048\n",
      "Epoch 120/200\n",
      "120/120 [==============================] - 2s 20ms/step - loss: 0.0011 - val_loss: 0.0061\n",
      "Epoch 121/200\n",
      "120/120 [==============================] - 2s 20ms/step - loss: 0.0011 - val_loss: 0.0058\n",
      "Epoch 122/200\n",
      "120/120 [==============================] - 2s 20ms/step - loss: 0.0011 - val_loss: 0.0067\n",
      "Epoch 123/200\n",
      "120/120 [==============================] - 2s 20ms/step - loss: 0.0011 - val_loss: 0.0058\n",
      "Epoch 124/200\n",
      "120/120 [==============================] - 2s 20ms/step - loss: 0.0011 - val_loss: 0.0058\n",
      "Epoch 125/200\n",
      "120/120 [==============================] - 2s 20ms/step - loss: 0.0011 - val_loss: 0.0059\n",
      "Epoch 126/200\n",
      "120/120 [==============================] - 2s 20ms/step - loss: 0.0011 - val_loss: 0.0064\n",
      "Epoch 127/200\n",
      "120/120 [==============================] - 2s 20ms/step - loss: 0.0011 - val_loss: 0.0062\n",
      "Epoch 128/200\n",
      "120/120 [==============================] - 2s 20ms/step - loss: 0.0011 - val_loss: 0.0064\n",
      "Epoch 129/200\n",
      "120/120 [==============================] - 2s 20ms/step - loss: 0.0011 - val_loss: 0.0061\n",
      "Epoch 130/200\n",
      "120/120 [==============================] - 2s 20ms/step - loss: 0.0011 - val_loss: 0.0067\n",
      "Epoch 131/200\n",
      "120/120 [==============================] - 2s 20ms/step - loss: 0.0011 - val_loss: 0.0052\n",
      "Epoch 132/200\n",
      "120/120 [==============================] - 2s 20ms/step - loss: 0.0011 - val_loss: 0.0061\n",
      "Epoch 133/200\n",
      "120/120 [==============================] - 2s 20ms/step - loss: 0.0011 - val_loss: 0.0061\n",
      "Epoch 134/200\n",
      "120/120 [==============================] - 2s 20ms/step - loss: 0.0011 - val_loss: 0.0063\n",
      "Epoch 135/200\n",
      "120/120 [==============================] - 2s 20ms/step - loss: 0.0011 - val_loss: 0.0051\n",
      "Epoch 136/200\n",
      "120/120 [==============================] - 2s 20ms/step - loss: 0.0011 - val_loss: 0.0060\n",
      "Epoch 137/200\n",
      "120/120 [==============================] - 2s 20ms/step - loss: 0.0012 - val_loss: 0.0049\n",
      "Epoch 138/200\n",
      "120/120 [==============================] - 2s 20ms/step - loss: 0.0011 - val_loss: 0.0076\n",
      "Epoch 139/200\n",
      "120/120 [==============================] - 2s 20ms/step - loss: 0.0011 - val_loss: 0.0068\n",
      "Epoch 140/200\n",
      "120/120 [==============================] - 2s 20ms/step - loss: 0.0011 - val_loss: 0.0061\n",
      "Epoch 141/200\n",
      "120/120 [==============================] - 2s 20ms/step - loss: 0.0011 - val_loss: 0.0051\n",
      "Epoch 142/200\n",
      "120/120 [==============================] - 2s 20ms/step - loss: 0.0011 - val_loss: 0.0062\n",
      "Epoch 143/200\n",
      "120/120 [==============================] - 2s 20ms/step - loss: 0.0011 - val_loss: 0.0064\n",
      "Epoch 144/200\n",
      "120/120 [==============================] - 2s 20ms/step - loss: 0.0011 - val_loss: 0.0066\n",
      "Epoch 145/200\n",
      "120/120 [==============================] - 2s 20ms/step - loss: 0.0011 - val_loss: 0.0057\n",
      "Epoch 146/200\n",
      "120/120 [==============================] - 2s 20ms/step - loss: 0.0011 - val_loss: 0.0059\n",
      "Epoch 147/200\n",
      "120/120 [==============================] - 2s 20ms/step - loss: 0.0010 - val_loss: 0.0059\n",
      "Epoch 148/200\n",
      "120/120 [==============================] - 2s 20ms/step - loss: 0.0011 - val_loss: 0.0063\n",
      "Epoch 149/200\n",
      "120/120 [==============================] - 2s 20ms/step - loss: 0.0011 - val_loss: 0.0055\n",
      "Epoch 150/200\n",
      "120/120 [==============================] - 2s 20ms/step - loss: 0.0011 - val_loss: 0.0053\n",
      "Epoch 151/200\n",
      "120/120 [==============================] - 2s 20ms/step - loss: 0.0011 - val_loss: 0.0055\n",
      "Epoch 152/200\n",
      "120/120 [==============================] - 2s 20ms/step - loss: 0.0011 - val_loss: 0.0060\n",
      "Epoch 153/200\n",
      "120/120 [==============================] - 2s 20ms/step - loss: 0.0010 - val_loss: 0.0065\n",
      "Epoch 154/200\n",
      "120/120 [==============================] - 2s 20ms/step - loss: 0.0010 - val_loss: 0.0055\n",
      "Epoch 155/200\n",
      "120/120 [==============================] - 2s 20ms/step - loss: 0.0011 - val_loss: 0.0051\n",
      "Epoch 156/200\n",
      "120/120 [==============================] - 2s 20ms/step - loss: 0.0011 - val_loss: 0.0050\n",
      "Epoch 157/200\n",
      "120/120 [==============================] - 2s 20ms/step - loss: 0.0011 - val_loss: 0.0049\n",
      "Epoch 158/200\n",
      "120/120 [==============================] - 2s 20ms/step - loss: 0.0011 - val_loss: 0.0056\n",
      "Epoch 159/200\n",
      "120/120 [==============================] - 2s 21ms/step - loss: 0.0011 - val_loss: 0.0053\n",
      "Epoch 160/200\n",
      "120/120 [==============================] - 2s 20ms/step - loss: 0.0011 - val_loss: 0.0057\n",
      "Epoch 161/200\n",
      "120/120 [==============================] - 2s 20ms/step - loss: 0.0011 - val_loss: 0.0064\n",
      "Epoch 162/200\n",
      "120/120 [==============================] - 2s 20ms/step - loss: 0.0011 - val_loss: 0.0048\n",
      "Epoch 163/200\n",
      "120/120 [==============================] - 2s 20ms/step - loss: 0.0010 - val_loss: 0.0052\n",
      "Epoch 164/200\n",
      "120/120 [==============================] - 2s 20ms/step - loss: 0.0010 - val_loss: 0.0064\n",
      "Epoch 165/200\n",
      "120/120 [==============================] - 2s 20ms/step - loss: 0.0010 - val_loss: 0.0052\n",
      "Epoch 166/200\n",
      "120/120 [==============================] - 2s 20ms/step - loss: 0.0010 - val_loss: 0.0051\n",
      "Epoch 167/200\n",
      "120/120 [==============================] - 2s 20ms/step - loss: 0.0010 - val_loss: 0.0054\n",
      "Epoch 168/200\n",
      "120/120 [==============================] - 2s 20ms/step - loss: 0.0010 - val_loss: 0.0046\n",
      "Epoch 169/200\n",
      "120/120 [==============================] - 2s 20ms/step - loss: 0.0010 - val_loss: 0.0048\n",
      "Epoch 170/200\n",
      "120/120 [==============================] - 2s 20ms/step - loss: 0.0010 - val_loss: 0.0057\n",
      "Epoch 171/200\n",
      "120/120 [==============================] - 2s 20ms/step - loss: 0.0010 - val_loss: 0.0057\n",
      "Epoch 172/200\n",
      "120/120 [==============================] - 2s 20ms/step - loss: 0.0010 - val_loss: 0.0048\n",
      "Epoch 173/200\n",
      "120/120 [==============================] - 2s 20ms/step - loss: 0.0010 - val_loss: 0.0057\n",
      "Epoch 174/200\n",
      "120/120 [==============================] - 2s 20ms/step - loss: 0.0011 - val_loss: 0.0047\n",
      "Epoch 175/200\n",
      "120/120 [==============================] - 2s 20ms/step - loss: 0.0010 - val_loss: 0.0049\n",
      "Epoch 176/200\n",
      "120/120 [==============================] - 2s 21ms/step - loss: 0.0010 - val_loss: 0.0050\n",
      "Epoch 177/200\n",
      "120/120 [==============================] - 2s 20ms/step - loss: 0.0010 - val_loss: 0.0057\n",
      "Epoch 178/200\n",
      "120/120 [==============================] - 2s 20ms/step - loss: 0.0010 - val_loss: 0.0048\n",
      "Epoch 179/200\n",
      "120/120 [==============================] - 2s 20ms/step - loss: 0.0010 - val_loss: 0.0055\n",
      "Epoch 180/200\n",
      "120/120 [==============================] - 2s 21ms/step - loss: 9.9683e-04 - val_loss: 0.0044\n",
      "Epoch 181/200\n",
      "120/120 [==============================] - 2s 20ms/step - loss: 9.9549e-04 - val_loss: 0.0047\n",
      "Epoch 182/200\n",
      "120/120 [==============================] - 2s 20ms/step - loss: 0.0010 - val_loss: 0.0048\n",
      "Epoch 183/200\n",
      "120/120 [==============================] - 2s 20ms/step - loss: 9.9286e-04 - val_loss: 0.0046\n",
      "Epoch 184/200\n",
      "120/120 [==============================] - 2s 20ms/step - loss: 0.0010 - val_loss: 0.0049\n",
      "Epoch 185/200\n",
      "120/120 [==============================] - 2s 20ms/step - loss: 0.0010 - val_loss: 0.0046\n",
      "Epoch 186/200\n",
      "120/120 [==============================] - 2s 20ms/step - loss: 0.0010 - val_loss: 0.0056\n",
      "Epoch 187/200\n",
      "120/120 [==============================] - 2s 20ms/step - loss: 9.9380e-04 - val_loss: 0.0050\n",
      "Epoch 188/200\n",
      "120/120 [==============================] - 2s 20ms/step - loss: 9.9220e-04 - val_loss: 0.0049\n",
      "Epoch 189/200\n",
      "120/120 [==============================] - 2s 20ms/step - loss: 9.7862e-04 - val_loss: 0.0049\n",
      "Epoch 190/200\n",
      "120/120 [==============================] - 2s 20ms/step - loss: 9.9232e-04 - val_loss: 0.0051\n",
      "Epoch 191/200\n",
      "120/120 [==============================] - 2s 20ms/step - loss: 9.7359e-04 - val_loss: 0.0050\n",
      "Epoch 192/200\n",
      "120/120 [==============================] - 2s 20ms/step - loss: 9.8571e-04 - val_loss: 0.0056\n",
      "Epoch 193/200\n",
      "120/120 [==============================] - 2s 20ms/step - loss: 9.7882e-04 - val_loss: 0.0052\n",
      "Epoch 194/200\n",
      "120/120 [==============================] - 2s 20ms/step - loss: 9.9697e-04 - val_loss: 0.0054\n",
      "Epoch 195/200\n",
      "120/120 [==============================] - 2s 20ms/step - loss: 9.7856e-04 - val_loss: 0.0048\n",
      "Epoch 196/200\n",
      "120/120 [==============================] - 2s 20ms/step - loss: 9.9006e-04 - val_loss: 0.0056\n",
      "Epoch 197/200\n",
      "120/120 [==============================] - 2s 20ms/step - loss: 9.7095e-04 - val_loss: 0.0053\n",
      "Epoch 198/200\n",
      "120/120 [==============================] - 2s 20ms/step - loss: 9.7969e-04 - val_loss: 0.0058\n",
      "Epoch 199/200\n",
      "120/120 [==============================] - 2s 21ms/step - loss: 9.7426e-04 - val_loss: 0.0050\n",
      "Epoch 200/200\n",
      "120/120 [==============================] - 2s 20ms/step - loss: 9.7883e-04 - val_loss: 0.0050\n",
      "CPU times: user 6min 54s, sys: 29.7 s, total: 7min 23s\n",
      "Wall time: 8min 11s\n"
     ]
    }
   ],
   "source": [
    "%%time\n",
    "\n",
    "hist = model.fit(train_X, train_y,\n",
    "                 epochs = 200,\n",
    "                 batch_size = 16,\n",
    "                 validation_data = (test_X, test_y))"
   ]
  },
  {
   "cell_type": "code",
   "execution_count": 25,
   "metadata": {
    "colab": {
     "base_uri": "https://localhost:8080/",
     "height": 320
    },
    "executionInfo": {
     "elapsed": 14847,
     "status": "ok",
     "timestamp": 1633935987043,
     "user": {
      "displayName": "임성국",
      "photoUrl": "https://lh3.googleusercontent.com/a/default-user=s64",
      "userId": "16836461090630312519"
     },
     "user_tz": -540
    },
    "hidden": true,
    "id": "o9DYR__OIfNr",
    "outputId": "913cad26-4079-4ff1-91f5-dd666ac57d33"
   },
   "outputs": [
    {
     "data": {
      "image/png": "[encoded data removed]",
      "text/plain": [
       "<Figure size 864x360 with 1 Axes>"
      ]
     },
     "metadata": {
      "needs_background": "light"
     },
     "output_type": "display_data"
    }
   ],
   "source": [
    "look_ahead = 308\n",
    "\n",
    "xhat = test_X[0]\n",
    "\n",
    "predictions = np.zeros((look_ahead, 1))\n",
    "\n",
    "for i in range(look_ahead):\n",
    "    prediction = model.predict(np.array([xhat]), batch_size = 1)\n",
    "    predictions[i] = prediction\n",
    "    xhat = np.vstack([xhat[1:], prediction])\n",
    "\n",
    "plt.figure(figsize=(12,5))\n",
    "plt.plot(np.arange(look_ahead), predictions, 'r', label = 'Prediction')\n",
    "plt.plot(np.arange(look_ahead), test_y[:look_ahead], label = 'Test_Data')\n",
    "plt.legend()\n",
    "plt.show()"
   ]
  },
  {
   "cell_type": "code",
   "execution_count": null,
   "metadata": {
    "hidden": true,
    "id": "wrP8DXWvRHRi"
   },
   "outputs": [],
   "source": []
  },
  {
   "cell_type": "markdown",
   "metadata": {
    "heading_collapsed": true,
    "id": "_gccU99GL6jU"
   },
   "source": [
    "# len(train)=2000, len(test)=398, lookback=90\n",
    "\n"
   ]
  },
  {
   "cell_type": "code",
   "execution_count": 80,
   "metadata": {
    "executionInfo": {
     "elapsed": 259,
     "status": "ok",
     "timestamp": 1633940407851,
     "user": {
      "displayName": "임성국",
      "photoUrl": "https://lh3.googleusercontent.com/a/default-user=s64",
      "userId": "16836461090630312519"
     },
     "user_tz": -540
    },
    "hidden": true,
    "id": "l6_31DSjK71p"
   },
   "outputs": [],
   "source": [
    "df=pd.read_csv('/content/drive/MyDrive/Colab Notebooks/datasets/daily_cost_quantity.csv',encoding = 'cp949')\n",
    "temp=df[['cost']]"
   ]
  },
  {
   "cell_type": "code",
   "execution_count": 81,
   "metadata": {
    "executionInfo": {
     "elapsed": 1,
     "status": "ok",
     "timestamp": 1633940408309,
     "user": {
      "displayName": "임성국",
      "photoUrl": "https://lh3.googleusercontent.com/a/default-user=s64",
      "userId": "16836461090630312519"
     },
     "user_tz": -540
    },
    "hidden": true,
    "id": "YxQbRdzlVwF-"
   },
   "outputs": [],
   "source": [
    "temp=np.array(temp)"
   ]
  },
  {
   "cell_type": "code",
   "execution_count": 82,
   "metadata": {
    "executionInfo": {
     "elapsed": 2,
     "status": "ok",
     "timestamp": 1633940409130,
     "user": {
      "displayName": "임성국",
      "photoUrl": "https://lh3.googleusercontent.com/a/default-user=s64",
      "userId": "16836461090630312519"
     },
     "user_tz": -540
    },
    "hidden": true,
    "id": "yv_CrcSeMh_q"
   },
   "outputs": [],
   "source": [
    "train=temp[:2000]\n",
    "test=temp[2000:]"
   ]
  },
  {
   "cell_type": "code",
   "execution_count": 83,
   "metadata": {
    "executionInfo": {
     "elapsed": 1,
     "status": "ok",
     "timestamp": 1633940409758,
     "user": {
      "displayName": "임성국",
      "photoUrl": "https://lh3.googleusercontent.com/a/default-user=s64",
      "userId": "16836461090630312519"
     },
     "user_tz": -540
    },
    "hidden": true,
    "id": "xVhGArE9M2FR"
   },
   "outputs": [],
   "source": [
    "look_back = 90\n",
    "\n",
    "train_X, train_y = create_dataset(train, look_back)\n",
    "test_X, test_y = create_dataset(test, look_back)"
   ]
  },
  {
   "cell_type": "code",
   "execution_count": 84,
   "metadata": {
    "colab": {
     "base_uri": "https://localhost:8080/"
    },
    "executionInfo": {
     "elapsed": 266,
     "status": "ok",
     "timestamp": 1633940412612,
     "user": {
      "displayName": "임성국",
      "photoUrl": "https://lh3.googleusercontent.com/a/default-user=s64",
      "userId": "16836461090630312519"
     },
     "user_tz": -540
    },
    "hidden": true,
    "id": "5ZvTuHNYM8eL",
    "outputId": "4c449a21-dcb2-46cb-9b54-ba11a4790705"
   },
   "outputs": [
    {
     "data": {
      "text/plain": [
       "((1910, 90, 1), (1910,), (308, 90, 1), (308,))"
      ]
     },
     "execution_count": 84,
     "metadata": {},
     "output_type": "execute_result"
    }
   ],
   "source": [
    "train_X = np.reshape(train_X, (train_X.shape[0], train_X.shape[1],1))\n",
    "test_X = np.reshape(test_X, (test_X.shape[0], test_X.shape[1], 1))\n",
    "\n",
    "train_X.shape, train_y.shape, test_X.shape, test_y.shape"
   ]
  },
  {
   "cell_type": "code",
   "execution_count": 85,
   "metadata": {
    "executionInfo": {
     "elapsed": 617,
     "status": "ok",
     "timestamp": 1633940416300,
     "user": {
      "displayName": "임성국",
      "photoUrl": "https://lh3.googleusercontent.com/a/default-user=s64",
      "userId": "16836461090630312519"
     },
     "user_tz": -540
    },
    "hidden": true,
    "id": "ArOCNDF1M_fM"
   },
   "outputs": [],
   "source": [
    "model2 = Sequential(name = 'LSTM2')\n",
    "model2.add(LSTM(64,\n",
    "               input_shape = (None, 1)))\n",
    "model2.add(Dense(1, activation = 'tanh'))"
   ]
  },
  {
   "cell_type": "code",
   "execution_count": 86,
   "metadata": {
    "colab": {
     "base_uri": "https://localhost:8080/"
    },
    "executionInfo": {
     "elapsed": 409,
     "status": "ok",
     "timestamp": 1633940417629,
     "user": {
      "displayName": "임성국",
      "photoUrl": "https://lh3.googleusercontent.com/a/default-user=s64",
      "userId": "16836461090630312519"
     },
     "user_tz": -540
    },
    "hidden": true,
    "id": "-QUFCmsuND5G",
    "outputId": "03c68ae7-a72c-44dd-f16f-c8ae9882e701"
   },
   "outputs": [
    {
     "name": "stdout",
     "output_type": "stream",
     "text": [
      "Model: \"LSTM2\"\n",
      "_________________________________________________________________\n",
      "Layer (type)                 Output Shape              Param #   \n",
      "=================================================================\n",
      "lstm_7 (LSTM)                (None, 64)                16896     \n",
      "_________________________________________________________________\n",
      "dense_7 (Dense)              (None, 1)                 65        \n",
      "=================================================================\n",
      "Total params: 16,961\n",
      "Trainable params: 16,961\n",
      "Non-trainable params: 0\n",
      "_________________________________________________________________\n"
     ]
    }
   ],
   "source": [
    "model2.summary()"
   ]
  },
  {
   "cell_type": "code",
   "execution_count": 87,
   "metadata": {
    "executionInfo": {
     "elapsed": 309,
     "status": "ok",
     "timestamp": 1633940420807,
     "user": {
      "displayName": "임성국",
      "photoUrl": "https://lh3.googleusercontent.com/a/default-user=s64",
      "userId": "16836461090630312519"
     },
     "user_tz": -540
    },
    "hidden": true,
    "id": "56PNyCF-NFqe"
   },
   "outputs": [],
   "source": [
    "model2.compile(loss='mean_absolute_error',\n",
    "              optimizer = 'adam')"
   ]
  },
  {
   "cell_type": "code",
   "execution_count": 88,
   "metadata": {
    "colab": {
     "base_uri": "https://localhost:8080/",
     "height": 1000
    },
    "executionInfo": {
     "elapsed": 112481,
     "status": "error",
     "timestamp": 1633940534306,
     "user": {
      "displayName": "임성국",
      "photoUrl": "https://lh3.googleusercontent.com/a/default-user=s64",
      "userId": "16836461090630312519"
     },
     "user_tz": -540
    },
    "hidden": true,
    "id": "wtOpS29ANKWU",
    "outputId": "c89d478b-68d5-40d7-8b26-13724bcdbbde",
    "scrolled": true
   },
   "outputs": [
    {
     "name": "stdout",
     "output_type": "stream",
     "text": [
      "Epoch 1/200\n",
      "120/120 [==============================] - 5s 24ms/step - loss: 745.3354 - val_loss: 1029.7092\n",
      "Epoch 2/200\n",
      "120/120 [==============================] - 2s 20ms/step - loss: 745.0298 - val_loss: 1029.7079\n",
      "Epoch 3/200\n",
      "120/120 [==============================] - 2s 20ms/step - loss: 745.0289 - val_loss: 1029.7073\n",
      "Epoch 4/200\n",
      "120/120 [==============================] - 2s 20ms/step - loss: 745.0286 - val_loss: 1029.7070\n",
      "Epoch 5/200\n",
      "120/120 [==============================] - 2s 20ms/step - loss: 745.0281 - val_loss: 1029.7068\n",
      "Epoch 6/200\n",
      "120/120 [==============================] - 2s 20ms/step - loss: 745.0283 - val_loss: 1029.7067\n",
      "Epoch 7/200\n",
      "120/120 [==============================] - 2s 20ms/step - loss: 745.0283 - val_loss: 1029.7067\n",
      "Epoch 8/200\n",
      "120/120 [==============================] - 2s 20ms/step - loss: 745.0280 - val_loss: 1029.7065\n",
      "Epoch 9/200\n",
      "120/120 [==============================] - 2s 20ms/step - loss: 745.0281 - val_loss: 1029.7064\n",
      "Epoch 10/200\n",
      "120/120 [==============================] - 2s 20ms/step - loss: 745.0280 - val_loss: 1029.7064\n",
      "Epoch 11/200\n",
      "120/120 [==============================] - 2s 20ms/step - loss: 745.0280 - val_loss: 1029.7064\n",
      "Epoch 12/200\n",
      "120/120 [==============================] - 2s 20ms/step - loss: 745.0280 - val_loss: 1029.7064\n",
      "Epoch 13/200\n",
      "120/120 [==============================] - 2s 20ms/step - loss: 745.0280 - val_loss: 1029.7064\n",
      "Epoch 14/200\n",
      "120/120 [==============================] - 2s 20ms/step - loss: 745.0278 - val_loss: 1029.7064\n",
      "Epoch 15/200\n",
      "120/120 [==============================] - 2s 20ms/step - loss: 745.0281 - val_loss: 1029.7064\n",
      "Epoch 16/200\n",
      "120/120 [==============================] - 2s 20ms/step - loss: 745.0281 - val_loss: 1029.7064\n",
      "Epoch 17/200\n",
      "120/120 [==============================] - 2s 20ms/step - loss: 745.0281 - val_loss: 1029.7064\n",
      "Epoch 18/200\n",
      "120/120 [==============================] - 2s 20ms/step - loss: 745.0280 - val_loss: 1029.7064\n",
      "Epoch 19/200\n",
      "120/120 [==============================] - 2s 20ms/step - loss: 745.0280 - val_loss: 1029.7064\n",
      "Epoch 20/200\n",
      "120/120 [==============================] - 2s 20ms/step - loss: 745.0280 - val_loss: 1029.7064\n",
      "Epoch 21/200\n",
      "120/120 [==============================] - 2s 20ms/step - loss: 745.0280 - val_loss: 1029.7064\n",
      "Epoch 22/200\n",
      "120/120 [==============================] - 2s 20ms/step - loss: 745.0278 - val_loss: 1029.7064\n",
      "Epoch 23/200\n",
      "120/120 [==============================] - 2s 20ms/step - loss: 745.0279 - val_loss: 1029.7064\n",
      "Epoch 24/200\n",
      "120/120 [==============================] - 2s 20ms/step - loss: 745.0279 - val_loss: 1029.7063\n",
      "Epoch 25/200\n",
      "120/120 [==============================] - 2s 20ms/step - loss: 745.0278 - val_loss: 1029.7063\n",
      "Epoch 26/200\n",
      "120/120 [==============================] - 2s 20ms/step - loss: 745.0280 - val_loss: 1029.7063\n",
      "Epoch 27/200\n",
      "120/120 [==============================] - 2s 20ms/step - loss: 745.0278 - val_loss: 1029.7063\n",
      "Epoch 28/200\n",
      "120/120 [==============================] - 2s 20ms/step - loss: 745.0280 - val_loss: 1029.7063\n",
      "Epoch 29/200\n",
      "120/120 [==============================] - 2s 20ms/step - loss: 745.0278 - val_loss: 1029.7063\n",
      "Epoch 30/200\n",
      "120/120 [==============================] - 2s 20ms/step - loss: 745.0280 - val_loss: 1029.7063\n",
      "Epoch 31/200\n",
      "120/120 [==============================] - 2s 20ms/step - loss: 745.0280 - val_loss: 1029.7063\n",
      "Epoch 32/200\n",
      "120/120 [==============================] - 2s 20ms/step - loss: 745.0277 - val_loss: 1029.7063\n",
      "Epoch 33/200\n",
      "120/120 [==============================] - 2s 20ms/step - loss: 745.0279 - val_loss: 1029.7063\n",
      "Epoch 34/200\n",
      "120/120 [==============================] - 2s 20ms/step - loss: 745.0278 - val_loss: 1029.7063\n",
      "Epoch 35/200\n",
      "120/120 [==============================] - 2s 20ms/step - loss: 745.0275 - val_loss: 1029.7063\n",
      "Epoch 36/200\n",
      "120/120 [==============================] - 2s 20ms/step - loss: 745.0279 - val_loss: 1029.7063\n",
      "Epoch 37/200\n",
      "120/120 [==============================] - 2s 20ms/step - loss: 745.0280 - val_loss: 1029.7063\n",
      "Epoch 38/200\n",
      "120/120 [==============================] - 2s 20ms/step - loss: 745.0280 - val_loss: 1029.7063\n",
      "Epoch 39/200\n",
      "120/120 [==============================] - 2s 20ms/step - loss: 745.0281 - val_loss: 1029.7063\n",
      "Epoch 40/200\n",
      "120/120 [==============================] - 2s 20ms/step - loss: 745.0281 - val_loss: 1029.7063\n",
      "Epoch 41/200\n",
      "120/120 [==============================] - 2s 20ms/step - loss: 745.0278 - val_loss: 1029.7063\n",
      "Epoch 42/200\n",
      "120/120 [==============================] - 2s 20ms/step - loss: 745.0279 - val_loss: 1029.7063\n",
      "Epoch 43/200\n",
      "120/120 [==============================] - 2s 20ms/step - loss: 745.0280 - val_loss: 1029.7063\n",
      "Epoch 44/200\n",
      "120/120 [==============================] - 2s 20ms/step - loss: 745.0278 - val_loss: 1029.7063\n",
      "Epoch 45/200\n",
      "120/120 [==============================] - 2s 20ms/step - loss: 745.0280 - val_loss: 1029.7063\n",
      "Epoch 46/200\n",
      "120/120 [==============================] - 2s 20ms/step - loss: 745.0278 - val_loss: 1029.7063\n",
      "Epoch 47/200\n",
      "  1/120 [..............................] - ETA: 2s - loss: 700.6907"
     ]
    },
    {
     "ename": "KeyboardInterrupt",
     "evalue": "ignored",
     "output_type": "error",
     "traceback": [
      "\u001b[0;31m---------------------------------------------------------------------------\u001b[0m",
      "\u001b[0;31mKeyboardInterrupt\u001b[0m                         Traceback (most recent call last)",
      "\u001b[0;32m<ipython-input-88-20af11a6e072>\u001b[0m in \u001b[0;36m<module>\u001b[0;34m()\u001b[0m\n\u001b[0;32m----> 1\u001b[0;31m \u001b[0mget_ipython\u001b[0m\u001b[0;34m(\u001b[0m\u001b[0;34m)\u001b[0m\u001b[0;34m.\u001b[0m\u001b[0mrun_cell_magic\u001b[0m\u001b[0;34m(\u001b[0m\u001b[0;34m'time'\u001b[0m\u001b[0;34m,\u001b[0m \u001b[0;34m''\u001b[0m\u001b[0;34m,\u001b[0m \u001b[0;34m'\\nhist = model2.fit(train_X, train_y,\\n                 epochs = 200,\\n                 batch_size = 16,\\n                 validation_data = (test_X, test_y))'\u001b[0m\u001b[0;34m)\u001b[0m\u001b[0;34m\u001b[0m\u001b[0;34m\u001b[0m\u001b[0m\n\u001b[0m",
      "\u001b[0;32m/usr/local/lib/python3.7/dist-packages/IPython/core/interactiveshell.py\u001b[0m in \u001b[0;36mrun_cell_magic\u001b[0;34m(self, magic_name, line, cell)\u001b[0m\n\u001b[1;32m   2115\u001b[0m             \u001b[0mmagic_arg_s\u001b[0m \u001b[0;34m=\u001b[0m \u001b[0mself\u001b[0m\u001b[0;34m.\u001b[0m\u001b[0mvar_expand\u001b[0m\u001b[0;34m(\u001b[0m\u001b[0mline\u001b[0m\u001b[0;34m,\u001b[0m \u001b[0mstack_depth\u001b[0m\u001b[0;34m)\u001b[0m\u001b[0;34m\u001b[0m\u001b[0;34m\u001b[0m\u001b[0m\n\u001b[1;32m   2116\u001b[0m             \u001b[0;32mwith\u001b[0m \u001b[0mself\u001b[0m\u001b[0;34m.\u001b[0m\u001b[0mbuiltin_trap\u001b[0m\u001b[0;34m:\u001b[0m\u001b[0;34m\u001b[0m\u001b[0;34m\u001b[0m\u001b[0m\n\u001b[0;32m-> 2117\u001b[0;31m                 \u001b[0mresult\u001b[0m \u001b[0;34m=\u001b[0m \u001b[0mfn\u001b[0m\u001b[0;34m(\u001b[0m\u001b[0mmagic_arg_s\u001b[0m\u001b[0;34m,\u001b[0m \u001b[0mcell\u001b[0m\u001b[0;34m)\u001b[0m\u001b[0;34m\u001b[0m\u001b[0;34m\u001b[0m\u001b[0m\n\u001b[0m\u001b[1;32m   2118\u001b[0m             \u001b[0;32mreturn\u001b[0m \u001b[0mresult\u001b[0m\u001b[0;34m\u001b[0m\u001b[0;34m\u001b[0m\u001b[0m\n\u001b[1;32m   2119\u001b[0m \u001b[0;34m\u001b[0m\u001b[0m\n",
      "\u001b[0;32m<decorator-gen-53>\u001b[0m in \u001b[0;36mtime\u001b[0;34m(self, line, cell, local_ns)\u001b[0m\n",
      "\u001b[0;32m/usr/local/lib/python3.7/dist-packages/IPython/core/magic.py\u001b[0m in \u001b[0;36m<lambda>\u001b[0;34m(f, *a, **k)\u001b[0m\n\u001b[1;32m    186\u001b[0m     \u001b[0;31m# but it's overkill for just that one bit of state.\u001b[0m\u001b[0;34m\u001b[0m\u001b[0;34m\u001b[0m\u001b[0;34m\u001b[0m\u001b[0m\n\u001b[1;32m    187\u001b[0m     \u001b[0;32mdef\u001b[0m \u001b[0mmagic_deco\u001b[0m\u001b[0;34m(\u001b[0m\u001b[0marg\u001b[0m\u001b[0;34m)\u001b[0m\u001b[0;34m:\u001b[0m\u001b[0;34m\u001b[0m\u001b[0;34m\u001b[0m\u001b[0m\n\u001b[0;32m--> 188\u001b[0;31m         \u001b[0mcall\u001b[0m \u001b[0;34m=\u001b[0m \u001b[0;32mlambda\u001b[0m \u001b[0mf\u001b[0m\u001b[0;34m,\u001b[0m \u001b[0;34m*\u001b[0m\u001b[0ma\u001b[0m\u001b[0;34m,\u001b[0m \u001b[0;34m**\u001b[0m\u001b[0mk\u001b[0m\u001b[0;34m:\u001b[0m \u001b[0mf\u001b[0m\u001b[0;34m(\u001b[0m\u001b[0;34m*\u001b[0m\u001b[0ma\u001b[0m\u001b[0;34m,\u001b[0m \u001b[0;34m**\u001b[0m\u001b[0mk\u001b[0m\u001b[0;34m)\u001b[0m\u001b[0;34m\u001b[0m\u001b[0;34m\u001b[0m\u001b[0m\n\u001b[0m\u001b[1;32m    189\u001b[0m \u001b[0;34m\u001b[0m\u001b[0m\n\u001b[1;32m    190\u001b[0m         \u001b[0;32mif\u001b[0m \u001b[0mcallable\u001b[0m\u001b[0;34m(\u001b[0m\u001b[0marg\u001b[0m\u001b[0;34m)\u001b[0m\u001b[0;34m:\u001b[0m\u001b[0;34m\u001b[0m\u001b[0;34m\u001b[0m\u001b[0m\n",
      "\u001b[0;32m/usr/local/lib/python3.7/dist-packages/IPython/core/magics/execution.py\u001b[0m in \u001b[0;36mtime\u001b[0;34m(self, line, cell, local_ns)\u001b[0m\n\u001b[1;32m   1191\u001b[0m         \u001b[0;32melse\u001b[0m\u001b[0;34m:\u001b[0m\u001b[0;34m\u001b[0m\u001b[0;34m\u001b[0m\u001b[0m\n\u001b[1;32m   1192\u001b[0m             \u001b[0mst\u001b[0m \u001b[0;34m=\u001b[0m \u001b[0mclock2\u001b[0m\u001b[0;34m(\u001b[0m\u001b[0;34m)\u001b[0m\u001b[0;34m\u001b[0m\u001b[0;34m\u001b[0m\u001b[0m\n\u001b[0;32m-> 1193\u001b[0;31m             \u001b[0mexec\u001b[0m\u001b[0;34m(\u001b[0m\u001b[0mcode\u001b[0m\u001b[0;34m,\u001b[0m \u001b[0mglob\u001b[0m\u001b[0;34m,\u001b[0m \u001b[0mlocal_ns\u001b[0m\u001b[0;34m)\u001b[0m\u001b[0;34m\u001b[0m\u001b[0;34m\u001b[0m\u001b[0m\n\u001b[0m\u001b[1;32m   1194\u001b[0m             \u001b[0mend\u001b[0m \u001b[0;34m=\u001b[0m \u001b[0mclock2\u001b[0m\u001b[0;34m(\u001b[0m\u001b[0;34m)\u001b[0m\u001b[0;34m\u001b[0m\u001b[0;34m\u001b[0m\u001b[0m\n\u001b[1;32m   1195\u001b[0m             \u001b[0mout\u001b[0m \u001b[0;34m=\u001b[0m \u001b[0;32mNone\u001b[0m\u001b[0;34m\u001b[0m\u001b[0;34m\u001b[0m\u001b[0m\n",
      "\u001b[0;32m<timed exec>\u001b[0m in \u001b[0;36m<module>\u001b[0;34m()\u001b[0m\n",
      "\u001b[0;32m/usr/local/lib/python3.7/dist-packages/keras/engine/training.py\u001b[0m in \u001b[0;36mfit\u001b[0;34m(self, x, y, batch_size, epochs, verbose, callbacks, validation_split, validation_data, shuffle, class_weight, sample_weight, initial_epoch, steps_per_epoch, validation_steps, validation_batch_size, validation_freq, max_queue_size, workers, use_multiprocessing)\u001b[0m\n\u001b[1;32m   1182\u001b[0m                 _r=1):\n\u001b[1;32m   1183\u001b[0m               \u001b[0mcallbacks\u001b[0m\u001b[0;34m.\u001b[0m\u001b[0mon_train_batch_begin\u001b[0m\u001b[0;34m(\u001b[0m\u001b[0mstep\u001b[0m\u001b[0;34m)\u001b[0m\u001b[0;34m\u001b[0m\u001b[0;34m\u001b[0m\u001b[0m\n\u001b[0;32m-> 1184\u001b[0;31m               \u001b[0mtmp_logs\u001b[0m \u001b[0;34m=\u001b[0m \u001b[0mself\u001b[0m\u001b[0;34m.\u001b[0m\u001b[0mtrain_function\u001b[0m\u001b[0;34m(\u001b[0m\u001b[0miterator\u001b[0m\u001b[0;34m)\u001b[0m\u001b[0;34m\u001b[0m\u001b[0;34m\u001b[0m\u001b[0m\n\u001b[0m\u001b[1;32m   1185\u001b[0m               \u001b[0;32mif\u001b[0m \u001b[0mdata_handler\u001b[0m\u001b[0;34m.\u001b[0m\u001b[0mshould_sync\u001b[0m\u001b[0;34m:\u001b[0m\u001b[0;34m\u001b[0m\u001b[0;34m\u001b[0m\u001b[0m\n\u001b[1;32m   1186\u001b[0m                 \u001b[0mcontext\u001b[0m\u001b[0;34m.\u001b[0m\u001b[0masync_wait\u001b[0m\u001b[0;34m(\u001b[0m\u001b[0;34m)\u001b[0m\u001b[0;34m\u001b[0m\u001b[0;34m\u001b[0m\u001b[0m\n",
      "\u001b[0;32m/usr/local/lib/python3.7/dist-packages/tensorflow/python/eager/def_function.py\u001b[0m in \u001b[0;36m__call__\u001b[0;34m(self, *args, **kwds)\u001b[0m\n\u001b[1;32m    883\u001b[0m \u001b[0;34m\u001b[0m\u001b[0m\n\u001b[1;32m    884\u001b[0m       \u001b[0;32mwith\u001b[0m \u001b[0mOptionalXlaContext\u001b[0m\u001b[0;34m(\u001b[0m\u001b[0mself\u001b[0m\u001b[0;34m.\u001b[0m\u001b[0m_jit_compile\u001b[0m\u001b[0;34m)\u001b[0m\u001b[0;34m:\u001b[0m\u001b[0;34m\u001b[0m\u001b[0;34m\u001b[0m\u001b[0m\n\u001b[0;32m--> 885\u001b[0;31m         \u001b[0mresult\u001b[0m \u001b[0;34m=\u001b[0m \u001b[0mself\u001b[0m\u001b[0;34m.\u001b[0m\u001b[0m_call\u001b[0m\u001b[0;34m(\u001b[0m\u001b[0;34m*\u001b[0m\u001b[0margs\u001b[0m\u001b[0;34m,\u001b[0m \u001b[0;34m**\u001b[0m\u001b[0mkwds\u001b[0m\u001b[0;34m)\u001b[0m\u001b[0;34m\u001b[0m\u001b[0;34m\u001b[0m\u001b[0m\n\u001b[0m\u001b[1;32m    886\u001b[0m \u001b[0;34m\u001b[0m\u001b[0m\n\u001b[1;32m    887\u001b[0m       \u001b[0mnew_tracing_count\u001b[0m \u001b[0;34m=\u001b[0m \u001b[0mself\u001b[0m\u001b[0;34m.\u001b[0m\u001b[0mexperimental_get_tracing_count\u001b[0m\u001b[0;34m(\u001b[0m\u001b[0;34m)\u001b[0m\u001b[0;34m\u001b[0m\u001b[0;34m\u001b[0m\u001b[0m\n",
      "\u001b[0;32m/usr/local/lib/python3.7/dist-packages/tensorflow/python/eager/def_function.py\u001b[0m in \u001b[0;36m_call\u001b[0;34m(self, *args, **kwds)\u001b[0m\n\u001b[1;32m    915\u001b[0m       \u001b[0;31m# In this case we have created variables on the first call, so we run the\u001b[0m\u001b[0;34m\u001b[0m\u001b[0;34m\u001b[0m\u001b[0;34m\u001b[0m\u001b[0m\n\u001b[1;32m    916\u001b[0m       \u001b[0;31m# defunned version which is guaranteed to never create variables.\u001b[0m\u001b[0;34m\u001b[0m\u001b[0;34m\u001b[0m\u001b[0;34m\u001b[0m\u001b[0m\n\u001b[0;32m--> 917\u001b[0;31m       \u001b[0;32mreturn\u001b[0m \u001b[0mself\u001b[0m\u001b[0;34m.\u001b[0m\u001b[0m_stateless_fn\u001b[0m\u001b[0;34m(\u001b[0m\u001b[0;34m*\u001b[0m\u001b[0margs\u001b[0m\u001b[0;34m,\u001b[0m \u001b[0;34m**\u001b[0m\u001b[0mkwds\u001b[0m\u001b[0;34m)\u001b[0m  \u001b[0;31m# pylint: disable=not-callable\u001b[0m\u001b[0;34m\u001b[0m\u001b[0;34m\u001b[0m\u001b[0m\n\u001b[0m\u001b[1;32m    918\u001b[0m     \u001b[0;32melif\u001b[0m \u001b[0mself\u001b[0m\u001b[0;34m.\u001b[0m\u001b[0m_stateful_fn\u001b[0m \u001b[0;32mis\u001b[0m \u001b[0;32mnot\u001b[0m \u001b[0;32mNone\u001b[0m\u001b[0;34m:\u001b[0m\u001b[0;34m\u001b[0m\u001b[0;34m\u001b[0m\u001b[0m\n\u001b[1;32m    919\u001b[0m       \u001b[0;31m# Release the lock early so that multiple threads can perform the call\u001b[0m\u001b[0;34m\u001b[0m\u001b[0;34m\u001b[0m\u001b[0;34m\u001b[0m\u001b[0m\n",
      "\u001b[0;32m/usr/local/lib/python3.7/dist-packages/tensorflow/python/eager/function.py\u001b[0m in \u001b[0;36m__call__\u001b[0;34m(self, *args, **kwargs)\u001b[0m\n\u001b[1;32m   3038\u001b[0m        filtered_flat_args) = self._maybe_define_function(args, kwargs)\n\u001b[1;32m   3039\u001b[0m     return graph_function._call_flat(\n\u001b[0;32m-> 3040\u001b[0;31m         filtered_flat_args, captured_inputs=graph_function.captured_inputs)  # pylint: disable=protected-access\n\u001b[0m\u001b[1;32m   3041\u001b[0m \u001b[0;34m\u001b[0m\u001b[0m\n\u001b[1;32m   3042\u001b[0m   \u001b[0;34m@\u001b[0m\u001b[0mproperty\u001b[0m\u001b[0;34m\u001b[0m\u001b[0;34m\u001b[0m\u001b[0m\n",
      "\u001b[0;32m/usr/local/lib/python3.7/dist-packages/tensorflow/python/eager/function.py\u001b[0m in \u001b[0;36m_call_flat\u001b[0;34m(self, args, captured_inputs, cancellation_manager)\u001b[0m\n\u001b[1;32m   1962\u001b[0m       \u001b[0;31m# No tape is watching; skip to running the function.\u001b[0m\u001b[0;34m\u001b[0m\u001b[0;34m\u001b[0m\u001b[0;34m\u001b[0m\u001b[0m\n\u001b[1;32m   1963\u001b[0m       return self._build_call_outputs(self._inference_function.call(\n\u001b[0;32m-> 1964\u001b[0;31m           ctx, args, cancellation_manager=cancellation_manager))\n\u001b[0m\u001b[1;32m   1965\u001b[0m     forward_backward = self._select_forward_and_backward_functions(\n\u001b[1;32m   1966\u001b[0m         \u001b[0margs\u001b[0m\u001b[0;34m,\u001b[0m\u001b[0;34m\u001b[0m\u001b[0;34m\u001b[0m\u001b[0m\n",
      "\u001b[0;32m/usr/local/lib/python3.7/dist-packages/tensorflow/python/eager/function.py\u001b[0m in \u001b[0;36mcall\u001b[0;34m(self, ctx, args, cancellation_manager)\u001b[0m\n\u001b[1;32m    594\u001b[0m               \u001b[0minputs\u001b[0m\u001b[0;34m=\u001b[0m\u001b[0margs\u001b[0m\u001b[0;34m,\u001b[0m\u001b[0;34m\u001b[0m\u001b[0;34m\u001b[0m\u001b[0m\n\u001b[1;32m    595\u001b[0m               \u001b[0mattrs\u001b[0m\u001b[0;34m=\u001b[0m\u001b[0mattrs\u001b[0m\u001b[0;34m,\u001b[0m\u001b[0;34m\u001b[0m\u001b[0;34m\u001b[0m\u001b[0m\n\u001b[0;32m--> 596\u001b[0;31m               ctx=ctx)\n\u001b[0m\u001b[1;32m    597\u001b[0m         \u001b[0;32melse\u001b[0m\u001b[0;34m:\u001b[0m\u001b[0;34m\u001b[0m\u001b[0;34m\u001b[0m\u001b[0m\n\u001b[1;32m    598\u001b[0m           outputs = execute.execute_with_cancellation(\n",
      "\u001b[0;32m/usr/local/lib/python3.7/dist-packages/tensorflow/python/eager/execute.py\u001b[0m in \u001b[0;36mquick_execute\u001b[0;34m(op_name, num_outputs, inputs, attrs, ctx, name)\u001b[0m\n\u001b[1;32m     58\u001b[0m     \u001b[0mctx\u001b[0m\u001b[0;34m.\u001b[0m\u001b[0mensure_initialized\u001b[0m\u001b[0;34m(\u001b[0m\u001b[0;34m)\u001b[0m\u001b[0;34m\u001b[0m\u001b[0;34m\u001b[0m\u001b[0m\n\u001b[1;32m     59\u001b[0m     tensors = pywrap_tfe.TFE_Py_Execute(ctx._handle, device_name, op_name,\n\u001b[0;32m---> 60\u001b[0;31m                                         inputs, attrs, num_outputs)\n\u001b[0m\u001b[1;32m     61\u001b[0m   \u001b[0;32mexcept\u001b[0m \u001b[0mcore\u001b[0m\u001b[0;34m.\u001b[0m\u001b[0m_NotOkStatusException\u001b[0m \u001b[0;32mas\u001b[0m \u001b[0me\u001b[0m\u001b[0;34m:\u001b[0m\u001b[0;34m\u001b[0m\u001b[0;34m\u001b[0m\u001b[0m\n\u001b[1;32m     62\u001b[0m     \u001b[0;32mif\u001b[0m \u001b[0mname\u001b[0m \u001b[0;32mis\u001b[0m \u001b[0;32mnot\u001b[0m \u001b[0;32mNone\u001b[0m\u001b[0;34m:\u001b[0m\u001b[0;34m\u001b[0m\u001b[0;34m\u001b[0m\u001b[0m\n",
      "\u001b[0;31mKeyboardInterrupt\u001b[0m: "
     ]
    }
   ],
   "source": [
    "%%time\n",
    "\n",
    "hist = model2.fit(train_X, train_y,\n",
    "                 epochs = 200,\n",
    "                 batch_size = 16,\n",
    "                 validation_data = (test_X, test_y))"
   ]
  },
  {
   "cell_type": "code",
   "execution_count": 48,
   "metadata": {
    "colab": {
     "base_uri": "https://localhost:8080/",
     "height": 320
    },
    "executionInfo": {
     "elapsed": 19774,
     "status": "ok",
     "timestamp": 1633939689194,
     "user": {
      "displayName": "임성국",
      "photoUrl": "https://lh3.googleusercontent.com/a/default-user=s64",
      "userId": "16836461090630312519"
     },
     "user_tz": -540
    },
    "hidden": true,
    "id": "lbKWzGwPQrGM",
    "outputId": "b8b3d700-c8e0-45e9-d9c7-c374061b86bc"
   },
   "outputs": [
    {
     "data": {
      "image/png": "[encoded data removed]",
      "text/plain": [
       "<Figure size 864x360 with 1 Axes>"
      ]
     },
     "metadata": {
      "needs_background": "light"
     },
     "output_type": "display_data"
    }
   ],
   "source": [
    "look_ahead = 400\n",
    "\n",
    "xhat = test_X[0]\n",
    "\n",
    "predictions = np.zeros((look_ahead, 1))\n",
    "\n",
    "for i in range(look_ahead):\n",
    "    prediction = model.predict(np.array([xhat]), batch_size = 1)\n",
    "    predictions[i] = prediction\n",
    "    xhat = np.vstack([xhat[1:], prediction])\n",
    "\n",
    "plt.figure(figsize=(12,5))\n",
    "plt.plot(np.arange(look_ahead), predictions, 'r', label = 'Prediction')\n",
    "plt.plot(np.arange(look_ahead), test_y[:look_ahead], label = 'Test_Data')\n",
    "plt.legend()\n",
    "plt.show()"
   ]
  },
  {
   "cell_type": "markdown",
   "metadata": {
    "id": "4UOk24yXNRP7"
   },
   "source": [
    "#The End#"
   ]
  }
 ],
 "metadata": {
  "accelerator": "GPU",
  "colab": {
   "authorship_tag": "ABX9TyPIbx7/O82iHbwaenuQ8mAv",
   "collapsed_sections": [],
   "name": "LSTM_GPU.ipynb",
   "provenance": []
  },
  "kernelspec": {
   "display_name": "Python 3",
   "language": "python",
   "name": "python3"
  },
  "language_info": {
   "codemirror_mode": {
    "name": "ipython",
    "version": 3
   },
   "file_extension": ".py",
   "mimetype": "text/x-python",
   "name": "python",
   "nbconvert_exporter": "python",
   "pygments_lexer": "ipython3",
   "version": "3.8.8"
  },
  "toc": {
   "base_numbering": 1,
   "nav_menu": {},
   "number_sections": true,
   "sideBar": true,
   "skip_h1_title": false,
   "title_cell": "Table of Contents",
   "title_sidebar": "Contents",
   "toc_cell": false,
   "toc_position": {},
   "toc_section_display": true,
   "toc_window_display": false
  }
 },
 "nbformat": 4,
 "nbformat_minor": 1
}
