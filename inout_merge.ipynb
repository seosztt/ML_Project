{
  "nbformat": 4,
  "nbformat_minor": 0,
  "metadata": {
    "colab": {
      "name": "inout_merge.ipynb",
      "provenance": [],
      "collapsed_sections": [
        "qyOfKPiQQ7nG",
        "Qt8fWskSREyU",
        "o_mFboyTSi46"
      ],
      "authorship_tag": "ABX9TyN0m8Nh4sYT7DNXxyclMdly",
      "include_colab_link": true
    },
    "kernelspec": {
      "name": "python3",
      "display_name": "Python 3"
    },
    "language_info": {
      "name": "python"
    }
  },
  "cells": [
    {
      "cell_type": "markdown",
      "metadata": {
        "id": "view-in-github",
        "colab_type": "text"
      },
      "source": [
        "<a href=\"https://colab.research.google.com/github/seosztt/ML_Project/blob/master/inout_merge.ipynb\" target=\"_parent\"><img src=\"https://colab.research.google.com/assets/colab-badge.svg\" alt=\"Open In Colab\"/></a>"
      ]
    },
    {
      "cell_type": "code",
      "metadata": {
        "colab": {
          "base_uri": "https://localhost:8080/"
        },
        "id": "WcJzls1o1qbk",
        "outputId": "01fa2634-ccb7-44bf-d44c-a361fccb2171"
      },
      "source": [
        "# colab 사용자만 실행\n",
        "!sudo apt-get install -y fonts-nanum\n",
        "!sudo fc-cache -fv\n",
        "!rm ~/.cache/matplotlib -rf\n",
        "# 런타임 -> 런타임 다시 시작하고 아래 한글폰트 설정 시작\n",
        "# 위에서 csv 파일은 다시 불러와야함."
      ],
      "execution_count": null,
      "outputs": [
        {
          "output_type": "stream",
          "name": "stdout",
          "text": [
            "Reading package lists... Done\n",
            "Building dependency tree       \n",
            "Reading state information... Done\n",
            "The following NEW packages will be installed:\n",
            "  fonts-nanum\n",
            "0 upgraded, 1 newly installed, 0 to remove and 37 not upgraded.\n",
            "Need to get 9,604 kB of archives.\n",
            "After this operation, 29.5 MB of additional disk space will be used.\n",
            "Get:1 http://archive.ubuntu.com/ubuntu bionic/universe amd64 fonts-nanum all 20170925-1 [9,604 kB]\n",
            "Fetched 9,604 kB in 1s (10.3 MB/s)\n",
            "debconf: unable to initialize frontend: Dialog\n",
            "debconf: (No usable dialog-like program is installed, so the dialog based frontend cannot be used. at /usr/share/perl5/Debconf/FrontEnd/Dialog.pm line 76, <> line 1.)\n",
            "debconf: falling back to frontend: Readline\n",
            "debconf: unable to initialize frontend: Readline\n",
            "debconf: (This frontend requires a controlling tty.)\n",
            "debconf: falling back to frontend: Teletype\n",
            "dpkg-preconfigure: unable to re-open stdin: \n",
            "Selecting previously unselected package fonts-nanum.\n",
            "(Reading database ... 155047 files and directories currently installed.)\n",
            "Preparing to unpack .../fonts-nanum_20170925-1_all.deb ...\n",
            "Unpacking fonts-nanum (20170925-1) ...\n",
            "Setting up fonts-nanum (20170925-1) ...\n",
            "Processing triggers for fontconfig (2.12.6-0ubuntu2) ...\n",
            "/usr/share/fonts: caching, new cache contents: 0 fonts, 1 dirs\n",
            "/usr/share/fonts/truetype: caching, new cache contents: 0 fonts, 3 dirs\n",
            "/usr/share/fonts/truetype/humor-sans: caching, new cache contents: 1 fonts, 0 dirs\n",
            "/usr/share/fonts/truetype/liberation: caching, new cache contents: 16 fonts, 0 dirs\n",
            "/usr/share/fonts/truetype/nanum: caching, new cache contents: 10 fonts, 0 dirs\n",
            "/usr/local/share/fonts: caching, new cache contents: 0 fonts, 0 dirs\n",
            "/root/.local/share/fonts: skipping, no such directory\n",
            "/root/.fonts: skipping, no such directory\n",
            "/var/cache/fontconfig: cleaning cache directory\n",
            "/root/.cache/fontconfig: not cleaning non-existent cache directory\n",
            "/root/.fontconfig: not cleaning non-existent cache directory\n",
            "fc-cache: succeeded\n"
          ]
        }
      ]
    },
    {
      "cell_type": "code",
      "metadata": {
        "colab": {
          "base_uri": "https://localhost:8080/",
          "height": 622
        },
        "id": "kkAUWNL71skU",
        "outputId": "d1d5bbbe-965c-4e29-fef1-6ba1fc0c802f"
      },
      "source": [
        "# matplotlib.pyplot 을 통해 한글폰트를 설정합니다.\n",
        "# plt.style.use 로 \"fivethirtyeight\" 스타일을 사용해 봅니다.\n",
        "\n",
        "import matplotlib.pyplot as plt\n",
        "import pandas as pd\n",
        "\n",
        "plt.rc('font', family='NanumBarunGothic') \n",
        "plt.style.use('fivethirtyeight')\n",
        "# 그래프에 retina display 적용\n",
        "%config InlineBackend.figure_format = 'retina'\n",
        "\n",
        "pd.Series([1,3,-5,2,8]).plot.bar(title='한글제목')"
      ],
      "execution_count": null,
      "outputs": [
        {
          "output_type": "execute_result",
          "data": {
            "text/plain": [
              "<matplotlib.axes._subplots.AxesSubplot at 0x7f227ed63150>"
            ]
          },
          "metadata": {},
          "execution_count": 2
        },
        {
          "output_type": "stream",
          "name": "stderr",
          "text": [
            "findfont: Font family ['NanumBarunGothic'] not found. Falling back to DejaVu Sans.\n",
            "/usr/local/lib/python3.7/dist-packages/matplotlib/backends/backend_agg.py:214: RuntimeWarning: Glyph 54620 missing from current font.\n",
            "  font.set_text(s, 0.0, flags=flags)\n",
            "/usr/local/lib/python3.7/dist-packages/matplotlib/backends/backend_agg.py:214: RuntimeWarning: Glyph 44544 missing from current font.\n",
            "  font.set_text(s, 0.0, flags=flags)\n",
            "/usr/local/lib/python3.7/dist-packages/matplotlib/backends/backend_agg.py:214: RuntimeWarning: Glyph 51228 missing from current font.\n",
            "  font.set_text(s, 0.0, flags=flags)\n",
            "/usr/local/lib/python3.7/dist-packages/matplotlib/backends/backend_agg.py:214: RuntimeWarning: Glyph 47785 missing from current font.\n",
            "  font.set_text(s, 0.0, flags=flags)\n",
            "findfont: Font family ['NanumBarunGothic'] not found. Falling back to DejaVu Sans.\n",
            "/usr/local/lib/python3.7/dist-packages/matplotlib/backends/backend_agg.py:183: RuntimeWarning: Glyph 54620 missing from current font.\n",
            "  font.set_text(s, 0, flags=flags)\n",
            "/usr/local/lib/python3.7/dist-packages/matplotlib/backends/backend_agg.py:183: RuntimeWarning: Glyph 44544 missing from current font.\n",
            "  font.set_text(s, 0, flags=flags)\n",
            "/usr/local/lib/python3.7/dist-packages/matplotlib/backends/backend_agg.py:183: RuntimeWarning: Glyph 51228 missing from current font.\n",
            "  font.set_text(s, 0, flags=flags)\n",
            "/usr/local/lib/python3.7/dist-packages/matplotlib/backends/backend_agg.py:183: RuntimeWarning: Glyph 47785 missing from current font.\n",
            "  font.set_text(s, 0, flags=flags)\n"
          ]
        },
        {
          "output_type": "display_data",
          "data": {
            "image/png": "[encoded data removed]",
            "text/plain": [
              "<Figure size 432x288 with 1 Axes>"
            ]
          },
          "metadata": {
            "image/png": {
              "width": 414,
              "height": 281
            }
          }
        }
      ]
    },
    {
      "cell_type": "code",
      "metadata": {
        "id": "VdjUSCP213X4"
      },
      "source": [
        "import warnings\n",
        "warnings.filterwarnings('ignore')"
      ],
      "execution_count": null,
      "outputs": []
    },
    {
      "cell_type": "code",
      "metadata": {
        "colab": {
          "base_uri": "https://localhost:8080/"
        },
        "id": "U8Mejk_b2Rn9",
        "outputId": "f507c7f1-5a17-499e-f726-b4b397407014"
      },
      "source": [
        "from google.colab import drive\n",
        "\n",
        "drive.mount('/content/drive')"
      ],
      "execution_count": null,
      "outputs": [
        {
          "output_type": "stream",
          "name": "stdout",
          "text": [
            "Mounted at /content/drive\n"
          ]
        }
      ]
    },
    {
      "cell_type": "code",
      "metadata": {
        "id": "jXQT8l8-2S-W"
      },
      "source": [
        "import pandas as pd\n",
        "\n",
        "CSP=pd.read_csv('/content/drive/MyDrive/2조/datasets/전처리/inout_merge.csv')"
      ],
      "execution_count": null,
      "outputs": []
    },
    {
      "cell_type": "code",
      "metadata": {
        "colab": {
          "base_uri": "https://localhost:8080/",
          "height": 419
        },
        "id": "BYGQXF562zjB",
        "outputId": "dd6c204b-18fc-4110-9d9b-1c27ba4dbfd7"
      },
      "source": [
        "CSP"
      ],
      "execution_count": null,
      "outputs": [
        {
          "output_type": "execute_result",
          "data": {
            "text/html": [
              "<div>\n",
              "<style scoped>\n",
              "    .dataframe tbody tr th:only-of-type {\n",
              "        vertical-align: middle;\n",
              "    }\n",
              "\n",
              "    .dataframe tbody tr th {\n",
              "        vertical-align: top;\n",
              "    }\n",
              "\n",
              "    .dataframe thead th {\n",
              "        text-align: right;\n",
              "    }\n",
              "</style>\n",
              "<table border=\"1\" class=\"dataframe\">\n",
              "  <thead>\n",
              "    <tr style=\"text-align: right;\">\n",
              "      <th></th>\n",
              "      <th>kind</th>\n",
              "      <th>market</th>\n",
              "      <th>corp</th>\n",
              "      <th>wide</th>\n",
              "      <th>city</th>\n",
              "      <th>price</th>\n",
              "      <th>year</th>\n",
              "      <th>month</th>\n",
              "      <th>area</th>\n",
              "      <th>ratio</th>\n",
              "      <th>amount</th>\n",
              "      <th>weather</th>\n",
              "      <th>inn</th>\n",
              "      <th>out</th>\n",
              "    </tr>\n",
              "  </thead>\n",
              "  <tbody>\n",
              "    <tr>\n",
              "      <th>0</th>\n",
              "      <td>4</td>\n",
              "      <td>5</td>\n",
              "      <td>23</td>\n",
              "      <td>2</td>\n",
              "      <td>26</td>\n",
              "      <td>598.39</td>\n",
              "      <td>21</td>\n",
              "      <td>8</td>\n",
              "      <td>3159</td>\n",
              "      <td>9739</td>\n",
              "      <td>307653</td>\n",
              "      <td>영천</td>\n",
              "      <td>2027.112</td>\n",
              "      <td>271.105</td>\n",
              "    </tr>\n",
              "    <tr>\n",
              "      <th>1</th>\n",
              "      <td>4</td>\n",
              "      <td>5</td>\n",
              "      <td>79</td>\n",
              "      <td>2</td>\n",
              "      <td>26</td>\n",
              "      <td>662.87</td>\n",
              "      <td>21</td>\n",
              "      <td>8</td>\n",
              "      <td>3159</td>\n",
              "      <td>9739</td>\n",
              "      <td>307653</td>\n",
              "      <td>영천</td>\n",
              "      <td>2027.112</td>\n",
              "      <td>271.105</td>\n",
              "    </tr>\n",
              "    <tr>\n",
              "      <th>2</th>\n",
              "      <td>4</td>\n",
              "      <td>6</td>\n",
              "      <td>25</td>\n",
              "      <td>2</td>\n",
              "      <td>26</td>\n",
              "      <td>586.33</td>\n",
              "      <td>21</td>\n",
              "      <td>8</td>\n",
              "      <td>3159</td>\n",
              "      <td>9739</td>\n",
              "      <td>307653</td>\n",
              "      <td>영천</td>\n",
              "      <td>2027.112</td>\n",
              "      <td>271.105</td>\n",
              "    </tr>\n",
              "    <tr>\n",
              "      <th>3</th>\n",
              "      <td>4</td>\n",
              "      <td>17</td>\n",
              "      <td>48</td>\n",
              "      <td>2</td>\n",
              "      <td>26</td>\n",
              "      <td>766.64</td>\n",
              "      <td>21</td>\n",
              "      <td>8</td>\n",
              "      <td>3159</td>\n",
              "      <td>9739</td>\n",
              "      <td>307653</td>\n",
              "      <td>영천</td>\n",
              "      <td>2027.112</td>\n",
              "      <td>271.105</td>\n",
              "    </tr>\n",
              "    <tr>\n",
              "      <th>4</th>\n",
              "      <td>0</td>\n",
              "      <td>5</td>\n",
              "      <td>17</td>\n",
              "      <td>2</td>\n",
              "      <td>26</td>\n",
              "      <td>709.49</td>\n",
              "      <td>21</td>\n",
              "      <td>8</td>\n",
              "      <td>3159</td>\n",
              "      <td>9739</td>\n",
              "      <td>307653</td>\n",
              "      <td>영천</td>\n",
              "      <td>2027.112</td>\n",
              "      <td>271.105</td>\n",
              "    </tr>\n",
              "    <tr>\n",
              "      <th>...</th>\n",
              "      <td>...</td>\n",
              "      <td>...</td>\n",
              "      <td>...</td>\n",
              "      <td>...</td>\n",
              "      <td>...</td>\n",
              "      <td>...</td>\n",
              "      <td>...</td>\n",
              "      <td>...</td>\n",
              "      <td>...</td>\n",
              "      <td>...</td>\n",
              "      <td>...</td>\n",
              "      <td>...</td>\n",
              "      <td>...</td>\n",
              "      <td>...</td>\n",
              "    </tr>\n",
              "    <tr>\n",
              "      <th>26171</th>\n",
              "      <td>0</td>\n",
              "      <td>3</td>\n",
              "      <td>7</td>\n",
              "      <td>0</td>\n",
              "      <td>6</td>\n",
              "      <td>1302.47</td>\n",
              "      <td>16</td>\n",
              "      <td>1</td>\n",
              "      <td>217</td>\n",
              "      <td>6046</td>\n",
              "      <td>13120</td>\n",
              "      <td>서울</td>\n",
              "      <td>24407.001</td>\n",
              "      <td>1.000</td>\n",
              "    </tr>\n",
              "    <tr>\n",
              "      <th>26172</th>\n",
              "      <td>3</td>\n",
              "      <td>3</td>\n",
              "      <td>7</td>\n",
              "      <td>0</td>\n",
              "      <td>6</td>\n",
              "      <td>1013.94</td>\n",
              "      <td>16</td>\n",
              "      <td>1</td>\n",
              "      <td>217</td>\n",
              "      <td>6046</td>\n",
              "      <td>13120</td>\n",
              "      <td>서울</td>\n",
              "      <td>24407.001</td>\n",
              "      <td>1.000</td>\n",
              "    </tr>\n",
              "    <tr>\n",
              "      <th>26173</th>\n",
              "      <td>3</td>\n",
              "      <td>5</td>\n",
              "      <td>23</td>\n",
              "      <td>5</td>\n",
              "      <td>23</td>\n",
              "      <td>979.14</td>\n",
              "      <td>16</td>\n",
              "      <td>1</td>\n",
              "      <td>21</td>\n",
              "      <td>7445</td>\n",
              "      <td>1564</td>\n",
              "      <td>부산</td>\n",
              "      <td>24407.001</td>\n",
              "      <td>1.000</td>\n",
              "    </tr>\n",
              "    <tr>\n",
              "      <th>26174</th>\n",
              "      <td>1</td>\n",
              "      <td>15</td>\n",
              "      <td>44</td>\n",
              "      <td>9</td>\n",
              "      <td>19</td>\n",
              "      <td>1700.00</td>\n",
              "      <td>16</td>\n",
              "      <td>1</td>\n",
              "      <td>453</td>\n",
              "      <td>6270</td>\n",
              "      <td>28405</td>\n",
              "      <td>서산</td>\n",
              "      <td>24407.001</td>\n",
              "      <td>1.000</td>\n",
              "    </tr>\n",
              "    <tr>\n",
              "      <th>26175</th>\n",
              "      <td>7</td>\n",
              "      <td>1</td>\n",
              "      <td>5</td>\n",
              "      <td>8</td>\n",
              "      <td>18</td>\n",
              "      <td>1368.42</td>\n",
              "      <td>16</td>\n",
              "      <td>1</td>\n",
              "      <td>1566</td>\n",
              "      <td>6458</td>\n",
              "      <td>101134</td>\n",
              "      <td>서귀포</td>\n",
              "      <td>24407.001</td>\n",
              "      <td>1.000</td>\n",
              "    </tr>\n",
              "  </tbody>\n",
              "</table>\n",
              "<p>26176 rows × 14 columns</p>\n",
              "</div>"
            ],
            "text/plain": [
              "       kind  market  corp  wide  ...  amount  weather        inn      out\n",
              "0         4       5    23     2  ...  307653       영천   2027.112  271.105\n",
              "1         4       5    79     2  ...  307653       영천   2027.112  271.105\n",
              "2         4       6    25     2  ...  307653       영천   2027.112  271.105\n",
              "3         4      17    48     2  ...  307653       영천   2027.112  271.105\n",
              "4         0       5    17     2  ...  307653       영천   2027.112  271.105\n",
              "...     ...     ...   ...   ...  ...     ...      ...        ...      ...\n",
              "26171     0       3     7     0  ...   13120       서울  24407.001    1.000\n",
              "26172     3       3     7     0  ...   13120       서울  24407.001    1.000\n",
              "26173     3       5    23     5  ...    1564       부산  24407.001    1.000\n",
              "26174     1      15    44     9  ...   28405       서산  24407.001    1.000\n",
              "26175     7       1     5     8  ...  101134      서귀포  24407.001    1.000\n",
              "\n",
              "[26176 rows x 14 columns]"
            ]
          },
          "metadata": {},
          "execution_count": 6
        }
      ]
    },
    {
      "cell_type": "code",
      "metadata": {
        "id": "VLKh44rO20Kr"
      },
      "source": [
        "from sklearn.preprocessing import LabelEncoder\n",
        "\n",
        "LE=LabelEncoder()\n",
        "CSP['weather']=LE.fit_transform(CSP['weather'])"
      ],
      "execution_count": null,
      "outputs": []
    },
    {
      "cell_type": "code",
      "metadata": {
        "colab": {
          "base_uri": "https://localhost:8080/",
          "height": 419
        },
        "id": "uHB2Kha657Nh",
        "outputId": "58d03c55-df7c-481c-d8a0-34e683472acb"
      },
      "source": [
        "CSP"
      ],
      "execution_count": null,
      "outputs": [
        {
          "output_type": "execute_result",
          "data": {
            "text/html": [
              "<div>\n",
              "<style scoped>\n",
              "    .dataframe tbody tr th:only-of-type {\n",
              "        vertical-align: middle;\n",
              "    }\n",
              "\n",
              "    .dataframe tbody tr th {\n",
              "        vertical-align: top;\n",
              "    }\n",
              "\n",
              "    .dataframe thead th {\n",
              "        text-align: right;\n",
              "    }\n",
              "</style>\n",
              "<table border=\"1\" class=\"dataframe\">\n",
              "  <thead>\n",
              "    <tr style=\"text-align: right;\">\n",
              "      <th></th>\n",
              "      <th>kind</th>\n",
              "      <th>market</th>\n",
              "      <th>corp</th>\n",
              "      <th>wide</th>\n",
              "      <th>city</th>\n",
              "      <th>price</th>\n",
              "      <th>year</th>\n",
              "      <th>month</th>\n",
              "      <th>area</th>\n",
              "      <th>ratio</th>\n",
              "      <th>amount</th>\n",
              "      <th>weather</th>\n",
              "      <th>inn</th>\n",
              "      <th>out</th>\n",
              "    </tr>\n",
              "  </thead>\n",
              "  <tbody>\n",
              "    <tr>\n",
              "      <th>0</th>\n",
              "      <td>4</td>\n",
              "      <td>5</td>\n",
              "      <td>23</td>\n",
              "      <td>2</td>\n",
              "      <td>26</td>\n",
              "      <td>598.39</td>\n",
              "      <td>21</td>\n",
              "      <td>8</td>\n",
              "      <td>3159</td>\n",
              "      <td>9739</td>\n",
              "      <td>307653</td>\n",
              "      <td>23</td>\n",
              "      <td>2027.112</td>\n",
              "      <td>271.105</td>\n",
              "    </tr>\n",
              "    <tr>\n",
              "      <th>1</th>\n",
              "      <td>4</td>\n",
              "      <td>5</td>\n",
              "      <td>79</td>\n",
              "      <td>2</td>\n",
              "      <td>26</td>\n",
              "      <td>662.87</td>\n",
              "      <td>21</td>\n",
              "      <td>8</td>\n",
              "      <td>3159</td>\n",
              "      <td>9739</td>\n",
              "      <td>307653</td>\n",
              "      <td>23</td>\n",
              "      <td>2027.112</td>\n",
              "      <td>271.105</td>\n",
              "    </tr>\n",
              "    <tr>\n",
              "      <th>2</th>\n",
              "      <td>4</td>\n",
              "      <td>6</td>\n",
              "      <td>25</td>\n",
              "      <td>2</td>\n",
              "      <td>26</td>\n",
              "      <td>586.33</td>\n",
              "      <td>21</td>\n",
              "      <td>8</td>\n",
              "      <td>3159</td>\n",
              "      <td>9739</td>\n",
              "      <td>307653</td>\n",
              "      <td>23</td>\n",
              "      <td>2027.112</td>\n",
              "      <td>271.105</td>\n",
              "    </tr>\n",
              "    <tr>\n",
              "      <th>3</th>\n",
              "      <td>4</td>\n",
              "      <td>17</td>\n",
              "      <td>48</td>\n",
              "      <td>2</td>\n",
              "      <td>26</td>\n",
              "      <td>766.64</td>\n",
              "      <td>21</td>\n",
              "      <td>8</td>\n",
              "      <td>3159</td>\n",
              "      <td>9739</td>\n",
              "      <td>307653</td>\n",
              "      <td>23</td>\n",
              "      <td>2027.112</td>\n",
              "      <td>271.105</td>\n",
              "    </tr>\n",
              "    <tr>\n",
              "      <th>4</th>\n",
              "      <td>0</td>\n",
              "      <td>5</td>\n",
              "      <td>17</td>\n",
              "      <td>2</td>\n",
              "      <td>26</td>\n",
              "      <td>709.49</td>\n",
              "      <td>21</td>\n",
              "      <td>8</td>\n",
              "      <td>3159</td>\n",
              "      <td>9739</td>\n",
              "      <td>307653</td>\n",
              "      <td>23</td>\n",
              "      <td>2027.112</td>\n",
              "      <td>271.105</td>\n",
              "    </tr>\n",
              "    <tr>\n",
              "      <th>...</th>\n",
              "      <td>...</td>\n",
              "      <td>...</td>\n",
              "      <td>...</td>\n",
              "      <td>...</td>\n",
              "      <td>...</td>\n",
              "      <td>...</td>\n",
              "      <td>...</td>\n",
              "      <td>...</td>\n",
              "      <td>...</td>\n",
              "      <td>...</td>\n",
              "      <td>...</td>\n",
              "      <td>...</td>\n",
              "      <td>...</td>\n",
              "      <td>...</td>\n",
              "    </tr>\n",
              "    <tr>\n",
              "      <th>26171</th>\n",
              "      <td>0</td>\n",
              "      <td>3</td>\n",
              "      <td>7</td>\n",
              "      <td>0</td>\n",
              "      <td>6</td>\n",
              "      <td>1302.47</td>\n",
              "      <td>16</td>\n",
              "      <td>1</td>\n",
              "      <td>217</td>\n",
              "      <td>6046</td>\n",
              "      <td>13120</td>\n",
              "      <td>18</td>\n",
              "      <td>24407.001</td>\n",
              "      <td>1.000</td>\n",
              "    </tr>\n",
              "    <tr>\n",
              "      <th>26172</th>\n",
              "      <td>3</td>\n",
              "      <td>3</td>\n",
              "      <td>7</td>\n",
              "      <td>0</td>\n",
              "      <td>6</td>\n",
              "      <td>1013.94</td>\n",
              "      <td>16</td>\n",
              "      <td>1</td>\n",
              "      <td>217</td>\n",
              "      <td>6046</td>\n",
              "      <td>13120</td>\n",
              "      <td>18</td>\n",
              "      <td>24407.001</td>\n",
              "      <td>1.000</td>\n",
              "    </tr>\n",
              "    <tr>\n",
              "      <th>26173</th>\n",
              "      <td>3</td>\n",
              "      <td>5</td>\n",
              "      <td>23</td>\n",
              "      <td>5</td>\n",
              "      <td>23</td>\n",
              "      <td>979.14</td>\n",
              "      <td>16</td>\n",
              "      <td>1</td>\n",
              "      <td>21</td>\n",
              "      <td>7445</td>\n",
              "      <td>1564</td>\n",
              "      <td>11</td>\n",
              "      <td>24407.001</td>\n",
              "      <td>1.000</td>\n",
              "    </tr>\n",
              "    <tr>\n",
              "      <th>26174</th>\n",
              "      <td>1</td>\n",
              "      <td>15</td>\n",
              "      <td>44</td>\n",
              "      <td>9</td>\n",
              "      <td>19</td>\n",
              "      <td>1700.00</td>\n",
              "      <td>16</td>\n",
              "      <td>1</td>\n",
              "      <td>453</td>\n",
              "      <td>6270</td>\n",
              "      <td>28405</td>\n",
              "      <td>17</td>\n",
              "      <td>24407.001</td>\n",
              "      <td>1.000</td>\n",
              "    </tr>\n",
              "    <tr>\n",
              "      <th>26175</th>\n",
              "      <td>7</td>\n",
              "      <td>1</td>\n",
              "      <td>5</td>\n",
              "      <td>8</td>\n",
              "      <td>18</td>\n",
              "      <td>1368.42</td>\n",
              "      <td>16</td>\n",
              "      <td>1</td>\n",
              "      <td>1566</td>\n",
              "      <td>6458</td>\n",
              "      <td>101134</td>\n",
              "      <td>16</td>\n",
              "      <td>24407.001</td>\n",
              "      <td>1.000</td>\n",
              "    </tr>\n",
              "  </tbody>\n",
              "</table>\n",
              "<p>26176 rows × 14 columns</p>\n",
              "</div>"
            ],
            "text/plain": [
              "       kind  market  corp  wide  ...  amount  weather        inn      out\n",
              "0         4       5    23     2  ...  307653       23   2027.112  271.105\n",
              "1         4       5    79     2  ...  307653       23   2027.112  271.105\n",
              "2         4       6    25     2  ...  307653       23   2027.112  271.105\n",
              "3         4      17    48     2  ...  307653       23   2027.112  271.105\n",
              "4         0       5    17     2  ...  307653       23   2027.112  271.105\n",
              "...     ...     ...   ...   ...  ...     ...      ...        ...      ...\n",
              "26171     0       3     7     0  ...   13120       18  24407.001    1.000\n",
              "26172     3       3     7     0  ...   13120       18  24407.001    1.000\n",
              "26173     3       5    23     5  ...    1564       11  24407.001    1.000\n",
              "26174     1      15    44     9  ...   28405       17  24407.001    1.000\n",
              "26175     7       1     5     8  ...  101134       16  24407.001    1.000\n",
              "\n",
              "[26176 rows x 14 columns]"
            ]
          },
          "metadata": {},
          "execution_count": 12
        }
      ]
    },
    {
      "cell_type": "code",
      "metadata": {
        "id": "tCCrzhu69ymg"
      },
      "source": [
        "CSP.to_csv('/content/drive/MyDrive/2조/datasets/전처리/inout_merge_LabelEncode_weather_column.csv')"
      ],
      "execution_count": null,
      "outputs": []
    },
    {
      "cell_type": "code",
      "metadata": {
        "colab": {
          "base_uri": "https://localhost:8080/"
        },
        "id": "nQ1wCq6i-d26",
        "outputId": "5bf91bd8-1587-420a-81e1-216a9ff0dd7e"
      },
      "source": [
        "from sklearn.model_selection import train_test_split\n",
        "\n",
        "train, test = train_test_split(CSP,\n",
        "                               test_size = 0.2,\n",
        "                               random_state = 2045)\n",
        "\n",
        "train.shape, test.shape"
      ],
      "execution_count": null,
      "outputs": [
        {
          "output_type": "execute_result",
          "data": {
            "text/plain": [
              "((20940, 14), (5236, 14))"
            ]
          },
          "metadata": {},
          "execution_count": 14
        }
      ]
    },
    {
      "cell_type": "code",
      "metadata": {
        "id": "WnWjB_Av-wNy"
      },
      "source": [
        "train.to_csv('/content/drive/MyDrive/2조/datasets/전처리/train_inout_merge_random_state2045.csv')\n",
        "test.to_csv('/content/drive/MyDrive/2조/datasets/전처리/test_inout_merge_random_state2045.csv')"
      ],
      "execution_count": null,
      "outputs": []
    },
    {
      "cell_type": "markdown",
      "metadata": {
        "id": "ObRuRzgA81Rn"
      },
      "source": [
        "# RandomforestRefressor"
      ]
    },
    {
      "cell_type": "code",
      "metadata": {
        "id": "Vlb3OnG7B0pb"
      },
      "source": [
        "import pandas as pd\n",
        "\n",
        "train=pd.read_csv('/content/drive/MyDrive/2조/datasets/전처리/train_inout_merge_random_state2045.csv')\n",
        "test=pd.read_csv('/content/drive/MyDrive/2조/datasets/전처리/test_inout_merge_random_state2045.csv')"
      ],
      "execution_count": null,
      "outputs": []
    },
    {
      "cell_type": "code",
      "metadata": {
        "id": "Jwn6_671FQWv"
      },
      "source": [
        "train.drop(columns=['Unnamed: 0'],inplace=True)\n",
        "test.drop(columns=['Unnamed: 0'],inplace=True)"
      ],
      "execution_count": null,
      "outputs": []
    },
    {
      "cell_type": "code",
      "metadata": {
        "colab": {
          "base_uri": "https://localhost:8080/"
        },
        "id": "M6EshMKcDBDv",
        "outputId": "8cc78de4-0c7d-4690-bd74-4da75e57943a"
      },
      "source": [
        "import sklearn\n",
        "sklearn.metrics.SCORERS.keys()"
      ],
      "execution_count": null,
      "outputs": [
        {
          "output_type": "execute_result",
          "data": {
            "text/plain": [
              "dict_keys(['explained_variance', 'r2', 'max_error', 'neg_median_absolute_error', 'neg_mean_absolute_error', 'neg_mean_squared_error', 'neg_mean_squared_log_error', 'neg_root_mean_squared_error', 'neg_mean_poisson_deviance', 'neg_mean_gamma_deviance', 'accuracy', 'roc_auc', 'roc_auc_ovr', 'roc_auc_ovo', 'roc_auc_ovr_weighted', 'roc_auc_ovo_weighted', 'balanced_accuracy', 'average_precision', 'neg_log_loss', 'neg_brier_score', 'adjusted_rand_score', 'homogeneity_score', 'completeness_score', 'v_measure_score', 'mutual_info_score', 'adjusted_mutual_info_score', 'normalized_mutual_info_score', 'fowlkes_mallows_score', 'precision', 'precision_macro', 'precision_micro', 'precision_samples', 'precision_weighted', 'recall', 'recall_macro', 'recall_micro', 'recall_samples', 'recall_weighted', 'f1', 'f1_macro', 'f1_micro', 'f1_samples', 'f1_weighted', 'jaccard', 'jaccard_macro', 'jaccard_micro', 'jaccard_samples', 'jaccard_weighted'])"
            ]
          },
          "metadata": {},
          "execution_count": 26
        }
      ]
    },
    {
      "cell_type": "markdown",
      "metadata": {
        "id": "eiyLtOKiPK5a"
      },
      "source": [
        "## all_columns"
      ]
    },
    {
      "cell_type": "code",
      "metadata": {
        "id": "UOzRCXJ2IaQI"
      },
      "source": [
        "X_train=train.drop(columns=['price'])\n",
        "y_train=train['price']"
      ],
      "execution_count": null,
      "outputs": []
    },
    {
      "cell_type": "code",
      "metadata": {
        "id": "ku2GdpKg58Gl"
      },
      "source": [
        "from sklearn.ensemble import RandomForestRegressor\n",
        "from sklearn.model_selection import cross_val_score\n",
        "\n",
        "RF=RandomForestRegressor(random_state=2045)\n",
        "\n",
        "scores=cross_val_score(RF,\n",
        "                       X_train,\n",
        "                       y_train,\n",
        "                       scoring='neg_mean_squared_error',\n",
        "                       cv=5)\n"
      ],
      "execution_count": null,
      "outputs": []
    },
    {
      "cell_type": "code",
      "metadata": {
        "colab": {
          "base_uri": "https://localhost:8080/"
        },
        "id": "ACjKK4E-BqEH",
        "outputId": "209f4ab0-81d5-4ea1-c56b-e31796bd0c6c"
      },
      "source": [
        "import numpy as np\n",
        "np.sqrt(-scores.mean())"
      ],
      "execution_count": null,
      "outputs": [
        {
          "output_type": "execute_result",
          "data": {
            "text/plain": [
              "1550.5531456678582"
            ]
          },
          "metadata": {},
          "execution_count": 45
        }
      ]
    },
    {
      "cell_type": "markdown",
      "metadata": {
        "id": "Vk3VPy_DQBiI"
      },
      "source": [
        "### feature importance"
      ]
    },
    {
      "cell_type": "code",
      "metadata": {
        "colab": {
          "base_uri": "https://localhost:8080/"
        },
        "id": "yR4EgWSiPEiG",
        "outputId": "e8b20be3-f342-4f39-ae02-6654348e9612"
      },
      "source": [
        "!pip install eli5"
      ],
      "execution_count": null,
      "outputs": [
        {
          "output_type": "stream",
          "name": "stdout",
          "text": [
            "Collecting eli5\n",
            "  Downloading eli5-0.11.0-py2.py3-none-any.whl (106 kB)\n",
            "\u001b[?25l\r\u001b[K     |███                             | 10 kB 24.9 MB/s eta 0:00:01\r\u001b[K     |██████▏                         | 20 kB 30.4 MB/s eta 0:00:01\r\u001b[K     |█████████▎                      | 30 kB 34.3 MB/s eta 0:00:01\r\u001b[K     |████████████▍                   | 40 kB 35.7 MB/s eta 0:00:01\r\u001b[K     |███████████████▌                | 51 kB 30.5 MB/s eta 0:00:01\r\u001b[K     |██████████████████▌             | 61 kB 25.2 MB/s eta 0:00:01\r\u001b[K     |█████████████████████▋          | 71 kB 24.8 MB/s eta 0:00:01\r\u001b[K     |████████████████████████▊       | 81 kB 26.4 MB/s eta 0:00:01\r\u001b[K     |███████████████████████████▉    | 92 kB 27.5 MB/s eta 0:00:01\r\u001b[K     |███████████████████████████████ | 102 kB 29.2 MB/s eta 0:00:01\r\u001b[K     |████████████████████████████████| 106 kB 29.2 MB/s \n",
            "\u001b[?25hRequirement already satisfied: attrs>16.0.0 in /usr/local/lib/python3.7/dist-packages (from eli5) (21.2.0)\n",
            "Requirement already satisfied: scikit-learn>=0.20 in /usr/local/lib/python3.7/dist-packages (from eli5) (0.22.2.post1)\n",
            "Requirement already satisfied: graphviz in /usr/local/lib/python3.7/dist-packages (from eli5) (0.10.1)\n",
            "Requirement already satisfied: tabulate>=0.7.7 in /usr/local/lib/python3.7/dist-packages (from eli5) (0.8.9)\n",
            "Requirement already satisfied: numpy>=1.9.0 in /usr/local/lib/python3.7/dist-packages (from eli5) (1.19.5)\n",
            "Requirement already satisfied: six in /usr/local/lib/python3.7/dist-packages (from eli5) (1.15.0)\n",
            "Requirement already satisfied: jinja2 in /usr/local/lib/python3.7/dist-packages (from eli5) (2.11.3)\n",
            "Requirement already satisfied: scipy in /usr/local/lib/python3.7/dist-packages (from eli5) (1.4.1)\n",
            "Requirement already satisfied: joblib>=0.11 in /usr/local/lib/python3.7/dist-packages (from scikit-learn>=0.20->eli5) (1.0.1)\n",
            "Requirement already satisfied: MarkupSafe>=0.23 in /usr/local/lib/python3.7/dist-packages (from jinja2->eli5) (2.0.1)\n",
            "Installing collected packages: eli5\n",
            "Successfully installed eli5-0.11.0\n"
          ]
        }
      ]
    },
    {
      "cell_type": "code",
      "metadata": {
        "id": "tD2aANDJUNJb"
      },
      "source": [
        "X_test=test.drop(columns=['price'])\n",
        "y=test['price']"
      ],
      "execution_count": null,
      "outputs": []
    },
    {
      "cell_type": "code",
      "metadata": {
        "colab": {
          "base_uri": "https://localhost:8080/",
          "height": 255
        },
        "id": "DHTRldEDQFAr",
        "outputId": "3a7c27d4-e28e-4f57-d456-e65365792ada"
      },
      "source": [
        "import eli5 \n",
        "from eli5.sklearn import PermutationImportance \n",
        "\n",
        "RF=RandomForestRegressor(random_state=2045)\n",
        "RF.fit(X_train, y_train)\n",
        "\n",
        "perm = PermutationImportance(RF, scoring = \"neg_mean_squared_error\", random_state = 2045).fit(X_test, y) \n",
        "eli5.show_weights(perm, top = 20, feature_names = X_test.columns.tolist())"
      ],
      "execution_count": null,
      "outputs": [
        {
          "output_type": "execute_result",
          "data": {
            "text/html": [
              "\n",
              "    <style>\n",
              "    table.eli5-weights tr:hover {\n",
              "        filter: brightness(85%);\n",
              "    }\n",
              "</style>\n",
              "\n",
              "\n",
              "\n",
              "    \n",
              "\n",
              "    \n",
              "\n",
              "    \n",
              "\n",
              "    \n",
              "\n",
              "    \n",
              "\n",
              "    \n",
              "\n",
              "\n",
              "    \n",
              "\n",
              "    \n",
              "\n",
              "    \n",
              "\n",
              "    \n",
              "\n",
              "    \n",
              "\n",
              "    \n",
              "\n",
              "\n",
              "    \n",
              "\n",
              "    \n",
              "\n",
              "    \n",
              "\n",
              "    \n",
              "\n",
              "    \n",
              "        <table class=\"eli5-weights eli5-feature-importances\" style=\"border-collapse: collapse; border: none; margin-top: 0em; table-layout: auto;\">\n",
              "    <thead>\n",
              "    <tr style=\"border: none;\">\n",
              "        <th style=\"padding: 0 1em 0 0.5em; text-align: right; border: none;\">Weight</th>\n",
              "        <th style=\"padding: 0 0.5em 0 0.5em; text-align: left; border: none;\">Feature</th>\n",
              "    </tr>\n",
              "    </thead>\n",
              "    <tbody>\n",
              "    \n",
              "        <tr style=\"background-color: hsl(120, 100.00%, 89.79%); border: none;\">\n",
              "            <td style=\"padding: 0 1em 0 0.5em; text-align: right; border: none;\">\n",
              "                608112.5868\n",
              "                \n",
              "                    &plusmn; 307798.9171\n",
              "                \n",
              "            </td>\n",
              "            <td style=\"padding: 0 0.5em 0 0.5em; text-align: left; border: none;\">\n",
              "                kind\n",
              "            </td>\n",
              "        </tr>\n",
              "    \n",
              "        <tr style=\"background-color: hsl(120, 100.00%, 96.63%); border: none;\">\n",
              "            <td style=\"padding: 0 1em 0 0.5em; text-align: right; border: none;\">\n",
              "                124697.5550\n",
              "                \n",
              "                    &plusmn; 252446.4144\n",
              "                \n",
              "            </td>\n",
              "            <td style=\"padding: 0 0.5em 0 0.5em; text-align: left; border: none;\">\n",
              "                market\n",
              "            </td>\n",
              "        </tr>\n",
              "    \n",
              "        <tr style=\"background-color: hsl(0, 100.00%, 98.22%); border: none;\">\n",
              "            <td style=\"padding: 0 1em 0 0.5em; text-align: right; border: none;\">\n",
              "                -50193.3434\n",
              "                \n",
              "                    &plusmn; 247196.2815\n",
              "                \n",
              "            </td>\n",
              "            <td style=\"padding: 0 0.5em 0 0.5em; text-align: left; border: none;\">\n",
              "                area\n",
              "            </td>\n",
              "        </tr>\n",
              "    \n",
              "        <tr style=\"background-color: hsl(0, 100.00%, 97.10%); border: none;\">\n",
              "            <td style=\"padding: 0 1em 0 0.5em; text-align: right; border: none;\">\n",
              "                -100906.0718\n",
              "                \n",
              "                    &plusmn; 136738.9520\n",
              "                \n",
              "            </td>\n",
              "            <td style=\"padding: 0 0.5em 0 0.5em; text-align: left; border: none;\">\n",
              "                wide\n",
              "            </td>\n",
              "        </tr>\n",
              "    \n",
              "        <tr style=\"background-color: hsl(0, 100.00%, 97.07%); border: none;\">\n",
              "            <td style=\"padding: 0 1em 0 0.5em; text-align: right; border: none;\">\n",
              "                -101984.6233\n",
              "                \n",
              "                    &plusmn; 180151.5078\n",
              "                \n",
              "            </td>\n",
              "            <td style=\"padding: 0 0.5em 0 0.5em; text-align: left; border: none;\">\n",
              "                city\n",
              "            </td>\n",
              "        </tr>\n",
              "    \n",
              "        <tr style=\"background-color: hsl(0, 100.00%, 96.26%); border: none;\">\n",
              "            <td style=\"padding: 0 1em 0 0.5em; text-align: right; border: none;\">\n",
              "                -144631.4897\n",
              "                \n",
              "                    &plusmn; 1275071.5152\n",
              "                \n",
              "            </td>\n",
              "            <td style=\"padding: 0 0.5em 0 0.5em; text-align: left; border: none;\">\n",
              "                ratio\n",
              "            </td>\n",
              "        </tr>\n",
              "    \n",
              "        <tr style=\"background-color: hsl(0, 100.00%, 95.98%); border: none;\">\n",
              "            <td style=\"padding: 0 1em 0 0.5em; text-align: right; border: none;\">\n",
              "                -160262.2501\n",
              "                \n",
              "                    &plusmn; 390147.3174\n",
              "                \n",
              "            </td>\n",
              "            <td style=\"padding: 0 0.5em 0 0.5em; text-align: left; border: none;\">\n",
              "                amount\n",
              "            </td>\n",
              "        </tr>\n",
              "    \n",
              "        <tr style=\"background-color: hsl(0, 100.00%, 93.96%); border: none;\">\n",
              "            <td style=\"padding: 0 1em 0 0.5em; text-align: right; border: none;\">\n",
              "                -287372.6764\n",
              "                \n",
              "                    &plusmn; 905438.9731\n",
              "                \n",
              "            </td>\n",
              "            <td style=\"padding: 0 0.5em 0 0.5em; text-align: left; border: none;\">\n",
              "                weather\n",
              "            </td>\n",
              "        </tr>\n",
              "    \n",
              "        <tr style=\"background-color: hsl(0, 100.00%, 93.16%); border: none;\">\n",
              "            <td style=\"padding: 0 1em 0 0.5em; text-align: right; border: none;\">\n",
              "                -343135.3837\n",
              "                \n",
              "                    &plusmn; 281442.7596\n",
              "                \n",
              "            </td>\n",
              "            <td style=\"padding: 0 0.5em 0 0.5em; text-align: left; border: none;\">\n",
              "                year\n",
              "            </td>\n",
              "        </tr>\n",
              "    \n",
              "        <tr style=\"background-color: hsl(0, 100.00%, 88.16%); border: none;\">\n",
              "            <td style=\"padding: 0 1em 0 0.5em; text-align: right; border: none;\">\n",
              "                -751312.6208\n",
              "                \n",
              "                    &plusmn; 903721.9178\n",
              "                \n",
              "            </td>\n",
              "            <td style=\"padding: 0 0.5em 0 0.5em; text-align: left; border: none;\">\n",
              "                inn\n",
              "            </td>\n",
              "        </tr>\n",
              "    \n",
              "        <tr style=\"background-color: hsl(0, 100.00%, 84.38%); border: none;\">\n",
              "            <td style=\"padding: 0 1em 0 0.5em; text-align: right; border: none;\">\n",
              "                -1115961.5436\n",
              "                \n",
              "                    &plusmn; 1078782.1519\n",
              "                \n",
              "            </td>\n",
              "            <td style=\"padding: 0 0.5em 0 0.5em; text-align: left; border: none;\">\n",
              "                out\n",
              "            </td>\n",
              "        </tr>\n",
              "    \n",
              "        <tr style=\"background-color: hsl(0, 100.00%, 83.97%); border: none;\">\n",
              "            <td style=\"padding: 0 1em 0 0.5em; text-align: right; border: none;\">\n",
              "                -1158183.5117\n",
              "                \n",
              "                    &plusmn; 705028.2823\n",
              "                \n",
              "            </td>\n",
              "            <td style=\"padding: 0 0.5em 0 0.5em; text-align: left; border: none;\">\n",
              "                corp\n",
              "            </td>\n",
              "        </tr>\n",
              "    \n",
              "        <tr style=\"background-color: hsl(0, 100.00%, 80.00%); border: none;\">\n",
              "            <td style=\"padding: 0 1em 0 0.5em; text-align: right; border: none;\">\n",
              "                -1588374.6185\n",
              "                \n",
              "                    &plusmn; 208532.8562\n",
              "                \n",
              "            </td>\n",
              "            <td style=\"padding: 0 0.5em 0 0.5em; text-align: left; border: none;\">\n",
              "                month\n",
              "            </td>\n",
              "        </tr>\n",
              "    \n",
              "    \n",
              "    </tbody>\n",
              "</table>\n",
              "    \n",
              "\n",
              "    \n",
              "\n",
              "\n",
              "    \n",
              "\n",
              "    \n",
              "\n",
              "    \n",
              "\n",
              "    \n",
              "\n",
              "    \n",
              "\n",
              "    \n",
              "\n",
              "\n",
              "\n"
            ],
            "text/plain": [
              "<IPython.core.display.HTML object>"
            ]
          },
          "metadata": {},
          "execution_count": 42
        }
      ]
    },
    {
      "cell_type": "markdown",
      "metadata": {
        "id": "2SwFOamLPXG2"
      },
      "source": [
        "## wide, year 제외"
      ]
    },
    {
      "cell_type": "code",
      "metadata": {
        "id": "7NTivoexNmkc"
      },
      "source": [
        "X_train=train.drop(columns=['price','wide','year'])\n",
        "y_train=train['price']"
      ],
      "execution_count": null,
      "outputs": []
    },
    {
      "cell_type": "code",
      "metadata": {
        "id": "DDEFqpVEPmqx"
      },
      "source": [
        "from sklearn.ensemble import RandomForestRegressor\n",
        "from sklearn.model_selection import cross_val_score\n",
        "\n",
        "RF=RandomForestRegressor(random_state=2045)\n",
        "\n",
        "scores=cross_val_score(RF,\n",
        "                       X_train,\n",
        "                       y_train,\n",
        "                       scoring='neg_mean_squared_error',\n",
        "                       cv=5)\n"
      ],
      "execution_count": null,
      "outputs": []
    },
    {
      "cell_type": "code",
      "metadata": {
        "colab": {
          "base_uri": "https://localhost:8080/"
        },
        "id": "fHJ1X8iQQBsI",
        "outputId": "bea5d907-f9b2-4527-cfb5-6d0f4f131185"
      },
      "source": [
        "import numpy as np\n",
        "np.sqrt(-scores.mean())"
      ],
      "execution_count": null,
      "outputs": [
        {
          "output_type": "execute_result",
          "data": {
            "text/plain": [
              "1539.9604646868706"
            ]
          },
          "metadata": {},
          "execution_count": 59
        }
      ]
    },
    {
      "cell_type": "code",
      "metadata": {
        "id": "v-KzcigdUOg0"
      },
      "source": [
        "X_train=train.drop(columns=['price','wide','year'])\n",
        "y_train=train['price']"
      ],
      "execution_count": null,
      "outputs": []
    },
    {
      "cell_type": "code",
      "metadata": {
        "colab": {
          "base_uri": "https://localhost:8080/"
        },
        "id": "D4l0FJK2UW-u",
        "outputId": "5a361221-3de0-4581-c1db-4a012b27c35c"
      },
      "source": [
        "RF=RandomForestRegressor(random_state=2045)\n",
        "RF.fit(X_train, y_train)"
      ],
      "execution_count": null,
      "outputs": [
        {
          "output_type": "execute_result",
          "data": {
            "text/plain": [
              "RandomForestRegressor(bootstrap=True, ccp_alpha=0.0, criterion='mse',\n",
              "                      max_depth=None, max_features='auto', max_leaf_nodes=None,\n",
              "                      max_samples=None, min_impurity_decrease=0.0,\n",
              "                      min_impurity_split=None, min_samples_leaf=1,\n",
              "                      min_samples_split=2, min_weight_fraction_leaf=0.0,\n",
              "                      n_estimators=100, n_jobs=None, oob_score=False,\n",
              "                      random_state=2045, verbose=0, warm_start=False)"
            ]
          },
          "metadata": {},
          "execution_count": 34
        }
      ]
    },
    {
      "cell_type": "code",
      "metadata": {
        "id": "_Ni6-WULUW9D"
      },
      "source": [
        "X_test=test.drop(columns=['price','wide','year'])\n",
        "y=test['price']\n",
        "\n",
        "yhat=RF.predict(X_test)"
      ],
      "execution_count": null,
      "outputs": []
    },
    {
      "cell_type": "code",
      "metadata": {
        "colab": {
          "base_uri": "https://localhost:8080/"
        },
        "id": "qK5IIfOEUwGs",
        "outputId": "19ca5e4c-bc9b-473e-9468-4ce7976b8b8c"
      },
      "source": [
        "from sklearn.metrics import mean_squared_error\n",
        "import numpy as np\n",
        "\n",
        "mse = mean_squared_error(y, yhat)\n",
        "np.sqrt(mse)"
      ],
      "execution_count": null,
      "outputs": [
        {
          "output_type": "execute_result",
          "data": {
            "text/plain": [
              "1468.2843044937122"
            ]
          },
          "metadata": {},
          "execution_count": 79
        }
      ]
    },
    {
      "cell_type": "markdown",
      "metadata": {
        "id": "a7-lpTsVPsDU"
      },
      "source": [
        "### feature importance"
      ]
    },
    {
      "cell_type": "code",
      "metadata": {
        "id": "cOMzORv4QaYd",
        "colab": {
          "base_uri": "https://localhost:8080/",
          "height": 221
        },
        "outputId": "320b50fa-d666-4383-e4c1-1f3aa6872cc3"
      },
      "source": [
        "import eli5 \n",
        "from eli5.sklearn import PermutationImportance \n",
        "\n",
        "perm = PermutationImportance(RF, scoring = \"neg_mean_squared_error\", random_state = 2045).fit(X_test, y) \n",
        "eli5.show_weights(perm, top = 20, feature_names = X_test.columns.tolist())"
      ],
      "execution_count": null,
      "outputs": [
        {
          "output_type": "execute_result",
          "data": {
            "text/html": [
              "\n",
              "    <style>\n",
              "    table.eli5-weights tr:hover {\n",
              "        filter: brightness(85%);\n",
              "    }\n",
              "</style>\n",
              "\n",
              "\n",
              "\n",
              "    \n",
              "\n",
              "    \n",
              "\n",
              "    \n",
              "\n",
              "    \n",
              "\n",
              "    \n",
              "\n",
              "    \n",
              "\n",
              "\n",
              "    \n",
              "\n",
              "    \n",
              "\n",
              "    \n",
              "\n",
              "    \n",
              "\n",
              "    \n",
              "\n",
              "    \n",
              "\n",
              "\n",
              "    \n",
              "\n",
              "    \n",
              "\n",
              "    \n",
              "\n",
              "    \n",
              "\n",
              "    \n",
              "        <table class=\"eli5-weights eli5-feature-importances\" style=\"border-collapse: collapse; border: none; margin-top: 0em; table-layout: auto;\">\n",
              "    <thead>\n",
              "    <tr style=\"border: none;\">\n",
              "        <th style=\"padding: 0 1em 0 0.5em; text-align: right; border: none;\">Weight</th>\n",
              "        <th style=\"padding: 0 0.5em 0 0.5em; text-align: left; border: none;\">Feature</th>\n",
              "    </tr>\n",
              "    </thead>\n",
              "    <tbody>\n",
              "    \n",
              "        <tr style=\"background-color: hsl(120, 100.00%, 88.56%); border: none;\">\n",
              "            <td style=\"padding: 0 1em 0 0.5em; text-align: right; border: none;\">\n",
              "                634305.3036\n",
              "                \n",
              "                    &plusmn; 220218.9223\n",
              "                \n",
              "            </td>\n",
              "            <td style=\"padding: 0 0.5em 0 0.5em; text-align: left; border: none;\">\n",
              "                kind\n",
              "            </td>\n",
              "        </tr>\n",
              "    \n",
              "        <tr style=\"background-color: hsl(120, 100.00%, 94.71%); border: none;\">\n",
              "            <td style=\"padding: 0 1em 0 0.5em; text-align: right; border: none;\">\n",
              "                210559.1303\n",
              "                \n",
              "                    &plusmn; 186126.7070\n",
              "                \n",
              "            </td>\n",
              "            <td style=\"padding: 0 0.5em 0 0.5em; text-align: left; border: none;\">\n",
              "                market\n",
              "            </td>\n",
              "        </tr>\n",
              "    \n",
              "        <tr style=\"background-color: hsl(120, 100.00%, 95.41%); border: none;\">\n",
              "            <td style=\"padding: 0 1em 0 0.5em; text-align: right; border: none;\">\n",
              "                172016.1803\n",
              "                \n",
              "                    &plusmn; 775311.1162\n",
              "                \n",
              "            </td>\n",
              "            <td style=\"padding: 0 0.5em 0 0.5em; text-align: left; border: none;\">\n",
              "                area\n",
              "            </td>\n",
              "        </tr>\n",
              "    \n",
              "        <tr style=\"background-color: hsl(120, 100.00%, 96.78%); border: none;\">\n",
              "            <td style=\"padding: 0 1em 0 0.5em; text-align: right; border: none;\">\n",
              "                103513.1237\n",
              "                \n",
              "                    &plusmn; 164374.9772\n",
              "                \n",
              "            </td>\n",
              "            <td style=\"padding: 0 0.5em 0 0.5em; text-align: left; border: none;\">\n",
              "                city\n",
              "            </td>\n",
              "        </tr>\n",
              "    \n",
              "        <tr style=\"background-color: hsl(120, 100.00%, 98.54%); border: none;\">\n",
              "            <td style=\"padding: 0 1em 0 0.5em; text-align: right; border: none;\">\n",
              "                33385.5439\n",
              "                \n",
              "                    &plusmn; 437359.8471\n",
              "                \n",
              "            </td>\n",
              "            <td style=\"padding: 0 0.5em 0 0.5em; text-align: left; border: none;\">\n",
              "                weather\n",
              "            </td>\n",
              "        </tr>\n",
              "    \n",
              "        <tr style=\"background-color: hsl(0, 100.00%, 99.91%); border: none;\">\n",
              "            <td style=\"padding: 0 1em 0 0.5em; text-align: right; border: none;\">\n",
              "                -611.9620\n",
              "                \n",
              "                    &plusmn; 85721.8780\n",
              "                \n",
              "            </td>\n",
              "            <td style=\"padding: 0 0.5em 0 0.5em; text-align: left; border: none;\">\n",
              "                amount\n",
              "            </td>\n",
              "        </tr>\n",
              "    \n",
              "        <tr style=\"background-color: hsl(0, 100.00%, 94.37%); border: none;\">\n",
              "            <td style=\"padding: 0 1em 0 0.5em; text-align: right; border: none;\">\n",
              "                -230603.2724\n",
              "                \n",
              "                    &plusmn; 908766.9952\n",
              "                \n",
              "            </td>\n",
              "            <td style=\"padding: 0 0.5em 0 0.5em; text-align: left; border: none;\">\n",
              "                ratio\n",
              "            </td>\n",
              "        </tr>\n",
              "    \n",
              "        <tr style=\"background-color: hsl(0, 100.00%, 87.39%); border: none;\">\n",
              "            <td style=\"padding: 0 1em 0 0.5em; text-align: right; border: none;\">\n",
              "                -728949.5831\n",
              "                \n",
              "                    &plusmn; 1266375.6981\n",
              "                \n",
              "            </td>\n",
              "            <td style=\"padding: 0 0.5em 0 0.5em; text-align: left; border: none;\">\n",
              "                corp\n",
              "            </td>\n",
              "        </tr>\n",
              "    \n",
              "        <tr style=\"background-color: hsl(0, 100.00%, 85.55%); border: none;\">\n",
              "            <td style=\"padding: 0 1em 0 0.5em; text-align: right; border: none;\">\n",
              "                -885280.7917\n",
              "                \n",
              "                    &plusmn; 551825.3842\n",
              "                \n",
              "            </td>\n",
              "            <td style=\"padding: 0 0.5em 0 0.5em; text-align: left; border: none;\">\n",
              "                out\n",
              "            </td>\n",
              "        </tr>\n",
              "    \n",
              "        <tr style=\"background-color: hsl(0, 100.00%, 84.71%); border: none;\">\n",
              "            <td style=\"padding: 0 1em 0 0.5em; text-align: right; border: none;\">\n",
              "                -960493.4825\n",
              "                \n",
              "                    &plusmn; 1021839.4594\n",
              "                \n",
              "            </td>\n",
              "            <td style=\"padding: 0 0.5em 0 0.5em; text-align: left; border: none;\">\n",
              "                inn\n",
              "            </td>\n",
              "        </tr>\n",
              "    \n",
              "        <tr style=\"background-color: hsl(0, 100.00%, 80.00%); border: none;\">\n",
              "            <td style=\"padding: 0 1em 0 0.5em; text-align: right; border: none;\">\n",
              "                -1409097.0733\n",
              "                \n",
              "                    &plusmn; 131619.7397\n",
              "                \n",
              "            </td>\n",
              "            <td style=\"padding: 0 0.5em 0 0.5em; text-align: left; border: none;\">\n",
              "                month\n",
              "            </td>\n",
              "        </tr>\n",
              "    \n",
              "    \n",
              "    </tbody>\n",
              "</table>\n",
              "    \n",
              "\n",
              "    \n",
              "\n",
              "\n",
              "    \n",
              "\n",
              "    \n",
              "\n",
              "    \n",
              "\n",
              "    \n",
              "\n",
              "    \n",
              "\n",
              "    \n",
              "\n",
              "\n",
              "\n"
            ],
            "text/plain": [
              "<IPython.core.display.HTML object>"
            ]
          },
          "metadata": {},
          "execution_count": 36
        }
      ]
    },
    {
      "cell_type": "markdown",
      "metadata": {
        "id": "jsi0jbQTVGzx"
      },
      "source": [
        "# XGBRegressor"
      ]
    },
    {
      "cell_type": "code",
      "metadata": {
        "id": "lXE2niKWVkly"
      },
      "source": [
        "import pandas as pd\n",
        "\n",
        "train=pd.read_csv('/content/drive/MyDrive/2조/datasets/전처리/train_inout_merge_random_state2045.csv')\n",
        "test=pd.read_csv('/content/drive/MyDrive/2조/datasets/전처리/test_inout_merge_random_state2045.csv')\n",
        "\n",
        "train.drop(columns=['Unnamed: 0'],inplace=True)\n",
        "test.drop(columns=['Unnamed: 0'],inplace=True)"
      ],
      "execution_count": null,
      "outputs": []
    },
    {
      "cell_type": "markdown",
      "metadata": {
        "id": "S0bleYRLV_sT"
      },
      "source": [
        "## all_columns"
      ]
    },
    {
      "cell_type": "code",
      "metadata": {
        "id": "lFgarITOWmI2"
      },
      "source": [
        "X_train=train.drop(columns=['price'])\n",
        "y_train=train['price']"
      ],
      "execution_count": null,
      "outputs": []
    },
    {
      "cell_type": "code",
      "metadata": {
        "id": "CpxUIRU5VGqY"
      },
      "source": [
        "from xgboost import XGBRegressor\n",
        "from sklearn.model_selection import cross_val_score\n",
        "\n",
        "XGB=XGBRegressor(objective='reg:squarederror', random_state=2045)\n",
        "\n",
        "scores=cross_val_score(XGB,\n",
        "                       X_train,\n",
        "                       y_train,\n",
        "                       scoring='neg_mean_squared_error',\n",
        "                       cv=5)"
      ],
      "execution_count": null,
      "outputs": []
    },
    {
      "cell_type": "code",
      "metadata": {
        "id": "FTL_zH8GVGUX",
        "colab": {
          "base_uri": "https://localhost:8080/"
        },
        "outputId": "1f6c0490-293c-4959-915c-a1045f67ea5a"
      },
      "source": [
        "import numpy as np\n",
        "np.sqrt(-scores.mean())"
      ],
      "execution_count": null,
      "outputs": [
        {
          "output_type": "execute_result",
          "data": {
            "text/plain": [
              "1507.9034266881092"
            ]
          },
          "metadata": {},
          "execution_count": 14
        }
      ]
    },
    {
      "cell_type": "markdown",
      "metadata": {
        "id": "id-yieuRMotC"
      },
      "source": [
        "### feature importance"
      ]
    },
    {
      "cell_type": "markdown",
      "metadata": {
        "id": "E2DQ_uhiWzBU"
      },
      "source": [
        "#### plot importance"
      ]
    },
    {
      "cell_type": "code",
      "metadata": {
        "colab": {
          "base_uri": "https://localhost:8080/",
          "height": 910
        },
        "id": "g9V-D8d3MtZj",
        "outputId": "44cbc467-07d0-40dd-cb2b-fe6ba19516b1"
      },
      "source": [
        "from xgboost import plot_importance\n",
        "\n",
        "XGB = XGBRegressor(objective='reg:squarederror',random_state=2045)\n",
        "XGB.fit(X_train, y_train)\n",
        "\n",
        "plot_importance(XGB, importance_type='gain', title='gain', xlabel='', grid=False)\n",
        "plot_importance(XGB, importance_type='cover', title='cover', xlabel='', grid=False)\n",
        "plot_importance(XGB, importance_type='weight', title='weight', xlabel='', grid=False)"
      ],
      "execution_count": null,
      "outputs": [
        {
          "output_type": "execute_result",
          "data": {
            "text/plain": [
              "<matplotlib.axes._subplots.AxesSubplot at 0x7f2219b39ed0>"
            ]
          },
          "metadata": {},
          "execution_count": 50
        },
        {
          "output_type": "display_data",
          "data": {
            "image/png": "[encoded data removed]",
            "text/plain": [
              "<Figure size 432x288 with 1 Axes>"
            ]
          },
          "metadata": {
            "image/png": {
              "width": 584,
              "height": 303
            }
          }
        },
        {
          "output_type": "display_data",
          "data": {
            "image/png": "[encoded data removed]",
            "text/plain": [
              "<Figure size 432x288 with 1 Axes>"
            ]
          },
          "metadata": {
            "image/png": {
              "width": 592,
              "height": 286
            }
          }
        },
        {
          "output_type": "display_data",
          "data": {
            "image/png": "[encoded data removed]",
            "text/plain": [
              "<Figure size 432x288 with 1 Axes>"
            ]
          },
          "metadata": {
            "image/png": {
              "width": 471,
              "height": 286
            }
          }
        }
      ]
    },
    {
      "cell_type": "markdown",
      "metadata": {
        "id": "LifYqqvTW4E6"
      },
      "source": [
        "#### permutation importance"
      ]
    },
    {
      "cell_type": "code",
      "metadata": {
        "id": "b5Ynufc8WwxB"
      },
      "source": [
        "X_test=test.drop(columns=['price'])\n",
        "y=test['price']"
      ],
      "execution_count": null,
      "outputs": []
    },
    {
      "cell_type": "code",
      "metadata": {
        "colab": {
          "base_uri": "https://localhost:8080/",
          "height": 255
        },
        "id": "CmvOAxSoV1F8",
        "outputId": "4b95f381-088e-40b1-edba-de387d10023c"
      },
      "source": [
        "import eli5 \n",
        "from eli5.sklearn import PermutationImportance \n",
        "\n",
        "XGB = XGBRegressor(objective='reg:squarederror',random_state=2045)\n",
        "XGB.fit(X_train, y_train)\n",
        "\n",
        "perm = PermutationImportance(XGB, scoring = \"neg_mean_squared_error\", random_state = 2045).fit(X_test, y) \n",
        "eli5.show_weights(perm, top = 20, feature_names = X_test.columns.tolist())"
      ],
      "execution_count": null,
      "outputs": [
        {
          "output_type": "execute_result",
          "data": {
            "text/html": [
              "\n",
              "    <style>\n",
              "    table.eli5-weights tr:hover {\n",
              "        filter: brightness(85%);\n",
              "    }\n",
              "</style>\n",
              "\n",
              "\n",
              "\n",
              "    \n",
              "\n",
              "    \n",
              "\n",
              "    \n",
              "\n",
              "    \n",
              "\n",
              "    \n",
              "\n",
              "    \n",
              "\n",
              "\n",
              "    \n",
              "\n",
              "    \n",
              "\n",
              "    \n",
              "\n",
              "    \n",
              "\n",
              "    \n",
              "\n",
              "    \n",
              "\n",
              "\n",
              "    \n",
              "\n",
              "    \n",
              "\n",
              "    \n",
              "\n",
              "    \n",
              "\n",
              "    \n",
              "        <table class=\"eli5-weights eli5-feature-importances\" style=\"border-collapse: collapse; border: none; margin-top: 0em; table-layout: auto;\">\n",
              "    <thead>\n",
              "    <tr style=\"border: none;\">\n",
              "        <th style=\"padding: 0 1em 0 0.5em; text-align: right; border: none;\">Weight</th>\n",
              "        <th style=\"padding: 0 0.5em 0 0.5em; text-align: left; border: none;\">Feature</th>\n",
              "    </tr>\n",
              "    </thead>\n",
              "    <tbody>\n",
              "    \n",
              "        <tr style=\"background-color: hsl(120, 100.00%, 96.06%); border: none;\">\n",
              "            <td style=\"padding: 0 1em 0 0.5em; text-align: right; border: none;\">\n",
              "                21097.1126\n",
              "                \n",
              "                    &plusmn; 4368.3592\n",
              "                \n",
              "            </td>\n",
              "            <td style=\"padding: 0 0.5em 0 0.5em; text-align: left; border: none;\">\n",
              "                year\n",
              "            </td>\n",
              "        </tr>\n",
              "    \n",
              "        <tr style=\"background-color: hsl(120, 100.00%, 97.89%); border: none;\">\n",
              "            <td style=\"padding: 0 1em 0 0.5em; text-align: right; border: none;\">\n",
              "                8627.7636\n",
              "                \n",
              "                    &plusmn; 7453.0781\n",
              "                \n",
              "            </td>\n",
              "            <td style=\"padding: 0 0.5em 0 0.5em; text-align: left; border: none;\">\n",
              "                weather\n",
              "            </td>\n",
              "        </tr>\n",
              "    \n",
              "        <tr style=\"background-color: hsl(120, 100.00%, 98.39%); border: none;\">\n",
              "            <td style=\"padding: 0 1em 0 0.5em; text-align: right; border: none;\">\n",
              "                5888.1083\n",
              "                \n",
              "                    &plusmn; 16291.4707\n",
              "                \n",
              "            </td>\n",
              "            <td style=\"padding: 0 0.5em 0 0.5em; text-align: left; border: none;\">\n",
              "                kind\n",
              "            </td>\n",
              "        </tr>\n",
              "    \n",
              "        <tr style=\"background-color: hsl(120, 100.00%, 99.04%); border: none;\">\n",
              "            <td style=\"padding: 0 1em 0 0.5em; text-align: right; border: none;\">\n",
              "                2810.0691\n",
              "                \n",
              "                    &plusmn; 4812.2263\n",
              "                \n",
              "            </td>\n",
              "            <td style=\"padding: 0 0.5em 0 0.5em; text-align: left; border: none;\">\n",
              "                amount\n",
              "            </td>\n",
              "        </tr>\n",
              "    \n",
              "        <tr style=\"background-color: hsl(120, 100.00%, 99.35%); border: none;\">\n",
              "            <td style=\"padding: 0 1em 0 0.5em; text-align: right; border: none;\">\n",
              "                1618.6954\n",
              "                \n",
              "                    &plusmn; 5841.4577\n",
              "                \n",
              "            </td>\n",
              "            <td style=\"padding: 0 0.5em 0 0.5em; text-align: left; border: none;\">\n",
              "                ratio\n",
              "            </td>\n",
              "        </tr>\n",
              "    \n",
              "        <tr style=\"background-color: hsl(120, 100.00%, 99.35%); border: none;\">\n",
              "            <td style=\"padding: 0 1em 0 0.5em; text-align: right; border: none;\">\n",
              "                1606.1759\n",
              "                \n",
              "                    &plusmn; 567.5402\n",
              "                \n",
              "            </td>\n",
              "            <td style=\"padding: 0 0.5em 0 0.5em; text-align: left; border: none;\">\n",
              "                city\n",
              "            </td>\n",
              "        </tr>\n",
              "    \n",
              "        <tr style=\"background-color: hsl(120, 100.00%, 99.80%); border: none;\">\n",
              "            <td style=\"padding: 0 1em 0 0.5em; text-align: right; border: none;\">\n",
              "                293.8586\n",
              "                \n",
              "                    &plusmn; 860.4389\n",
              "                \n",
              "            </td>\n",
              "            <td style=\"padding: 0 0.5em 0 0.5em; text-align: left; border: none;\">\n",
              "                wide\n",
              "            </td>\n",
              "        </tr>\n",
              "    \n",
              "        <tr style=\"background-color: hsl(0, 100.00%, 98.88%); border: none;\">\n",
              "            <td style=\"padding: 0 1em 0 0.5em; text-align: right; border: none;\">\n",
              "                -3481.8837\n",
              "                \n",
              "                    &plusmn; 5839.6938\n",
              "                \n",
              "            </td>\n",
              "            <td style=\"padding: 0 0.5em 0 0.5em; text-align: left; border: none;\">\n",
              "                area\n",
              "            </td>\n",
              "        </tr>\n",
              "    \n",
              "        <tr style=\"background-color: hsl(0, 100.00%, 96.70%); border: none;\">\n",
              "            <td style=\"padding: 0 1em 0 0.5em; text-align: right; border: none;\">\n",
              "                -16334.7508\n",
              "                \n",
              "                    &plusmn; 6169.4224\n",
              "                \n",
              "            </td>\n",
              "            <td style=\"padding: 0 0.5em 0 0.5em; text-align: left; border: none;\">\n",
              "                market\n",
              "            </td>\n",
              "        </tr>\n",
              "    \n",
              "        <tr style=\"background-color: hsl(0, 100.00%, 92.85%); border: none;\">\n",
              "            <td style=\"padding: 0 1em 0 0.5em; text-align: right; border: none;\">\n",
              "                -49338.0593\n",
              "                \n",
              "                    &plusmn; 24113.0328\n",
              "                \n",
              "            </td>\n",
              "            <td style=\"padding: 0 0.5em 0 0.5em; text-align: left; border: none;\">\n",
              "                inn\n",
              "            </td>\n",
              "        </tr>\n",
              "    \n",
              "        <tr style=\"background-color: hsl(0, 100.00%, 83.33%); border: none;\">\n",
              "            <td style=\"padding: 0 1em 0 0.5em; text-align: right; border: none;\">\n",
              "                -165434.1842\n",
              "                \n",
              "                    &plusmn; 260011.9732\n",
              "                \n",
              "            </td>\n",
              "            <td style=\"padding: 0 0.5em 0 0.5em; text-align: left; border: none;\">\n",
              "                out\n",
              "            </td>\n",
              "        </tr>\n",
              "    \n",
              "        <tr style=\"background-color: hsl(0, 100.00%, 81.24%); border: none;\">\n",
              "            <td style=\"padding: 0 1em 0 0.5em; text-align: right; border: none;\">\n",
              "                -195926.6496\n",
              "                \n",
              "                    &plusmn; 21602.6419\n",
              "                \n",
              "            </td>\n",
              "            <td style=\"padding: 0 0.5em 0 0.5em; text-align: left; border: none;\">\n",
              "                month\n",
              "            </td>\n",
              "        </tr>\n",
              "    \n",
              "        <tr style=\"background-color: hsl(0, 100.00%, 80.00%); border: none;\">\n",
              "            <td style=\"padding: 0 1em 0 0.5em; text-align: right; border: none;\">\n",
              "                -214650.7808\n",
              "                \n",
              "                    &plusmn; 365290.0094\n",
              "                \n",
              "            </td>\n",
              "            <td style=\"padding: 0 0.5em 0 0.5em; text-align: left; border: none;\">\n",
              "                corp\n",
              "            </td>\n",
              "        </tr>\n",
              "    \n",
              "    \n",
              "    </tbody>\n",
              "</table>\n",
              "    \n",
              "\n",
              "    \n",
              "\n",
              "\n",
              "    \n",
              "\n",
              "    \n",
              "\n",
              "    \n",
              "\n",
              "    \n",
              "\n",
              "    \n",
              "\n",
              "    \n",
              "\n",
              "\n",
              "\n"
            ],
            "text/plain": [
              "<IPython.core.display.HTML object>"
            ]
          },
          "metadata": {},
          "execution_count": 47
        }
      ]
    },
    {
      "cell_type": "markdown",
      "metadata": {
        "id": "qyOfKPiQQ7nG"
      },
      "source": [
        "# OLS"
      ]
    },
    {
      "cell_type": "markdown",
      "metadata": {
        "id": "Qt8fWskSREyU"
      },
      "source": [
        "## all columns\n",
        "\n",
        "*   승연님 하신 거에서 whether column 추가\n",
        "\n"
      ]
    },
    {
      "cell_type": "code",
      "metadata": {
        "id": "ETsyfiBeQ9SM"
      },
      "source": [
        "import statsmodels.formula.api as smf\n",
        "\n",
        "OLS = smf.ols(formula = 'price ~ kind + market + corp + wide + city + year + month + area + ratio + amount + weather + inn + out',\n",
        "                data = train).fit()\n",
        "yhat = OLS.predict(test[['kind', 'market', 'corp', 'wide', 'city', 'year',\n",
        "                         'month', 'area', 'ratio', 'amount','weather', 'inn', 'out']])"
      ],
      "execution_count": null,
      "outputs": []
    },
    {
      "cell_type": "code",
      "metadata": {
        "colab": {
          "base_uri": "https://localhost:8080/"
        },
        "id": "bARxIQ6RRdbq",
        "outputId": "9377d58a-6e25-4728-d307-99220c8bec8a"
      },
      "source": [
        "from sklearn.metrics import mean_squared_error\n",
        "import numpy as np\n",
        "\n",
        "mse = mean_squared_error(test['price'], yhat)\n",
        "np.sqrt(mse)"
      ],
      "execution_count": null,
      "outputs": [
        {
          "output_type": "execute_result",
          "data": {
            "text/plain": [
              "263.2228124028964"
            ]
          },
          "metadata": {},
          "execution_count": 68
        }
      ]
    },
    {
      "cell_type": "markdown",
      "metadata": {
        "id": "o_mFboyTSi46"
      },
      "source": [
        "## wide, year 제외"
      ]
    },
    {
      "cell_type": "code",
      "metadata": {
        "id": "Km8RZKBdShNN"
      },
      "source": [
        "OLS2 = smf.ols(formula = 'price ~ kind + market + corp + city + month + area + ratio + amount + weather + inn + out',\n",
        "                data = train).fit()\n",
        "yhat2 = OLS2.predict(test[['kind', 'market', 'corp', 'city',\n",
        "                         'month', 'area', 'ratio', 'amount','weather', 'inn', 'out']])"
      ],
      "execution_count": null,
      "outputs": []
    },
    {
      "cell_type": "code",
      "metadata": {
        "colab": {
          "base_uri": "https://localhost:8080/"
        },
        "id": "kaBVk_8JSYI9",
        "outputId": "3e7b53b1-80c4-4e5e-a073-76189d12fc2a"
      },
      "source": [
        "mse2 = mean_squared_error(test['price'], yhat2)\n",
        "np.sqrt(mse2)"
      ],
      "execution_count": null,
      "outputs": [
        {
          "output_type": "execute_result",
          "data": {
            "text/plain": [
              "266.39639010394507"
            ]
          },
          "metadata": {},
          "execution_count": 78
        }
      ]
    }
  ]
}