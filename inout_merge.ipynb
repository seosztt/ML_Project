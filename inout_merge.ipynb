{
  "nbformat": 4,
  "nbformat_minor": 0,
  "metadata": {
    "colab": {
      "name": "inout_merge.ipynb",
      "provenance": [],
      "collapsed_sections": [
        "ObRuRzgA81Rn",
        "eiyLtOKiPK5a",
        "2SwFOamLPXG2",
        "a7-lpTsVPsDU",
        "jsi0jbQTVGzx",
        "S0bleYRLV_sT",
        "qyOfKPiQQ7nG",
        "Qt8fWskSREyU",
        "o_mFboyTSi46"
      ],
      "authorship_tag": "ABX9TyOqXRsDvd5YhFqLqXbpcbqB",
      "include_colab_link": true
    },
    "kernelspec": {
      "name": "python3",
      "display_name": "Python 3"
    },
    "language_info": {
      "name": "python"
    }
  },
  "cells": [
    {
      "cell_type": "markdown",
      "metadata": {
        "id": "view-in-github",
        "colab_type": "text"
      },
      "source": [
        "<a href=\"https://colab.research.google.com/github/seosztt/ML_Project/blob/master/inout_merge.ipynb\" target=\"_parent\"><img src=\"https://colab.research.google.com/assets/colab-badge.svg\" alt=\"Open In Colab\"/></a>"
      ]
    },
    {
      "cell_type": "code",
      "metadata": {
        "colab": {
          "base_uri": "https://localhost:8080/"
        },
        "id": "WcJzls1o1qbk",
        "outputId": "780886e9-8b03-4b50-b355-9505ecfe140a"
      },
      "source": [
        "# colab 사용자만 실행\n",
        "!sudo apt-get install -y fonts-nanum\n",
        "!sudo fc-cache -fv\n",
        "!rm ~/.cache/matplotlib -rf\n",
        "# 런타임 -> 런타임 다시 시작하고 아래 한글폰트 설정 시작\n",
        "# 위에서 csv 파일은 다시 불러와야함."
      ],
      "execution_count": null,
      "outputs": [
        {
          "output_type": "stream",
          "name": "stdout",
          "text": [
            "Reading package lists... Done\n",
            "Building dependency tree       \n",
            "Reading state information... Done\n",
            "The following NEW packages will be installed:\n",
            "  fonts-nanum\n",
            "0 upgraded, 1 newly installed, 0 to remove and 37 not upgraded.\n",
            "Need to get 9,604 kB of archives.\n",
            "After this operation, 29.5 MB of additional disk space will be used.\n",
            "Get:1 http://archive.ubuntu.com/ubuntu bionic/universe amd64 fonts-nanum all 20170925-1 [9,604 kB]\n",
            "Fetched 9,604 kB in 2s (5,362 kB/s)\n",
            "debconf: unable to initialize frontend: Dialog\n",
            "debconf: (No usable dialog-like program is installed, so the dialog based frontend cannot be used. at /usr/share/perl5/Debconf/FrontEnd/Dialog.pm line 76, <> line 1.)\n",
            "debconf: falling back to frontend: Readline\n",
            "debconf: unable to initialize frontend: Readline\n",
            "debconf: (This frontend requires a controlling tty.)\n",
            "debconf: falling back to frontend: Teletype\n",
            "dpkg-preconfigure: unable to re-open stdin: \n",
            "Selecting previously unselected package fonts-nanum.\n",
            "(Reading database ... 155047 files and directories currently installed.)\n",
            "Preparing to unpack .../fonts-nanum_20170925-1_all.deb ...\n",
            "Unpacking fonts-nanum (20170925-1) ...\n",
            "Setting up fonts-nanum (20170925-1) ...\n",
            "Processing triggers for fontconfig (2.12.6-0ubuntu2) ...\n",
            "/usr/share/fonts: caching, new cache contents: 0 fonts, 1 dirs\n",
            "/usr/share/fonts/truetype: caching, new cache contents: 0 fonts, 3 dirs\n",
            "/usr/share/fonts/truetype/humor-sans: caching, new cache contents: 1 fonts, 0 dirs\n",
            "/usr/share/fonts/truetype/liberation: caching, new cache contents: 16 fonts, 0 dirs\n",
            "/usr/share/fonts/truetype/nanum: caching, new cache contents: 10 fonts, 0 dirs\n",
            "/usr/local/share/fonts: caching, new cache contents: 0 fonts, 0 dirs\n",
            "/root/.local/share/fonts: skipping, no such directory\n",
            "/root/.fonts: skipping, no such directory\n",
            "/var/cache/fontconfig: cleaning cache directory\n",
            "/root/.cache/fontconfig: not cleaning non-existent cache directory\n",
            "/root/.fontconfig: not cleaning non-existent cache directory\n",
            "fc-cache: succeeded\n"
          ]
        }
      ]
    },
    {
      "cell_type": "code",
      "metadata": {
        "colab": {
          "base_uri": "https://localhost:8080/",
          "height": 586
        },
        "id": "kkAUWNL71skU",
        "outputId": "802fd3b7-bfb9-4321-eacc-54dfdbc92d9d"
      },
      "source": [
        "# matplotlib.pyplot 을 통해 한글폰트를 설정합니다.\n",
        "# plt.style.use 로 \"fivethirtyeight\" 스타일을 사용해 봅니다.\n",
        "\n",
        "import matplotlib.pyplot as plt\n",
        "import pandas as pd\n",
        "\n",
        "plt.rc('font', family='NanumBarunGothic') \n",
        "plt.style.use('fivethirtyeight')\n",
        "# 그래프에 retina display 적용\n",
        "%config InlineBackend.figure_format = 'retina'\n",
        "\n",
        "pd.Series([1,3,-5,2,8]).plot.bar(title='한글제목')"
      ],
      "execution_count": null,
      "outputs": [
        {
          "output_type": "execute_result",
          "data": {
            "text/plain": [
              "<matplotlib.axes._subplots.AxesSubplot at 0x7fb5f43d8250>"
            ]
          },
          "metadata": {},
          "execution_count": 6
        },
        {
          "output_type": "stream",
          "name": "stderr",
          "text": [
            "/usr/local/lib/python3.7/dist-packages/matplotlib/backends/backend_agg.py:214: RuntimeWarning: Glyph 54620 missing from current font.\n",
            "  font.set_text(s, 0.0, flags=flags)\n",
            "/usr/local/lib/python3.7/dist-packages/matplotlib/backends/backend_agg.py:214: RuntimeWarning: Glyph 44544 missing from current font.\n",
            "  font.set_text(s, 0.0, flags=flags)\n",
            "/usr/local/lib/python3.7/dist-packages/matplotlib/backends/backend_agg.py:214: RuntimeWarning: Glyph 51228 missing from current font.\n",
            "  font.set_text(s, 0.0, flags=flags)\n",
            "/usr/local/lib/python3.7/dist-packages/matplotlib/backends/backend_agg.py:214: RuntimeWarning: Glyph 47785 missing from current font.\n",
            "  font.set_text(s, 0.0, flags=flags)\n",
            "/usr/local/lib/python3.7/dist-packages/matplotlib/backends/backend_agg.py:183: RuntimeWarning: Glyph 54620 missing from current font.\n",
            "  font.set_text(s, 0, flags=flags)\n",
            "/usr/local/lib/python3.7/dist-packages/matplotlib/backends/backend_agg.py:183: RuntimeWarning: Glyph 44544 missing from current font.\n",
            "  font.set_text(s, 0, flags=flags)\n",
            "/usr/local/lib/python3.7/dist-packages/matplotlib/backends/backend_agg.py:183: RuntimeWarning: Glyph 51228 missing from current font.\n",
            "  font.set_text(s, 0, flags=flags)\n",
            "/usr/local/lib/python3.7/dist-packages/matplotlib/backends/backend_agg.py:183: RuntimeWarning: Glyph 47785 missing from current font.\n",
            "  font.set_text(s, 0, flags=flags)\n"
          ]
        },
        {
          "output_type": "display_data",
          "data": {
            "image/png": "[encoded data removed]",
            "text/plain": [
              "<Figure size 432x288 with 1 Axes>"
            ]
          },
          "metadata": {
            "image/png": {
              "width": 414,
              "height": 281
            }
          }
        }
      ]
    },
    {
      "cell_type": "code",
      "metadata": {
        "id": "VdjUSCP213X4"
      },
      "source": [
        "import warnings\n",
        "warnings.filterwarnings('ignore')"
      ],
      "execution_count": null,
      "outputs": []
    },
    {
      "cell_type": "code",
      "metadata": {
        "colab": {
          "base_uri": "https://localhost:8080/"
        },
        "id": "U8Mejk_b2Rn9",
        "outputId": "dd475591-ec61-41cb-a568-ca742a42d171"
      },
      "source": [
        "from google.colab import drive\n",
        "\n",
        "drive.mount('/content/drive')"
      ],
      "execution_count": null,
      "outputs": [
        {
          "output_type": "stream",
          "name": "stdout",
          "text": [
            "Mounted at /content/drive\n"
          ]
        }
      ]
    },
    {
      "cell_type": "code",
      "metadata": {
        "id": "jXQT8l8-2S-W"
      },
      "source": [
        "import pandas as pd\n",
        "\n",
        "CSP=pd.read_csv('/content/drive/MyDrive/2조/datasets/전처리/inout_merge.csv')"
      ],
      "execution_count": null,
      "outputs": []
    },
    {
      "cell_type": "code",
      "metadata": {
        "colab": {
          "base_uri": "https://localhost:8080/",
          "height": 419
        },
        "id": "BYGQXF562zjB",
        "outputId": "e0f31b1f-0132-4010-a8a2-768bddcd6b86"
      },
      "source": [
        "CSP"
      ],
      "execution_count": null,
      "outputs": [
        {
          "output_type": "execute_result",
          "data": {
            "text/html": [
              "<div>\n",
              "<style scoped>\n",
              "    .dataframe tbody tr th:only-of-type {\n",
              "        vertical-align: middle;\n",
              "    }\n",
              "\n",
              "    .dataframe tbody tr th {\n",
              "        vertical-align: top;\n",
              "    }\n",
              "\n",
              "    .dataframe thead th {\n",
              "        text-align: right;\n",
              "    }\n",
              "</style>\n",
              "<table border=\"1\" class=\"dataframe\">\n",
              "  <thead>\n",
              "    <tr style=\"text-align: right;\">\n",
              "      <th></th>\n",
              "      <th>kind</th>\n",
              "      <th>market</th>\n",
              "      <th>corp</th>\n",
              "      <th>wide</th>\n",
              "      <th>city</th>\n",
              "      <th>price</th>\n",
              "      <th>year</th>\n",
              "      <th>month</th>\n",
              "      <th>area</th>\n",
              "      <th>ratio</th>\n",
              "      <th>amount</th>\n",
              "      <th>weather</th>\n",
              "      <th>inn</th>\n",
              "      <th>out</th>\n",
              "    </tr>\n",
              "  </thead>\n",
              "  <tbody>\n",
              "    <tr>\n",
              "      <th>0</th>\n",
              "      <td>4</td>\n",
              "      <td>5</td>\n",
              "      <td>23</td>\n",
              "      <td>2</td>\n",
              "      <td>26</td>\n",
              "      <td>598.39</td>\n",
              "      <td>21</td>\n",
              "      <td>8</td>\n",
              "      <td>3159</td>\n",
              "      <td>9739</td>\n",
              "      <td>307653</td>\n",
              "      <td>영천</td>\n",
              "      <td>2027.112</td>\n",
              "      <td>271.105</td>\n",
              "    </tr>\n",
              "    <tr>\n",
              "      <th>1</th>\n",
              "      <td>4</td>\n",
              "      <td>5</td>\n",
              "      <td>79</td>\n",
              "      <td>2</td>\n",
              "      <td>26</td>\n",
              "      <td>662.87</td>\n",
              "      <td>21</td>\n",
              "      <td>8</td>\n",
              "      <td>3159</td>\n",
              "      <td>9739</td>\n",
              "      <td>307653</td>\n",
              "      <td>영천</td>\n",
              "      <td>2027.112</td>\n",
              "      <td>271.105</td>\n",
              "    </tr>\n",
              "    <tr>\n",
              "      <th>2</th>\n",
              "      <td>4</td>\n",
              "      <td>6</td>\n",
              "      <td>25</td>\n",
              "      <td>2</td>\n",
              "      <td>26</td>\n",
              "      <td>586.33</td>\n",
              "      <td>21</td>\n",
              "      <td>8</td>\n",
              "      <td>3159</td>\n",
              "      <td>9739</td>\n",
              "      <td>307653</td>\n",
              "      <td>영천</td>\n",
              "      <td>2027.112</td>\n",
              "      <td>271.105</td>\n",
              "    </tr>\n",
              "    <tr>\n",
              "      <th>3</th>\n",
              "      <td>4</td>\n",
              "      <td>17</td>\n",
              "      <td>48</td>\n",
              "      <td>2</td>\n",
              "      <td>26</td>\n",
              "      <td>766.64</td>\n",
              "      <td>21</td>\n",
              "      <td>8</td>\n",
              "      <td>3159</td>\n",
              "      <td>9739</td>\n",
              "      <td>307653</td>\n",
              "      <td>영천</td>\n",
              "      <td>2027.112</td>\n",
              "      <td>271.105</td>\n",
              "    </tr>\n",
              "    <tr>\n",
              "      <th>4</th>\n",
              "      <td>0</td>\n",
              "      <td>5</td>\n",
              "      <td>17</td>\n",
              "      <td>2</td>\n",
              "      <td>26</td>\n",
              "      <td>709.49</td>\n",
              "      <td>21</td>\n",
              "      <td>8</td>\n",
              "      <td>3159</td>\n",
              "      <td>9739</td>\n",
              "      <td>307653</td>\n",
              "      <td>영천</td>\n",
              "      <td>2027.112</td>\n",
              "      <td>271.105</td>\n",
              "    </tr>\n",
              "    <tr>\n",
              "      <th>...</th>\n",
              "      <td>...</td>\n",
              "      <td>...</td>\n",
              "      <td>...</td>\n",
              "      <td>...</td>\n",
              "      <td>...</td>\n",
              "      <td>...</td>\n",
              "      <td>...</td>\n",
              "      <td>...</td>\n",
              "      <td>...</td>\n",
              "      <td>...</td>\n",
              "      <td>...</td>\n",
              "      <td>...</td>\n",
              "      <td>...</td>\n",
              "      <td>...</td>\n",
              "    </tr>\n",
              "    <tr>\n",
              "      <th>26171</th>\n",
              "      <td>0</td>\n",
              "      <td>3</td>\n",
              "      <td>7</td>\n",
              "      <td>0</td>\n",
              "      <td>6</td>\n",
              "      <td>1302.47</td>\n",
              "      <td>16</td>\n",
              "      <td>1</td>\n",
              "      <td>217</td>\n",
              "      <td>6046</td>\n",
              "      <td>13120</td>\n",
              "      <td>서울</td>\n",
              "      <td>24407.001</td>\n",
              "      <td>1.000</td>\n",
              "    </tr>\n",
              "    <tr>\n",
              "      <th>26172</th>\n",
              "      <td>3</td>\n",
              "      <td>3</td>\n",
              "      <td>7</td>\n",
              "      <td>0</td>\n",
              "      <td>6</td>\n",
              "      <td>1013.94</td>\n",
              "      <td>16</td>\n",
              "      <td>1</td>\n",
              "      <td>217</td>\n",
              "      <td>6046</td>\n",
              "      <td>13120</td>\n",
              "      <td>서울</td>\n",
              "      <td>24407.001</td>\n",
              "      <td>1.000</td>\n",
              "    </tr>\n",
              "    <tr>\n",
              "      <th>26173</th>\n",
              "      <td>3</td>\n",
              "      <td>5</td>\n",
              "      <td>23</td>\n",
              "      <td>5</td>\n",
              "      <td>23</td>\n",
              "      <td>979.14</td>\n",
              "      <td>16</td>\n",
              "      <td>1</td>\n",
              "      <td>21</td>\n",
              "      <td>7445</td>\n",
              "      <td>1564</td>\n",
              "      <td>부산</td>\n",
              "      <td>24407.001</td>\n",
              "      <td>1.000</td>\n",
              "    </tr>\n",
              "    <tr>\n",
              "      <th>26174</th>\n",
              "      <td>1</td>\n",
              "      <td>15</td>\n",
              "      <td>44</td>\n",
              "      <td>9</td>\n",
              "      <td>19</td>\n",
              "      <td>1700.00</td>\n",
              "      <td>16</td>\n",
              "      <td>1</td>\n",
              "      <td>453</td>\n",
              "      <td>6270</td>\n",
              "      <td>28405</td>\n",
              "      <td>서산</td>\n",
              "      <td>24407.001</td>\n",
              "      <td>1.000</td>\n",
              "    </tr>\n",
              "    <tr>\n",
              "      <th>26175</th>\n",
              "      <td>7</td>\n",
              "      <td>1</td>\n",
              "      <td>5</td>\n",
              "      <td>8</td>\n",
              "      <td>18</td>\n",
              "      <td>1368.42</td>\n",
              "      <td>16</td>\n",
              "      <td>1</td>\n",
              "      <td>1566</td>\n",
              "      <td>6458</td>\n",
              "      <td>101134</td>\n",
              "      <td>서귀포</td>\n",
              "      <td>24407.001</td>\n",
              "      <td>1.000</td>\n",
              "    </tr>\n",
              "  </tbody>\n",
              "</table>\n",
              "<p>26176 rows × 14 columns</p>\n",
              "</div>"
            ],
            "text/plain": [
              "       kind  market  corp  wide  ...  amount  weather        inn      out\n",
              "0         4       5    23     2  ...  307653       영천   2027.112  271.105\n",
              "1         4       5    79     2  ...  307653       영천   2027.112  271.105\n",
              "2         4       6    25     2  ...  307653       영천   2027.112  271.105\n",
              "3         4      17    48     2  ...  307653       영천   2027.112  271.105\n",
              "4         0       5    17     2  ...  307653       영천   2027.112  271.105\n",
              "...     ...     ...   ...   ...  ...     ...      ...        ...      ...\n",
              "26171     0       3     7     0  ...   13120       서울  24407.001    1.000\n",
              "26172     3       3     7     0  ...   13120       서울  24407.001    1.000\n",
              "26173     3       5    23     5  ...    1564       부산  24407.001    1.000\n",
              "26174     1      15    44     9  ...   28405       서산  24407.001    1.000\n",
              "26175     7       1     5     8  ...  101134      서귀포  24407.001    1.000\n",
              "\n",
              "[26176 rows x 14 columns]"
            ]
          },
          "metadata": {},
          "execution_count": 10
        }
      ]
    },
    {
      "cell_type": "code",
      "metadata": {
        "id": "VLKh44rO20Kr"
      },
      "source": [
        "from sklearn.preprocessing import LabelEncoder\n",
        "\n",
        "LE=LabelEncoder()\n",
        "CSP['weather']=LE.fit_transform(CSP['weather'])"
      ],
      "execution_count": null,
      "outputs": []
    },
    {
      "cell_type": "code",
      "metadata": {
        "colab": {
          "base_uri": "https://localhost:8080/",
          "height": 419
        },
        "id": "uHB2Kha657Nh",
        "outputId": "58d03c55-df7c-481c-d8a0-34e683472acb"
      },
      "source": [
        "CSP"
      ],
      "execution_count": null,
      "outputs": [
        {
          "output_type": "execute_result",
          "data": {
            "text/html": [
              "<div>\n",
              "<style scoped>\n",
              "    .dataframe tbody tr th:only-of-type {\n",
              "        vertical-align: middle;\n",
              "    }\n",
              "\n",
              "    .dataframe tbody tr th {\n",
              "        vertical-align: top;\n",
              "    }\n",
              "\n",
              "    .dataframe thead th {\n",
              "        text-align: right;\n",
              "    }\n",
              "</style>\n",
              "<table border=\"1\" class=\"dataframe\">\n",
              "  <thead>\n",
              "    <tr style=\"text-align: right;\">\n",
              "      <th></th>\n",
              "      <th>kind</th>\n",
              "      <th>market</th>\n",
              "      <th>corp</th>\n",
              "      <th>wide</th>\n",
              "      <th>city</th>\n",
              "      <th>price</th>\n",
              "      <th>year</th>\n",
              "      <th>month</th>\n",
              "      <th>area</th>\n",
              "      <th>ratio</th>\n",
              "      <th>amount</th>\n",
              "      <th>weather</th>\n",
              "      <th>inn</th>\n",
              "      <th>out</th>\n",
              "    </tr>\n",
              "  </thead>\n",
              "  <tbody>\n",
              "    <tr>\n",
              "      <th>0</th>\n",
              "      <td>4</td>\n",
              "      <td>5</td>\n",
              "      <td>23</td>\n",
              "      <td>2</td>\n",
              "      <td>26</td>\n",
              "      <td>598.39</td>\n",
              "      <td>21</td>\n",
              "      <td>8</td>\n",
              "      <td>3159</td>\n",
              "      <td>9739</td>\n",
              "      <td>307653</td>\n",
              "      <td>23</td>\n",
              "      <td>2027.112</td>\n",
              "      <td>271.105</td>\n",
              "    </tr>\n",
              "    <tr>\n",
              "      <th>1</th>\n",
              "      <td>4</td>\n",
              "      <td>5</td>\n",
              "      <td>79</td>\n",
              "      <td>2</td>\n",
              "      <td>26</td>\n",
              "      <td>662.87</td>\n",
              "      <td>21</td>\n",
              "      <td>8</td>\n",
              "      <td>3159</td>\n",
              "      <td>9739</td>\n",
              "      <td>307653</td>\n",
              "      <td>23</td>\n",
              "      <td>2027.112</td>\n",
              "      <td>271.105</td>\n",
              "    </tr>\n",
              "    <tr>\n",
              "      <th>2</th>\n",
              "      <td>4</td>\n",
              "      <td>6</td>\n",
              "      <td>25</td>\n",
              "      <td>2</td>\n",
              "      <td>26</td>\n",
              "      <td>586.33</td>\n",
              "      <td>21</td>\n",
              "      <td>8</td>\n",
              "      <td>3159</td>\n",
              "      <td>9739</td>\n",
              "      <td>307653</td>\n",
              "      <td>23</td>\n",
              "      <td>2027.112</td>\n",
              "      <td>271.105</td>\n",
              "    </tr>\n",
              "    <tr>\n",
              "      <th>3</th>\n",
              "      <td>4</td>\n",
              "      <td>17</td>\n",
              "      <td>48</td>\n",
              "      <td>2</td>\n",
              "      <td>26</td>\n",
              "      <td>766.64</td>\n",
              "      <td>21</td>\n",
              "      <td>8</td>\n",
              "      <td>3159</td>\n",
              "      <td>9739</td>\n",
              "      <td>307653</td>\n",
              "      <td>23</td>\n",
              "      <td>2027.112</td>\n",
              "      <td>271.105</td>\n",
              "    </tr>\n",
              "    <tr>\n",
              "      <th>4</th>\n",
              "      <td>0</td>\n",
              "      <td>5</td>\n",
              "      <td>17</td>\n",
              "      <td>2</td>\n",
              "      <td>26</td>\n",
              "      <td>709.49</td>\n",
              "      <td>21</td>\n",
              "      <td>8</td>\n",
              "      <td>3159</td>\n",
              "      <td>9739</td>\n",
              "      <td>307653</td>\n",
              "      <td>23</td>\n",
              "      <td>2027.112</td>\n",
              "      <td>271.105</td>\n",
              "    </tr>\n",
              "    <tr>\n",
              "      <th>...</th>\n",
              "      <td>...</td>\n",
              "      <td>...</td>\n",
              "      <td>...</td>\n",
              "      <td>...</td>\n",
              "      <td>...</td>\n",
              "      <td>...</td>\n",
              "      <td>...</td>\n",
              "      <td>...</td>\n",
              "      <td>...</td>\n",
              "      <td>...</td>\n",
              "      <td>...</td>\n",
              "      <td>...</td>\n",
              "      <td>...</td>\n",
              "      <td>...</td>\n",
              "    </tr>\n",
              "    <tr>\n",
              "      <th>26171</th>\n",
              "      <td>0</td>\n",
              "      <td>3</td>\n",
              "      <td>7</td>\n",
              "      <td>0</td>\n",
              "      <td>6</td>\n",
              "      <td>1302.47</td>\n",
              "      <td>16</td>\n",
              "      <td>1</td>\n",
              "      <td>217</td>\n",
              "      <td>6046</td>\n",
              "      <td>13120</td>\n",
              "      <td>18</td>\n",
              "      <td>24407.001</td>\n",
              "      <td>1.000</td>\n",
              "    </tr>\n",
              "    <tr>\n",
              "      <th>26172</th>\n",
              "      <td>3</td>\n",
              "      <td>3</td>\n",
              "      <td>7</td>\n",
              "      <td>0</td>\n",
              "      <td>6</td>\n",
              "      <td>1013.94</td>\n",
              "      <td>16</td>\n",
              "      <td>1</td>\n",
              "      <td>217</td>\n",
              "      <td>6046</td>\n",
              "      <td>13120</td>\n",
              "      <td>18</td>\n",
              "      <td>24407.001</td>\n",
              "      <td>1.000</td>\n",
              "    </tr>\n",
              "    <tr>\n",
              "      <th>26173</th>\n",
              "      <td>3</td>\n",
              "      <td>5</td>\n",
              "      <td>23</td>\n",
              "      <td>5</td>\n",
              "      <td>23</td>\n",
              "      <td>979.14</td>\n",
              "      <td>16</td>\n",
              "      <td>1</td>\n",
              "      <td>21</td>\n",
              "      <td>7445</td>\n",
              "      <td>1564</td>\n",
              "      <td>11</td>\n",
              "      <td>24407.001</td>\n",
              "      <td>1.000</td>\n",
              "    </tr>\n",
              "    <tr>\n",
              "      <th>26174</th>\n",
              "      <td>1</td>\n",
              "      <td>15</td>\n",
              "      <td>44</td>\n",
              "      <td>9</td>\n",
              "      <td>19</td>\n",
              "      <td>1700.00</td>\n",
              "      <td>16</td>\n",
              "      <td>1</td>\n",
              "      <td>453</td>\n",
              "      <td>6270</td>\n",
              "      <td>28405</td>\n",
              "      <td>17</td>\n",
              "      <td>24407.001</td>\n",
              "      <td>1.000</td>\n",
              "    </tr>\n",
              "    <tr>\n",
              "      <th>26175</th>\n",
              "      <td>7</td>\n",
              "      <td>1</td>\n",
              "      <td>5</td>\n",
              "      <td>8</td>\n",
              "      <td>18</td>\n",
              "      <td>1368.42</td>\n",
              "      <td>16</td>\n",
              "      <td>1</td>\n",
              "      <td>1566</td>\n",
              "      <td>6458</td>\n",
              "      <td>101134</td>\n",
              "      <td>16</td>\n",
              "      <td>24407.001</td>\n",
              "      <td>1.000</td>\n",
              "    </tr>\n",
              "  </tbody>\n",
              "</table>\n",
              "<p>26176 rows × 14 columns</p>\n",
              "</div>"
            ],
            "text/plain": [
              "       kind  market  corp  wide  ...  amount  weather        inn      out\n",
              "0         4       5    23     2  ...  307653       23   2027.112  271.105\n",
              "1         4       5    79     2  ...  307653       23   2027.112  271.105\n",
              "2         4       6    25     2  ...  307653       23   2027.112  271.105\n",
              "3         4      17    48     2  ...  307653       23   2027.112  271.105\n",
              "4         0       5    17     2  ...  307653       23   2027.112  271.105\n",
              "...     ...     ...   ...   ...  ...     ...      ...        ...      ...\n",
              "26171     0       3     7     0  ...   13120       18  24407.001    1.000\n",
              "26172     3       3     7     0  ...   13120       18  24407.001    1.000\n",
              "26173     3       5    23     5  ...    1564       11  24407.001    1.000\n",
              "26174     1      15    44     9  ...   28405       17  24407.001    1.000\n",
              "26175     7       1     5     8  ...  101134       16  24407.001    1.000\n",
              "\n",
              "[26176 rows x 14 columns]"
            ]
          },
          "metadata": {},
          "execution_count": 12
        }
      ]
    },
    {
      "cell_type": "code",
      "metadata": {
        "id": "tCCrzhu69ymg"
      },
      "source": [
        "CSP.to_csv('/content/drive/MyDrive/2조/datasets/전처리/inout_merge_LabelEncode_weather_column.csv')"
      ],
      "execution_count": null,
      "outputs": []
    },
    {
      "cell_type": "code",
      "metadata": {
        "colab": {
          "base_uri": "https://localhost:8080/"
        },
        "id": "nQ1wCq6i-d26",
        "outputId": "5bf91bd8-1587-420a-81e1-216a9ff0dd7e"
      },
      "source": [
        "from sklearn.model_selection import train_test_split\n",
        "\n",
        "train, test = train_test_split(CSP,\n",
        "                               test_size = 0.2,\n",
        "                               random_state = 2045)\n",
        "\n",
        "train.shape, test.shape"
      ],
      "execution_count": null,
      "outputs": [
        {
          "output_type": "execute_result",
          "data": {
            "text/plain": [
              "((20940, 14), (5236, 14))"
            ]
          },
          "metadata": {},
          "execution_count": 14
        }
      ]
    },
    {
      "cell_type": "code",
      "metadata": {
        "id": "WnWjB_Av-wNy"
      },
      "source": [
        "train.to_csv('/content/drive/MyDrive/2조/datasets/전처리/train_inout_merge_random_state2045.csv')\n",
        "test.to_csv('/content/drive/MyDrive/2조/datasets/전처리/test_inout_merge_random_state2045.csv')"
      ],
      "execution_count": null,
      "outputs": []
    },
    {
      "cell_type": "markdown",
      "metadata": {
        "id": "ObRuRzgA81Rn"
      },
      "source": [
        "# RandomforestRefressor"
      ]
    },
    {
      "cell_type": "code",
      "metadata": {
        "id": "Vlb3OnG7B0pb"
      },
      "source": [
        "train=pd.read_csv('/content/drive/MyDrive/2조/datasets/전처리/train_inout_merge_random_state2045.csv')\n",
        "test=pd.read_csv('/content/drive/MyDrive/2조/datasets/전처리/test_inout_merge_random_state2045.csv')"
      ],
      "execution_count": null,
      "outputs": []
    },
    {
      "cell_type": "code",
      "metadata": {
        "id": "Jwn6_671FQWv"
      },
      "source": [
        "train.drop(columns=['Unnamed: 0'],inplace=True)\n",
        "test.drop(columns=['Unnamed: 0'],inplace=True)"
      ],
      "execution_count": null,
      "outputs": []
    },
    {
      "cell_type": "code",
      "metadata": {
        "colab": {
          "base_uri": "https://localhost:8080/"
        },
        "id": "M6EshMKcDBDv",
        "outputId": "8cc78de4-0c7d-4690-bd74-4da75e57943a"
      },
      "source": [
        "import sklearn\n",
        "sklearn.metrics.SCORERS.keys()"
      ],
      "execution_count": null,
      "outputs": [
        {
          "output_type": "execute_result",
          "data": {
            "text/plain": [
              "dict_keys(['explained_variance', 'r2', 'max_error', 'neg_median_absolute_error', 'neg_mean_absolute_error', 'neg_mean_squared_error', 'neg_mean_squared_log_error', 'neg_root_mean_squared_error', 'neg_mean_poisson_deviance', 'neg_mean_gamma_deviance', 'accuracy', 'roc_auc', 'roc_auc_ovr', 'roc_auc_ovo', 'roc_auc_ovr_weighted', 'roc_auc_ovo_weighted', 'balanced_accuracy', 'average_precision', 'neg_log_loss', 'neg_brier_score', 'adjusted_rand_score', 'homogeneity_score', 'completeness_score', 'v_measure_score', 'mutual_info_score', 'adjusted_mutual_info_score', 'normalized_mutual_info_score', 'fowlkes_mallows_score', 'precision', 'precision_macro', 'precision_micro', 'precision_samples', 'precision_weighted', 'recall', 'recall_macro', 'recall_micro', 'recall_samples', 'recall_weighted', 'f1', 'f1_macro', 'f1_micro', 'f1_samples', 'f1_weighted', 'jaccard', 'jaccard_macro', 'jaccard_micro', 'jaccard_samples', 'jaccard_weighted'])"
            ]
          },
          "metadata": {},
          "execution_count": 26
        }
      ]
    },
    {
      "cell_type": "markdown",
      "metadata": {
        "id": "eiyLtOKiPK5a"
      },
      "source": [
        "## all_columns"
      ]
    },
    {
      "cell_type": "code",
      "metadata": {
        "id": "UOzRCXJ2IaQI"
      },
      "source": [
        "X_train=train.drop(columns=['price'])\n",
        "y_train=train['price']"
      ],
      "execution_count": null,
      "outputs": []
    },
    {
      "cell_type": "code",
      "metadata": {
        "id": "ku2GdpKg58Gl"
      },
      "source": [
        "from sklearn.ensemble import RandomForestRegressor\n",
        "from sklearn.model_selection import cross_val_score\n",
        "\n",
        "RF=RandomForestRegressor(random_state=2045)\n",
        "\n",
        "scores=cross_val_score(RF,\n",
        "                       X_train,\n",
        "                       y_train,\n",
        "                       scoring='neg_mean_squared_error',\n",
        "                       cv=5)\n"
      ],
      "execution_count": null,
      "outputs": []
    },
    {
      "cell_type": "code",
      "metadata": {
        "colab": {
          "base_uri": "https://localhost:8080/"
        },
        "id": "ACjKK4E-BqEH",
        "outputId": "209f4ab0-81d5-4ea1-c56b-e31796bd0c6c"
      },
      "source": [
        "import numpy as np\n",
        "np.sqrt(-scores.mean())"
      ],
      "execution_count": null,
      "outputs": [
        {
          "output_type": "execute_result",
          "data": {
            "text/plain": [
              "1550.5531456678582"
            ]
          },
          "metadata": {},
          "execution_count": 45
        }
      ]
    },
    {
      "cell_type": "markdown",
      "metadata": {
        "id": "2SwFOamLPXG2"
      },
      "source": [
        "## wide, year 제거"
      ]
    },
    {
      "cell_type": "code",
      "metadata": {
        "id": "7NTivoexNmkc"
      },
      "source": [
        "X_train=train.drop(columns=['price','wide','year'])\n",
        "y_train=train['price']"
      ],
      "execution_count": null,
      "outputs": []
    },
    {
      "cell_type": "code",
      "metadata": {
        "id": "DDEFqpVEPmqx"
      },
      "source": [
        "from sklearn.ensemble import RandomForestRegressor\n",
        "from sklearn.model_selection import cross_val_score\n",
        "\n",
        "RF=RandomForestRegressor(random_state=2045)\n",
        "\n",
        "scores=cross_val_score(RF,\n",
        "                       X_train,\n",
        "                       y_train,\n",
        "                       scoring='neg_mean_squared_error',\n",
        "                       cv=5)\n"
      ],
      "execution_count": null,
      "outputs": []
    },
    {
      "cell_type": "code",
      "metadata": {
        "colab": {
          "base_uri": "https://localhost:8080/"
        },
        "id": "fHJ1X8iQQBsI",
        "outputId": "bea5d907-f9b2-4527-cfb5-6d0f4f131185"
      },
      "source": [
        "import numpy as np\n",
        "np.sqrt(-scores.mean())"
      ],
      "execution_count": null,
      "outputs": [
        {
          "output_type": "execute_result",
          "data": {
            "text/plain": [
              "1539.9604646868706"
            ]
          },
          "metadata": {},
          "execution_count": 59
        }
      ]
    },
    {
      "cell_type": "code",
      "metadata": {
        "id": "v-KzcigdUOg0"
      },
      "source": [
        "X_train=train.drop(columns=['price','wide','year'])\n",
        "y_train=train['price']"
      ],
      "execution_count": null,
      "outputs": []
    },
    {
      "cell_type": "code",
      "metadata": {
        "colab": {
          "base_uri": "https://localhost:8080/"
        },
        "id": "D4l0FJK2UW-u",
        "outputId": "8dc1d4b5-eb57-4fc0-ed5a-e872fb9000ed"
      },
      "source": [
        "RF=RandomForestRegressor(random_state=2045)\n",
        "RF.fit(X_train, y_train)"
      ],
      "execution_count": null,
      "outputs": [
        {
          "output_type": "execute_result",
          "data": {
            "text/plain": [
              "RandomForestRegressor(bootstrap=True, ccp_alpha=0.0, criterion='mse',\n",
              "                      max_depth=None, max_features='auto', max_leaf_nodes=None,\n",
              "                      max_samples=None, min_impurity_decrease=0.0,\n",
              "                      min_impurity_split=None, min_samples_leaf=1,\n",
              "                      min_samples_split=2, min_weight_fraction_leaf=0.0,\n",
              "                      n_estimators=100, n_jobs=None, oob_score=False,\n",
              "                      random_state=2045, verbose=0, warm_start=False)"
            ]
          },
          "metadata": {},
          "execution_count": 75
        }
      ]
    },
    {
      "cell_type": "code",
      "metadata": {
        "id": "_Ni6-WULUW9D"
      },
      "source": [
        "X_test=test.drop(columns=['price','wide','year'])\n",
        "y=test['price']\n",
        "\n",
        "yhat=RF.predict(X_test)"
      ],
      "execution_count": null,
      "outputs": []
    },
    {
      "cell_type": "code",
      "metadata": {
        "colab": {
          "base_uri": "https://localhost:8080/"
        },
        "id": "qK5IIfOEUwGs",
        "outputId": "19ca5e4c-bc9b-473e-9468-4ce7976b8b8c"
      },
      "source": [
        "from sklearn.metrics import mean_squared_error\n",
        "import numpy as np\n",
        "\n",
        "mse = mean_squared_error(y, yhat)\n",
        "np.sqrt(mse)"
      ],
      "execution_count": null,
      "outputs": [
        {
          "output_type": "execute_result",
          "data": {
            "text/plain": [
              "1468.2843044937122"
            ]
          },
          "metadata": {},
          "execution_count": 79
        }
      ]
    },
    {
      "cell_type": "markdown",
      "metadata": {
        "id": "a7-lpTsVPsDU"
      },
      "source": [
        "## feature importance"
      ]
    },
    {
      "cell_type": "code",
      "metadata": {
        "id": "cOMzORv4QaYd"
      },
      "source": [
        ""
      ],
      "execution_count": null,
      "outputs": []
    },
    {
      "cell_type": "markdown",
      "metadata": {
        "id": "jsi0jbQTVGzx"
      },
      "source": [
        "# XGBRegressor"
      ]
    },
    {
      "cell_type": "code",
      "metadata": {
        "id": "lXE2niKWVkly"
      },
      "source": [
        "train=pd.read_csv('/content/drive/MyDrive/2조/datasets/전처리/train_inout_merge_random_state2045.csv')\n",
        "test=pd.read_csv('/content/drive/MyDrive/2조/datasets/전처리/test_inout_merge_random_state2045.csv')\n",
        "\n",
        "train.drop(columns=['Unnamed: 0'],inplace=True)\n",
        "test.drop(columns=['Unnamed: 0'],inplace=True)"
      ],
      "execution_count": null,
      "outputs": []
    },
    {
      "cell_type": "markdown",
      "metadata": {
        "id": "S0bleYRLV_sT"
      },
      "source": [
        "## all_columns"
      ]
    },
    {
      "cell_type": "code",
      "metadata": {
        "id": "lFgarITOWmI2"
      },
      "source": [
        "X_train=train.drop(columns=['price'])\n",
        "y_train=train['price']"
      ],
      "execution_count": null,
      "outputs": []
    },
    {
      "cell_type": "code",
      "metadata": {
        "colab": {
          "base_uri": "https://localhost:8080/"
        },
        "id": "CpxUIRU5VGqY",
        "outputId": "d9a900b3-c85c-48f2-f79d-f867f80df640"
      },
      "source": [
        "from xgboost import XGBRegressor\n",
        "from sklearn.model_selection import cross_val_score\n",
        "\n",
        "XGB=XGBRegressor()\n",
        "\n",
        "scores=cross_val_score(XGB,\n",
        "                       X_train,\n",
        "                       y_train,\n",
        "                       scoring='neg_mean_squared_error',\n",
        "                       cv=5)"
      ],
      "execution_count": null,
      "outputs": [
        {
          "output_type": "stream",
          "name": "stdout",
          "text": [
            "[07:16:28] WARNING: /workspace/src/objective/regression_obj.cu:152: reg:linear is now deprecated in favor of reg:squarederror.\n",
            "[07:16:29] WARNING: /workspace/src/objective/regression_obj.cu:152: reg:linear is now deprecated in favor of reg:squarederror.\n",
            "[07:16:30] WARNING: /workspace/src/objective/regression_obj.cu:152: reg:linear is now deprecated in favor of reg:squarederror.\n",
            "[07:16:31] WARNING: /workspace/src/objective/regression_obj.cu:152: reg:linear is now deprecated in favor of reg:squarederror.\n",
            "[07:16:32] WARNING: /workspace/src/objective/regression_obj.cu:152: reg:linear is now deprecated in favor of reg:squarederror.\n"
          ]
        }
      ]
    },
    {
      "cell_type": "code",
      "metadata": {
        "id": "FTL_zH8GVGUX"
      },
      "source": [
        "import numpy as np\n",
        "np.sqrt(-scores.mean())"
      ],
      "execution_count": null,
      "outputs": []
    },
    {
      "cell_type": "markdown",
      "metadata": {
        "id": "qyOfKPiQQ7nG"
      },
      "source": [
        "# OLS"
      ]
    },
    {
      "cell_type": "markdown",
      "metadata": {
        "id": "Qt8fWskSREyU"
      },
      "source": [
        "## all columns\n",
        "\n",
        "*   승연님 하신 거에서 whether column 추가\n",
        "\n"
      ]
    },
    {
      "cell_type": "code",
      "metadata": {
        "id": "ETsyfiBeQ9SM"
      },
      "source": [
        "import statsmodels.formula.api as smf\n",
        "\n",
        "OLS = smf.ols(formula = 'price ~ kind + market + corp + wide + city + year + month + area + ratio + amount + weather + inn + out',\n",
        "                data = train).fit()\n",
        "yhat = OLS.predict(test[['kind', 'market', 'corp', 'wide', 'city', 'year',\n",
        "                         'month', 'area', 'ratio', 'amount','weather', 'inn', 'out']])"
      ],
      "execution_count": null,
      "outputs": []
    },
    {
      "cell_type": "code",
      "metadata": {
        "colab": {
          "base_uri": "https://localhost:8080/"
        },
        "id": "bARxIQ6RRdbq",
        "outputId": "9377d58a-6e25-4728-d307-99220c8bec8a"
      },
      "source": [
        "from sklearn.metrics import mean_squared_error\n",
        "import numpy as np\n",
        "\n",
        "mse = mean_squared_error(test['price'], yhat)\n",
        "np.sqrt(mse)"
      ],
      "execution_count": null,
      "outputs": [
        {
          "output_type": "execute_result",
          "data": {
            "text/plain": [
              "263.2228124028964"
            ]
          },
          "metadata": {},
          "execution_count": 68
        }
      ]
    },
    {
      "cell_type": "markdown",
      "metadata": {
        "id": "o_mFboyTSi46"
      },
      "source": [
        "## wide, year 제거"
      ]
    },
    {
      "cell_type": "code",
      "metadata": {
        "id": "Km8RZKBdShNN"
      },
      "source": [
        "OLS2 = smf.ols(formula = 'price ~ kind + market + corp + city + month + area + ratio + amount + weather + inn + out',\n",
        "                data = train).fit()\n",
        "yhat2 = OLS2.predict(test[['kind', 'market', 'corp', 'city',\n",
        "                         'month', 'area', 'ratio', 'amount','weather', 'inn', 'out']])"
      ],
      "execution_count": null,
      "outputs": []
    },
    {
      "cell_type": "code",
      "metadata": {
        "colab": {
          "base_uri": "https://localhost:8080/"
        },
        "id": "kaBVk_8JSYI9",
        "outputId": "3e7b53b1-80c4-4e5e-a073-76189d12fc2a"
      },
      "source": [
        "mse2 = mean_squared_error(test['price'], yhat2)\n",
        "np.sqrt(mse2)"
      ],
      "execution_count": null,
      "outputs": [
        {
          "output_type": "execute_result",
          "data": {
            "text/plain": [
              "266.39639010394507"
            ]
          },
          "metadata": {},
          "execution_count": 78
        }
      ]
    }
  ]
}